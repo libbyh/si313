{
 "cells": [
  {
   "cell_type": "markdown",
   "id": "33369d61",
   "metadata": {},
   "source": [
    "# Activity 5: Law of Large Numbers and Central Limit Theorem\n",
    "In this activity, we will learn about \n",
    "1. Statstical simulation\n",
    "2. Graphing\n",
    "3. Understanding sampling bias\n"
   ]
  },
  {
   "cell_type": "markdown",
   "id": "b06766e6",
   "metadata": {},
   "source": [
    "## Part 1: Simulated Survey Data\n",
    "\n",
    "Imagine you are running a UX study for a new app feature. You survey users with the question:\n",
    "\n",
    "> **\"Were you satisfied with this product?\"**  \n",
    "\n",
    "This question has a **binary outcome** — users either say \"Yes\" (satisfied) or \"No\" (not satisfied).\n",
    "\n",
    "We will start by generating a **simulated population dataset** of 1,000 users, where 70% of users are satisfied. This will represent the *true population* from which we will later draw samples.\n",
    "\n",
    "Let's build up to this by doing a series of exercises to learn about the random.choice function from the numpy library and the DataFrame function in the pandas library. \n"
   ]
  },
  {
   "cell_type": "code",
   "execution_count": 1,
   "id": "a6895b04",
   "metadata": {},
   "outputs": [],
   "source": [
    "# Import numpy, pandas, matplotlib and seaborn\n",
    "\n",
    "# Set a random seed \n",
    "\n",
    "# Let's learn about np.random.choice \n",
    "# Read documentation: https://numpy.org/doc/stable/reference/random/generated/numpy.random.choice.html \n",
    "\n",
    "# Generate a single random choice between 0 and 1 \n",
    "\n",
    "# Generate a random choice between ['Satisfied','Not Satisfied']\n",
    "\n",
    "# Generate 10 random choices between 0 and 1\n",
    "\n",
    "# Generate 10 random chocies between 0 and 1 where 1 is chosen 90% of the time \n",
    "\n",
    "# What kind of object does np.random.choice generate in python? \n",
    "\n",
    "# Let's learn about the DataFrame function from the pandas library\n",
    "# Read documentation: https://pandas.pydata.org/docs/reference/api/pandas.DataFrame.html\n",
    "\n",
    "# Generate a pandas DataFrame composed of 10 random choices between 0 and 1 where 1 is chosen 60% of the time \n",
    "\n",
    "# What kind of object does DataFrame generate in python? \n",
    "\n",
    "# Generate a pandas DataFrame \n",
    "# * composed of 1000 random choices \n",
    "# * between 0 and 1 \n",
    "# where 1 is chosen 70% of the time  \n",
    "# and the column is called satisfaction \n",
    "# To do this, let's define variables for 'population size' and 'satisfaction probability'\n",
    "# Call the dataset \"population\"\n",
    "\n",
    "# Inspect the first 10 rows of this dataframe \n",
    "\n",
    "# Inspect 10 rows in the middle of this dataframe\n",
    "\n",
    "# Print the length of this dataframe using a formatted string \n"
   ]
  },
  {
   "cell_type": "markdown",
   "id": "b6508d9d",
   "metadata": {},
   "source": [
    "## Part 2: Sampling from the Population\n",
    "\n",
    "In real research, we usually **don’t have data from the entire population**.  \n",
    "Instead, we take a **sample** — a smaller subset of people — and try to use it to learn about the population.\n",
    "\n",
    "Let’s see what happens when we draw random samples from our `df` DataFrame.\n",
    "\n",
    "We’ll start small (10 people), and then try larger samples (like 100 or 500 people) to see how the sample average compares to the true population average.\n"
   ]
  },
  {
   "cell_type": "code",
   "execution_count": 2,
   "id": "0b3ff2ad",
   "metadata": {},
   "outputs": [],
   "source": [
    "# Calculate and print the true population mean, rounding to 2 digits. \n",
    "\n",
    "# Let's use the .sample function from the pandas library to sample 10 \n",
    "# Documentation: https://pandas.pydata.org/docs/reference/api/pandas.DataFrame.sample.html \n",
    "\n",
    "# Use .sample and .mean to compute the mean of a sample of 20 observations\n",
    "\n",
    "# Let's write a function that:\n",
    "# - takes two arguments: a one column dataset and sample size \n",
    "# - and returns: the mean\n",
    "\n",
    "# Run the function to get the mean of a sample of 30 observations\n"
   ]
  },
  {
   "cell_type": "markdown",
   "id": "9c8727d7",
   "metadata": {},
   "source": [
    "## Part 3: Visualizing the Law of Large Numbers\n",
    "\n",
    "The **Law of Large Numbers** says that as we take larger and larger samples from a population,  \n",
    "our sample mean should get closer to the *true population mean.*\n",
    "\n",
    "Let’s see this visually.\n",
    "\n",
    "We’ll:\n",
    "1. Take samples of increasing size (10, 20, 30, … up to 1000).\n",
    "2. Compute the mean for each sample.\n",
    "3. Plot those means to see how they behave as the sample grows.\n"
   ]
  },
  {
   "cell_type": "code",
   "execution_count": 3,
   "id": "666d4f4f",
   "metadata": {},
   "outputs": [],
   "source": [
    "# Create a list of sample sizes from 10 to 1000, going by 10, using the range() function\n",
    "### Documentation: https://docs.python.org/3/library/stdtypes.html#typesseq-range \n",
    "\n",
    "# Inspect the 9th item in the list \n",
    "\n",
    "### Aside: List Comprehension \n",
    "# Create a range from 1 to 10 \n",
    "\n",
    "# Create a for loop to print 10 * each value in the range\n",
    "\n",
    "# Create a list containin 10 times each value in the range using \"list comprehension\"\n",
    "\n",
    "# Print the 7th element of the list \n",
    "\n",
    "### Aside Concluded ### \n",
    "# Using List Comprehension, apply custom function to each sample size \n",
    "\n",
    "# Create a plot with : \n",
    "# - y axis sample size\n",
    "# - x axis \n",
    "# - red dashed line for population mean (axhline)\n",
    "# - label x and y axis \n"
   ]
  },
  {
   "cell_type": "markdown",
   "id": "0d4d0a31",
   "metadata": {},
   "source": [
    "## Part 4: The Central Limit Theorem (CLT)\n",
    "\n",
    "The **Central Limit Theorem (CLT)** goes one step further.\n",
    "\n",
    "It says that if we take **many random samples** from a population and compute the **mean** of each sample,  \n",
    "those means will form a **normal (bell-shaped) distribution** — even if the original data are not normal.\n",
    "\n",
    "Let’s see this in action by:\n",
    "1. Repeatedly taking samples of size 50 from our population.\n",
    "2. Storing the mean of each sample.\n",
    "3. Plotting the distribution of those sample means.\n"
   ]
  },
  {
   "cell_type": "code",
   "execution_count": 4,
   "id": "6f7f9568",
   "metadata": {},
   "outputs": [],
   "source": [
    "# Using List Comprehension and range(), compute the mean of 10 samples of length 20. Print these with a for loop. \n",
    "\n",
    "# Use the same method to create a dataset of 3000 means drawn using 50 observations \n",
    "\n",
    "# Convert to pandas dataframe\n",
    "\n",
    "# Create a basic histogram\n"
   ]
  },
  {
   "cell_type": "markdown",
   "id": "1548330f",
   "metadata": {},
   "source": [
    "## Part 5: A 95% Confidence Interval\n",
    "\n",
    "According to the **Central Limit Theorem (CLT)**, the sample means are approximately normal with:\n",
    "\n",
    "$$\n",
    "\\mu_{\\bar{X}} = \\mu \\quad \\text{and} \\quad \\sigma_{\\bar{X}} = \\frac{\\sigma}{\\sqrt{n}}\n",
    "$$\n",
    "\n",
    "where:\n",
    "\n",
    "- $\\mu_{\\bar{X}}$ is the mean of sample means (should equal the population mean)  \n",
    "- $\\sigma_{\\bar{X}}$ is the **standard error (SE)**  \n",
    "- $\\sigma$ is the population standard deviation  \n",
    "- $n$ is the sample size used to compute each mean  \n",
    "\n",
    "If the distribution of sample means is normal, then about **95% of sample means** should fall within:\n",
    "\n",
    "$$\n",
    "\\mu_{\\bar{X}} \\pm 1.96 \\times SE\n",
    "$$\n",
    "\n",
    "Let's apply this formula in practice."
   ]
  },
  {
   "cell_type": "code",
   "execution_count": 5,
   "id": "56253af5",
   "metadata": {
    "scrolled": true
   },
   "outputs": [],
   "source": [
    "# Compute the true standard deviation in the population \n",
    "\n",
    "# Compute the standard error \n",
    "\n",
    "# Compute the upper/lower bounds of the 95% confidence interval \n",
    "\n",
    "# Add Confidence Intervals to the Plot using axvline \n",
    "\n",
    "# Create a subset of the means dataset containing the means that fall within the 95% confidence interval\n",
    "\n",
    "# What percentage of means fall within the 95% confidnece interval numerically? \n"
   ]
  },
  {
   "cell_type": "code",
   "execution_count": null,
   "id": "d83271dd",
   "metadata": {},
   "outputs": [],
   "source": []
  }
 ],
 "metadata": {
  "kernelspec": {
   "display_name": "Python 3 (ipykernel)",
   "language": "python",
   "name": "python3"
  },
  "language_info": {
   "codemirror_mode": {
    "name": "ipython",
    "version": 3
   },
   "file_extension": ".py",
   "mimetype": "text/x-python",
   "name": "python",
   "nbconvert_exporter": "python",
   "pygments_lexer": "ipython3",
   "version": "3.10.1"
  }
 },
 "nbformat": 4,
 "nbformat_minor": 5
}
