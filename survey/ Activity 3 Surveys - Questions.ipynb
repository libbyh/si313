{
 "cells": [
  {
   "cell_type": "markdown",
   "id": "0a709830-67a1-4bc8-9626-e811bfe4d0a1",
   "metadata": {},
   "source": [
    "# Activity 3: Survey Data Analysis\n",
    "In this activity, you will practice analyzing survey data. We will study the 2025 Stack Overflow survey of developers. \n"
   ]
  },
  {
   "cell_type": "markdown",
   "id": "00181090-16a4-4507-8f6b-721f2a38b907",
   "metadata": {},
   "source": [
    "**Question 1:** Skim the methodology section of https://survey.stackoverflow.co/2025/methodology/. What do you think was the target population? The sampling frame? The sample? The unit of observation? The sampling unit? "
   ]
  },
  {
   "cell_type": "markdown",
   "id": "eb9644cf-6a98-4b3e-afb5-9e92c636314e",
   "metadata": {},
   "source": [
    "[Your Answer Here]\n"
   ]
  },
  {
   "cell_type": "markdown",
   "id": "a559c20d-3ed1-4244-add7-52f31ce48754",
   "metadata": {},
   "source": [
    "**Question 2:** Download and load the 2025 dataset from https://survey.stackoverflow.co/. "
   ]
  },
  {
   "cell_type": "code",
   "execution_count": 1,
   "id": "a8c91fac-2684-4306-9c8e-eeb46e13398f",
   "metadata": {},
   "outputs": [],
   "source": [
    "# Load Libraries \n",
    "\n",
    "# Set Directories \n",
    "\n",
    "# Load Dataset "
   ]
  },
  {
   "cell_type": "markdown",
   "id": "bc867d8f-967f-4e6a-a11a-795df91e4b62",
   "metadata": {},
   "source": [
    "**Question 3:** Inspect the data. Print the number of observations. Print a list of the columns. "
   ]
  },
  {
   "cell_type": "code",
   "execution_count": 2,
   "id": "35802dea-7d49-4772-a7bf-ebb2a9831dc8",
   "metadata": {},
   "outputs": [],
   "source": [
    "# Print Number of Observations\n",
    "\n",
    "# Print Column Names \n"
   ]
  },
  {
   "cell_type": "markdown",
   "id": "3c00f7e9-e6ed-4077-8e44-7dd245d2f3ef",
   "metadata": {},
   "source": [
    "**Question 4:** Count the number of missing values for each variable. Print the 10 variables with the most/least missing data. "
   ]
  },
  {
   "cell_type": "code",
   "execution_count": 3,
   "id": "186e80e8-acf8-408c-b1db-9833a63b972e",
   "metadata": {},
   "outputs": [],
   "source": [
    "# Top 10 Least Missing \n",
    "\n",
    "# Top 10 Most Missing \n"
   ]
  },
  {
   "cell_type": "markdown",
   "id": "80861d97-eadb-4d79-8a24-65f41a7bcddc",
   "metadata": {},
   "source": [
    "**Question 5:** We will study splits by organization size, years of coding experience, and frequency of using AI tools. \n",
    "\n",
    "Using the 'survey_results_schema.csv' file, find the variables which answer the questions\n",
    "'Do you currently use AI tools in your development process?' \n",
    "'Approximately how many people are employed by your employer?' \n",
    "'Including any education, how many years have you been coding in total?' \n",
    "\n",
    "Print a table with the frequency of responses to each of these questions. Then, recode each variable to be a binary split of above/below median. Print the number of observations above/below median for each split variable. \n",
    "\n"
   ]
  },
  {
   "cell_type": "code",
   "execution_count": 4,
   "id": "fab233af-4bf7-408d-92ea-fe127f40a455",
   "metadata": {},
   "outputs": [],
   "source": [
    "# Print Tables \n",
    "\n",
    "# Recode Non-Numeric Variables \n",
    "\n",
    "# Generate binaries \n",
    "\n",
    "# Print Tables \n"
   ]
  },
  {
   "cell_type": "markdown",
   "id": "03369817-97cb-4df9-81c3-b65c3bde73ee",
   "metadata": {},
   "source": [
    "**Question 6:** \n",
    "Using the schema dataset, identify the variables that correspond to 'Do you believe AI is a threat to your current job?', 'How much do you trust the accuracy of the output from AI tools as part of your development workflow?', and 'How well do the AI tools you use in your development workflow handle complex tasks?' Print a table summarizing the responses to each of these questions. Recode these variables to numeric in preparation for data analysis. "
   ]
  },
  {
   "cell_type": "code",
   "execution_count": 5,
   "id": "e468231d-27fd-4b5d-8420-3204512eb47a",
   "metadata": {},
   "outputs": [],
   "source": [
    "# Print Tables \n",
    "\n",
    "# Recode AI Variables \n"
   ]
  },
  {
   "cell_type": "markdown",
   "id": "77d4669d-8cdb-4a46-9e9b-59b80c3b368f",
   "metadata": {},
   "source": [
    "**Question 7:** Filter the dataset to US respondants, and keep only the key analysis variables. Print the shape of this subset. "
   ]
  },
  {
   "cell_type": "code",
   "execution_count": 6,
   "id": "8f52d5f1-5b80-456a-9456-fa2259c4820b",
   "metadata": {},
   "outputs": [],
   "source": [
    "# Filter to U.S. respondents and keep key variables\n",
    "\n",
    "# Print shape of filtered dataset\n"
   ]
  },
  {
   "cell_type": "markdown",
   "id": "004b384f-af80-4213-8192-3a5a31581175",
   "metadata": {},
   "source": [
    "**Question 8:** \n",
    "\n",
    "Use the subsetted data to to answer the following quesitons:\n",
    "1. Do developers who use AI tools more often see AI as more of a threat?\n",
    "2. Do more experienced developers trust AI accuracy more?\n",
    "3. Do developers at larger organizations believe AI handles complex tasks better?\n",
    "\n",
    "Provide a plot as well as a written interpretation of the answer to each of these questions. \n",
    "\n",
    "For full credit, provide clear/interpretable graphs with 95% convidence intervals and x/y axis labels. "
   ]
  },
  {
   "cell_type": "code",
   "execution_count": 7,
   "id": "56b1d946-c05d-4a0b-b67c-ac9de6bdcfa2",
   "metadata": {},
   "outputs": [],
   "source": [
    "# Graph \n"
   ]
  },
  {
   "cell_type": "markdown",
   "id": "158f13e9-b0c6-41bf-9f2f-016eb4a74d2f",
   "metadata": {},
   "source": [
    "[Provide written interpretations here.]"
   ]
  },
  {
   "cell_type": "code",
   "execution_count": null,
   "id": "b323a362-a0e1-458a-a716-d7c5846ad9c4",
   "metadata": {},
   "outputs": [],
   "source": []
  }
 ],
 "metadata": {
  "kernelspec": {
   "display_name": "Python 3 (ipykernel)",
   "language": "python",
   "name": "python3"
  },
  "language_info": {
   "codemirror_mode": {
    "name": "ipython",
    "version": 3
   },
   "file_extension": ".py",
   "mimetype": "text/x-python",
   "name": "python",
   "nbconvert_exporter": "python",
   "pygments_lexer": "ipython3",
   "version": "3.9.6"
  }
 },
 "nbformat": 4,
 "nbformat_minor": 5
}
