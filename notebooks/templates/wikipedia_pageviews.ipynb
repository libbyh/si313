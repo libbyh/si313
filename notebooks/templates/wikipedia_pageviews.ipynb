{
 "cells": [
  {
   "cell_type": "code",
   "execution_count": 14,
   "id": "initial_id",
   "metadata": {
    "ExecuteTime": {
     "end_time": "2025-09-15T21:27:44.190784Z",
     "start_time": "2025-09-15T21:27:43.902315Z"
    },
    "collapsed": true
   },
   "outputs": [],
   "source": [
    "import pandas as pd\n",
    "import matplotlib.pyplot as plt\n",
    "import seaborn as sns"
   ]
  },
  {
   "cell_type": "markdown",
   "id": "319b9c81617e1cdd",
   "metadata": {},
   "source": [
    "# Filtering Non-Human Clicks from Wikipedia Pageview Data\n",
    "\n",
    "In this activity, we're asked to filter bot traffic from pageview data. The data lives in [data/wikipedia_pageviews.csv.gz](../../data/wikipedia_pageviews.csv.gz).\n",
    "\n",
    "First, we need to load the data, and then we can get to work on the assignment."
   ]
  },
  {
   "cell_type": "code",
   "execution_count": 2,
   "id": "e50c0129a27c3e23",
   "metadata": {
    "ExecuteTime": {
     "end_time": "2025-09-15T21:27:46.202576Z",
     "start_time": "2025-09-15T21:27:44.477644Z"
    }
   },
   "outputs": [],
   "source": [
    "df = pd.read_csv('../../data/wikipedia_pageviews.csv.gz')"
   ]
  },
  {
   "cell_type": "code",
   "execution_count": 3,
   "id": "98e9b7ce0d0b5f7e",
   "metadata": {
    "ExecuteTime": {
     "end_time": "2025-09-15T21:27:46.216250Z",
     "start_time": "2025-09-15T21:27:46.209099Z"
    }
   },
   "outputs": [
    {
     "data": {
      "text/html": [
       "<div>\n",
       "<style scoped>\n",
       "    .dataframe tbody tr th:only-of-type {\n",
       "        vertical-align: middle;\n",
       "    }\n",
       "\n",
       "    .dataframe tbody tr th {\n",
       "        vertical-align: top;\n",
       "    }\n",
       "\n",
       "    .dataframe thead th {\n",
       "        text-align: right;\n",
       "    }\n",
       "</style>\n",
       "<table border=\"1\" class=\"dataframe\">\n",
       "  <thead>\n",
       "    <tr style=\"text-align: right;\">\n",
       "      <th></th>\n",
       "      <th>timestamp</th>\n",
       "      <th>ip_address</th>\n",
       "      <th>user_agent</th>\n",
       "      <th>project</th>\n",
       "      <th>page_title</th>\n",
       "      <th>count</th>\n",
       "      <th>referer</th>\n",
       "      <th>response_size</th>\n",
       "    </tr>\n",
       "  </thead>\n",
       "  <tbody>\n",
       "    <tr>\n",
       "      <th>0</th>\n",
       "      <td>2024-01-15T00:00:00Z</td>\n",
       "      <td>13155695996c</td>\n",
       "      <td>SemrushBot/7~bl (+http://www.semrush.com/bot/)</td>\n",
       "      <td>ru.wikipedia</td>\n",
       "      <td>Wikipedia:Featured_articles</td>\n",
       "      <td>1</td>\n",
       "      <td>NaN</td>\n",
       "      <td>8739</td>\n",
       "    </tr>\n",
       "    <tr>\n",
       "      <th>1</th>\n",
       "      <td>2024-01-15T00:00:00Z</td>\n",
       "      <td>2223496a77ec</td>\n",
       "      <td>Mozilla/5.0 (Windows NT 10.0; Win64; x64; rv:1...</td>\n",
       "      <td>zh.wikipedia</td>\n",
       "      <td>Solar_System</td>\n",
       "      <td>1</td>\n",
       "      <td>https://www.reddit.com/</td>\n",
       "      <td>77536</td>\n",
       "    </tr>\n",
       "    <tr>\n",
       "      <th>2</th>\n",
       "      <td>2024-01-15T00:00:00Z</td>\n",
       "      <td>6aa13263355b</td>\n",
       "      <td>Mozilla/5.0 (Windows NT 10.0; Win64; x64; rv:1...</td>\n",
       "      <td>en.wikipedia</td>\n",
       "      <td>Biodiversity</td>\n",
       "      <td>1</td>\n",
       "      <td>NaN</td>\n",
       "      <td>64317</td>\n",
       "    </tr>\n",
       "    <tr>\n",
       "      <th>3</th>\n",
       "      <td>2024-01-15T00:00:00Z</td>\n",
       "      <td>5f8db1edf904</td>\n",
       "      <td>Mozilla/5.0 (Windows NT 10.0; Win64; x64) Appl...</td>\n",
       "      <td>commons.wikimedia</td>\n",
       "      <td>Quantum_mechanics</td>\n",
       "      <td>1</td>\n",
       "      <td>https://www.facebook.com/</td>\n",
       "      <td>51552</td>\n",
       "    </tr>\n",
       "    <tr>\n",
       "      <th>4</th>\n",
       "      <td>2024-01-15T00:00:00Z</td>\n",
       "      <td>47d4dd260c7d</td>\n",
       "      <td>Mozilla/5.0 (Windows NT 10.0; Win64; x64) Appl...</td>\n",
       "      <td>es.wikipedia</td>\n",
       "      <td>List_of_countries_by_population</td>\n",
       "      <td>1</td>\n",
       "      <td>https://www.reddit.com/</td>\n",
       "      <td>57821</td>\n",
       "    </tr>\n",
       "  </tbody>\n",
       "</table>\n",
       "</div>"
      ],
      "text/plain": [
       "              timestamp    ip_address  \\\n",
       "0  2024-01-15T00:00:00Z  13155695996c   \n",
       "1  2024-01-15T00:00:00Z  2223496a77ec   \n",
       "2  2024-01-15T00:00:00Z  6aa13263355b   \n",
       "3  2024-01-15T00:00:00Z  5f8db1edf904   \n",
       "4  2024-01-15T00:00:00Z  47d4dd260c7d   \n",
       "\n",
       "                                          user_agent            project  \\\n",
       "0     SemrushBot/7~bl (+http://www.semrush.com/bot/)       ru.wikipedia   \n",
       "1  Mozilla/5.0 (Windows NT 10.0; Win64; x64; rv:1...       zh.wikipedia   \n",
       "2  Mozilla/5.0 (Windows NT 10.0; Win64; x64; rv:1...       en.wikipedia   \n",
       "3  Mozilla/5.0 (Windows NT 10.0; Win64; x64) Appl...  commons.wikimedia   \n",
       "4  Mozilla/5.0 (Windows NT 10.0; Win64; x64) Appl...       es.wikipedia   \n",
       "\n",
       "                        page_title  count                    referer  \\\n",
       "0      Wikipedia:Featured_articles      1                        NaN   \n",
       "1                     Solar_System      1    https://www.reddit.com/   \n",
       "2                     Biodiversity      1                        NaN   \n",
       "3                Quantum_mechanics      1  https://www.facebook.com/   \n",
       "4  List_of_countries_by_population      1    https://www.reddit.com/   \n",
       "\n",
       "   response_size  \n",
       "0           8739  \n",
       "1          77536  \n",
       "2          64317  \n",
       "3          51552  \n",
       "4          57821  "
      ]
     },
     "execution_count": 3,
     "metadata": {},
     "output_type": "execute_result"
    }
   ],
   "source": [
    "df.head() # check to see that it loaded"
   ]
  },
  {
   "cell_type": "markdown",
   "id": "d3e467c18bf7231e",
   "metadata": {},
   "source": [
    "## Data Understanding\n",
    "\n",
    "To explain the fields, we need to know what they are."
   ]
  },
  {
   "cell_type": "code",
   "execution_count": 4,
   "id": "ed69a603175bbe2f",
   "metadata": {
    "ExecuteTime": {
     "end_time": "2025-09-15T21:27:46.240800Z",
     "start_time": "2025-09-15T21:27:46.239176Z"
    }
   },
   "outputs": [
    {
     "name": "stdout",
     "output_type": "stream",
     "text": [
      "Index(['timestamp', 'ip_address', 'user_agent', 'project', 'page_title',\n",
      "       'count', 'referer', 'response_size'],\n",
      "      dtype='object')\n"
     ]
    }
   ],
   "source": [
    "print(df.columns) # print the column names"
   ]
  },
  {
   "cell_type": "markdown",
   "id": "c14a06a8136ed90",
   "metadata": {},
   "source": [
    "Here's a table of the columns and what I think they mean:\n",
    "\n",
    "| column_name | description |\n",
    "| :--- | :--- |\n",
    "| timestamp | the time that the page was viewed |\n",
    "| ip_address | the IP address of the page viewer |\n",
    "| user_agent | the request header from the page viewer |\n",
    "| project | which wikipedia the page is on |\n",
    "| page_title | the page's name |\n",
    "| count | I'm not sure about this one |\n",
    "| referrer | where the link to the page was that the viewer clicked on |\n",
    "| response_size | how big the page was |\n",
    "\n",
    "There's one field I'm not sure about, so let's look at some data and see if I can figure out what it is."
   ]
  },
  {
   "cell_type": "code",
   "execution_count": 31,
   "id": "5312e9cc338140a5",
   "metadata": {
    "ExecuteTime": {
     "end_time": "2025-09-15T21:27:46.367663Z",
     "start_time": "2025-09-15T21:27:46.358323Z"
    }
   },
   "outputs": [
    {
     "name": "stdout",
     "output_type": "stream",
     "text": [
      "count\n",
      "1     0.983158\n",
      "10    0.005660\n",
      "25    0.005606\n",
      "5     0.005576\n",
      "Name: proportion, dtype: float64\n"
     ]
    }
   ],
   "source": [
    "frequencies = df['count'].value_counts(dropna=False, normalize=True)\n",
    "print(frequencies)"
   ]
  },
  {
   "cell_type": "markdown",
   "id": "b83271f1147ae2f7",
   "metadata": {},
   "source": [
    "I'm still not sure what `count` means, but maybe it's aggregating this IP-referrer-page combination?"
   ]
  },
  {
   "cell_type": "markdown",
   "id": "867f054922417d6e",
   "metadata": {},
   "source": [
    "## Hypothesis Formation\n",
    "\n",
    "Now I know what's in the data. I need at least 3 hypotheses about non-human traffic that I can test. Here are some:\n",
    "\n",
    "1. Bots tend to make a large number of requests in a short amount of time.\n",
    "2. Bots visit pages in alphabetical order, like they're following a list.\n",
    "3. Bots may exhibit unusual patterns in the distribution of pageviews across different projects (e.g., language versions of Wikipedia).\n",
    "4. Bots might have user agents that identify them as automated tools.\n",
    "5. Bots might lack a user agent entirely.\n",
    "6. Bots might show a burst of requests.\n",
    "7. Bots might access pages that aren't typical Wikipedia entries."
   ]
  },
  {
   "cell_type": "markdown",
   "id": "2ff1deab9882e2e0",
   "metadata": {},
   "source": [
    "## Filtering Strategy\n",
    "\n",
    "What are some filtering or analysis strategies that would test those hypotheses?\n",
    "\n",
    "1. Filter out entries where the agent field contains keywords associated with bots (e.g., 'bot', 'crawler').\n",
    "2. Calculate the average number of pageviews per IP address per hour. Filter out IP addresses that exceed a certain threshold.\n",
    "3. Analyze the distribution of pageviews across projects. Identify projects that exhibit unusually high or low traffic from specific IP addresses.\n",
    "4. Calculate requests per IP address per hour and filter out really high values.\n",
    "5. Identify IPs that are outliers in request frequency.\n",
    "6. Filter out IPs that have very low times between requests."
   ]
  },
  {
   "cell_type": "markdown",
   "id": "27a2ba3291caf840",
   "metadata": {},
   "source": [
    "## Implementation\n",
    "\n",
    "Implement some of those filtering strategies.\n",
    "\n",
    "Starting with an easy one that looks for obvious bot referrers. Let's look at the referrers and see if we can tell bots from not-bots.\n"
   ]
  },
  {
   "cell_type": "code",
   "execution_count": 6,
   "id": "85a09f968abd6c61",
   "metadata": {
    "ExecuteTime": {
     "end_time": "2025-09-15T21:39:19.072080Z",
     "start_time": "2025-09-15T21:39:19.017025Z"
    }
   },
   "outputs": [
    {
     "name": "stdout",
     "output_type": "stream",
     "text": [
      "user_agent\n",
      "Mozilla/5.0 (Windows NT 10.0; Win64; x64) AppleWebKit/537.36 (KHTML, like Gecko) Chrome/120.0.0.0 Safari/537.36                            184702\n",
      "Mozilla/5.0 (Macintosh; Intel Mac OS X 10_15_7) AppleWebKit/537.36 (KHTML, like Gecko) Chrome/120.0.0.0 Safari/537.36                      184529\n",
      "Mozilla/5.0 (iPhone; CPU iPhone OS 17_2 like Mac OS X) AppleWebKit/605.1.15 (KHTML, like Gecko) Version/17.2 Mobile/15E148 Safari/604.1    184485\n",
      "Mozilla/5.0 (iPad; CPU OS 17_2 like Mac OS X) AppleWebKit/605.1.15 (KHTML, like Gecko) Version/17.2 Mobile/15E148 Safari/604.1             184266\n",
      "Mozilla/5.0 (Macintosh; Intel Mac OS X 10_15_7) AppleWebKit/605.1.15 (KHTML, like Gecko) Version/17.2 Safari/605.1.15                      184180\n",
      "Mozilla/5.0 (X11; Linux x86_64) AppleWebKit/537.36 (KHTML, like Gecko) Chrome/120.0.0.0 Safari/537.36                                      184053\n",
      "Mozilla/5.0 (Windows NT 10.0; Win64; x64; rv:121.0) Gecko/20100101 Firefox/121.0                                                           184010\n",
      "Mozilla/5.0 (Windows NT 10.0; Win64; x64) AppleWebKit/537.36 (KHTML, like Gecko) Edge/120.0.0.0 Safari/537.36                              183886\n",
      "Mozilla/5.0 (Android 14; Mobile; rv:121.0) Gecko/121.0 Firefox/121.0                                                                       183291\n",
      "ia_archiver (+http://www.alexa.com/site/help/webmasters; crawler@alexa.com)                                                                 27798\n",
      "curl/7.68.0                                                                                                                                 27072\n",
      "Googlebot/2.1 (+http://www.google.com/bot.html)                                                                                             26925\n",
      "facebookexternalhit/1.1 (+http://www.facebook.com/externalhit_uatext.php)                                                                   26535\n",
      "python-requests/2.28.1                                                                                                                      26515\n",
      "wget/1.20.3 (linux-gnu)                                                                                                                     26388\n",
      "Mozilla/5.0 (compatible; YandexBot/3.0; +http://yandex.com/bots)                                                                            26364\n",
      "Twitterbot/1.0                                                                                                                              26200\n",
      "SemrushBot/7~bl (+http://www.semrush.com/bot/)                                                                                              26126\n",
      "Mozilla/5.0 (compatible; bingbot/2.0; +http://www.bing.com/bingbot.htm)                                                                     25794\n",
      "Mozilla/5.0 (compatible; AhrefsBot/7.0; +http://ahrefs.com/robot/)                                                                          25747\n",
      "DotBot/1.1                                                                                                                                  25617\n",
      "Scrapy/2.5.1 (+https://scrapy.org)                                                                                                          25517\n",
      "Name: count, dtype: int64\n"
     ]
    }
   ],
   "source": [
    "# show the frequency of each referrer\n",
    "frequencies = df['user_agent'].value_counts(dropna=False)\n",
    "print(frequencies)"
   ]
  },
  {
   "cell_type": "code",
   "execution_count": 7,
   "id": "ec74d45e17b65dc4",
   "metadata": {
    "ExecuteTime": {
     "end_time": "2025-09-15T22:15:10.263650Z",
     "start_time": "2025-09-15T22:15:08.299970Z"
    }
   },
   "outputs": [
    {
     "data": {
      "text/html": [
       "<div>\n",
       "<style scoped>\n",
       "    .dataframe tbody tr th:only-of-type {\n",
       "        vertical-align: middle;\n",
       "    }\n",
       "\n",
       "    .dataframe tbody tr th {\n",
       "        vertical-align: top;\n",
       "    }\n",
       "\n",
       "    .dataframe thead th {\n",
       "        text-align: right;\n",
       "    }\n",
       "</style>\n",
       "<table border=\"1\" class=\"dataframe\">\n",
       "  <thead>\n",
       "    <tr style=\"text-align: right;\">\n",
       "      <th></th>\n",
       "      <th>timestamp</th>\n",
       "      <th>ip_address</th>\n",
       "      <th>user_agent</th>\n",
       "      <th>project</th>\n",
       "      <th>page_title</th>\n",
       "      <th>count</th>\n",
       "      <th>referer</th>\n",
       "      <th>response_size</th>\n",
       "    </tr>\n",
       "  </thead>\n",
       "  <tbody>\n",
       "    <tr>\n",
       "      <th>0</th>\n",
       "      <td>2024-01-15T00:00:00Z</td>\n",
       "      <td>13155695996c</td>\n",
       "      <td>SemrushBot/7~bl (+http://www.semrush.com/bot/)</td>\n",
       "      <td>ru.wikipedia</td>\n",
       "      <td>Wikipedia:Featured_articles</td>\n",
       "      <td>1</td>\n",
       "      <td>NaN</td>\n",
       "      <td>8739</td>\n",
       "    </tr>\n",
       "    <tr>\n",
       "      <th>17</th>\n",
       "      <td>2024-01-15T00:00:00Z</td>\n",
       "      <td>70f24e3c28c2</td>\n",
       "      <td>curl/7.68.0</td>\n",
       "      <td>meta.wikimedia</td>\n",
       "      <td>Renewable_energy</td>\n",
       "      <td>1</td>\n",
       "      <td>NaN</td>\n",
       "      <td>36531</td>\n",
       "    </tr>\n",
       "    <tr>\n",
       "      <th>19</th>\n",
       "      <td>2024-01-15T00:00:00Z</td>\n",
       "      <td>0b0d2863f0ab</td>\n",
       "      <td>ia_archiver (+http://www.alexa.com/site/help/w...</td>\n",
       "      <td>ar.wikipedia</td>\n",
       "      <td>Photosynthesis</td>\n",
       "      <td>1</td>\n",
       "      <td>https://www.google.com/</td>\n",
       "      <td>32238</td>\n",
       "    </tr>\n",
       "    <tr>\n",
       "      <th>22</th>\n",
       "      <td>2024-01-15T00:00:00Z</td>\n",
       "      <td>d2db5aa0c02c</td>\n",
       "      <td>ia_archiver (+http://www.alexa.com/site/help/w...</td>\n",
       "      <td>wikidata.org</td>\n",
       "      <td>List_of_countries_by_population</td>\n",
       "      <td>1</td>\n",
       "      <td>NaN</td>\n",
       "      <td>14769</td>\n",
       "    </tr>\n",
       "    <tr>\n",
       "      <th>24</th>\n",
       "      <td>2024-01-15T00:00:00Z</td>\n",
       "      <td>b721a80c8e37</td>\n",
       "      <td>Mozilla/5.0 (compatible; YandexBot/3.0; +http:...</td>\n",
       "      <td>wikidata.org</td>\n",
       "      <td>Photosynthesis</td>\n",
       "      <td>1</td>\n",
       "      <td>NaN</td>\n",
       "      <td>33273</td>\n",
       "    </tr>\n",
       "  </tbody>\n",
       "</table>\n",
       "</div>"
      ],
      "text/plain": [
       "               timestamp    ip_address  \\\n",
       "0   2024-01-15T00:00:00Z  13155695996c   \n",
       "17  2024-01-15T00:00:00Z  70f24e3c28c2   \n",
       "19  2024-01-15T00:00:00Z  0b0d2863f0ab   \n",
       "22  2024-01-15T00:00:00Z  d2db5aa0c02c   \n",
       "24  2024-01-15T00:00:00Z  b721a80c8e37   \n",
       "\n",
       "                                           user_agent         project  \\\n",
       "0      SemrushBot/7~bl (+http://www.semrush.com/bot/)    ru.wikipedia   \n",
       "17                                        curl/7.68.0  meta.wikimedia   \n",
       "19  ia_archiver (+http://www.alexa.com/site/help/w...    ar.wikipedia   \n",
       "22  ia_archiver (+http://www.alexa.com/site/help/w...    wikidata.org   \n",
       "24  Mozilla/5.0 (compatible; YandexBot/3.0; +http:...    wikidata.org   \n",
       "\n",
       "                         page_title  count                  referer  \\\n",
       "0       Wikipedia:Featured_articles      1                      NaN   \n",
       "17                 Renewable_energy      1                      NaN   \n",
       "19                   Photosynthesis      1  https://www.google.com/   \n",
       "22  List_of_countries_by_population      1                      NaN   \n",
       "24                   Photosynthesis      1                      NaN   \n",
       "\n",
       "    response_size  \n",
       "0            8739  \n",
       "17          36531  \n",
       "19          32238  \n",
       "22          14769  \n",
       "24          33273  "
      ]
     },
     "execution_count": 7,
     "metadata": {},
     "output_type": "execute_result"
    }
   ],
   "source": [
    "# Make a list of keywords to look for in referrers\n",
    "bot_keywords = ['bot', 'crawler',  'spider', 'scrapy', 'wget', 'curl', 'python-requests']\n",
    "\n",
    "# make a dataframe with just obvious bot requests\n",
    "# this converts the `user_agent` text to lowercase and checks if it contains the words in our list, all in one line\n",
    "obvious_bots = df[df['user_agent'].str.lower().str.contains('|'.join(bot_keywords), na=False)]\n",
    "\n",
    "# check to see if that data makes sense\n",
    "obvious_bots.head()"
   ]
  },
  {
   "cell_type": "code",
   "execution_count": 8,
   "id": "916c823d4a2e9312",
   "metadata": {
    "ExecuteTime": {
     "end_time": "2025-09-15T22:15:10.305362Z",
     "start_time": "2025-09-15T22:15:10.303584Z"
    }
   },
   "outputs": [
    {
     "name": "stdout",
     "output_type": "stream",
     "text": [
      "Pageviews with obvious bot-like user agents: 316063 (15.8%)\n"
     ]
    }
   ],
   "source": [
    "# How big is the bot dataset relative to the whole dataset?\n",
    "print(f\"Pageviews with obvious bot-like user agents: {len(obvious_bots)} ({len(obvious_bots)/len(df)*100:.1f}%)\")\n"
   ]
  },
  {
   "cell_type": "markdown",
   "id": "63e42203e59908ce",
   "metadata": {},
   "source": [
    "Now let's calculate the number of pageviews per IP per hour and see if there are outliers.\n",
    "\n",
    "I used the CoPilot chat within VS Code to generate much of the rest of this notebook because I wanted to see how the AI would answer. "
   ]
  },
  {
   "cell_type": "code",
   "execution_count": 15,
   "id": "e1dbfda1",
   "metadata": {},
   "outputs": [
    {
     "name": "stdout",
     "output_type": "stream",
     "text": [
      "     ip_address                       day  pageviews\n",
      "0  000002ebcd68 2024-01-15 00:00:00+00:00          1\n",
      "1  0000139283f2 2024-01-15 00:00:00+00:00          1\n",
      "2  00001ad3d5d5 2024-01-15 00:00:00+00:00          1\n",
      "3  00002b42c422 2024-01-15 00:00:00+00:00          1\n",
      "4  0000355f2711 2024-01-15 00:00:00+00:00          1\n"
     ]
    }
   ],
   "source": [
    "df[\"timestamp\"] = pd.to_datetime(df[\"timestamp\"], errors=\"coerce\", utc=True)\n",
    "\n",
    "# Normalize time to UTC (optional, but recommended if mixed tz info)\n",
    "if df[\"timestamp\"].dt.tz is None:\n",
    "    # treat naive timestamps as UTC; alternatively localize to a known timezone with tz_localize\n",
    "    df[\"timestamp\"] = df[\"timestamp\"].dt.tz_localize(\"UTC\")\n",
    "\n",
    "# Create an hourly bucket\n",
    "df[\"day\"] = df[\"timestamp\"].dt.floor(\"d\")  # or dt.strftime('%Y-%m-%d %H:00:00') for string buckets\n",
    "\n",
    "# Drop rows with missing IP or timestamp (or decide how to handle them)\n",
    "df = df.dropna(subset=[\"ip_address\", \"day\"])\n",
    "\n",
    "# Group and count pageviews per IP per hour\n",
    "result = df.groupby([\"ip_address\", \"day\"], observed=True).size().reset_index(name=\"pageviews\")\n",
    "\n",
    "# Sort if you like\n",
    "result = result.sort_values([\"ip_address\", \"day\"])\n",
    "\n",
    "# Preview\n",
    "print(result.head(5))"
   ]
  },
  {
   "cell_type": "markdown",
   "id": "5c75dd35",
   "metadata": {},
   "source": [
    "The AI didn't encourage me to visualize the distribution. That's a missing step that can be helpful. So, I'm adding a cell to look at the distribution.\n",
    "\n",
    "I also notice that the AI creates a new dataframe called \"result\". Generally I like to name things so that I know what's in them or what they are. I recommend renaming that `result` dataframe to something more descriptive. "
   ]
  },
  {
   "cell_type": "code",
   "execution_count": 23,
   "id": "7bddedbf",
   "metadata": {},
   "outputs": [],
   "source": [
    "df_pageviews = result"
   ]
  },
  {
   "cell_type": "code",
   "execution_count": 28,
   "id": "05fe1d5d",
   "metadata": {},
   "outputs": [
    {
     "data": {
      "image/png": "[encoded data removed]",
      "text/plain": [
       "<Figure size 640x480 with 1 Axes>"
      ]
     },
     "metadata": {},
     "output_type": "display_data"
    }
   ],
   "source": [
    "# Plot\n",
    "sns.histplot(df_pageviews['pageviews'], bins=30, log_scale=(False, True))\n",
    "plt.show()"
   ]
  },
  {
   "cell_type": "markdown",
   "id": "366bae6d",
   "metadata": {},
   "source": [
    "That looks weird. Why isn't there any variance? Let's look at the frequencies of pageview values."
   ]
  },
  {
   "cell_type": "code",
   "execution_count": 25,
   "id": "bdfb97ae",
   "metadata": {},
   "outputs": [
    {
     "name": "stdout",
     "output_type": "stream",
     "text": [
      "pageviews\n",
      "1      1948928\n",
      "2          471\n",
      "158          8\n",
      "69           7\n",
      "86           7\n",
      "        ...   \n",
      "143          1\n",
      "99           1\n",
      "43           1\n",
      "133          1\n",
      "104          1\n",
      "Name: count, Length: 148, dtype: int64\n"
     ]
    }
   ],
   "source": [
    "# show the frequency of pageviews\n",
    "frequencies = df_pageviews['pageviews'].value_counts(dropna=False)\n",
    "print(frequencies)"
   ]
  },
  {
   "cell_type": "markdown",
   "id": "f6afdddf",
   "metadata": {},
   "source": [
    "The frequency table shows that almost 2M IPs viewed only 1 page. That seems weird based on my experience with Wikipedia, but it also doesn't seem bot-like. Let's see what this looks like if we remove the 1-page IPs."
   ]
  },
  {
   "cell_type": "code",
   "execution_count": 26,
   "id": "d139fd65",
   "metadata": {},
   "outputs": [
    {
     "name": "stdout",
     "output_type": "stream",
     "text": [
      "870\n"
     ]
    }
   ],
   "source": [
    "df_multi_pageviews = df_pageviews.drop(df_pageviews[df_pageviews.pageviews < 2].index)\n",
    "print(len(df_multi_pageviews))"
   ]
  },
  {
   "cell_type": "markdown",
   "id": "b605a53e",
   "metadata": {},
   "source": []
  },
  {
   "cell_type": "code",
   "execution_count": 27,
   "id": "f07b0cce",
   "metadata": {},
   "outputs": [
    {
     "data": {
      "image/png": "[encoded data removed]",
      "text/plain": [
       "<Figure size 640x480 with 1 Axes>"
      ]
     },
     "metadata": {},
     "output_type": "display_data"
    }
   ],
   "source": [
    "# Plot\n",
    "sns.histplot(df_multi_pageviews['pageviews'], bins=30)\n",
    "plt.show()"
   ]
  },
  {
   "cell_type": "markdown",
   "id": "25681ec8",
   "metadata": {},
   "source": []
  },
  {
   "cell_type": "markdown",
   "id": "fc513f1a",
   "metadata": {},
   "source": [
    "That looks more like what I would expect - high frequencies of low pageviews, and lower frequencies of high pageviews. What I don't see, that I was hoping for, is a natural break somewhere else in the distribution that would make it easy to tell bots from humans. There's a break between 2 and about 50, but I'm not sure how many pages I expect humans to view."
   ]
  },
  {
   "cell_type": "code",
   "execution_count": 30,
   "id": "e9e14724",
   "metadata": {},
   "outputs": [
    {
     "data": {
      "text/plain": [
       "count    1.949798e+06\n",
       "mean     1.025747e+00\n",
       "std      1.892760e+00\n",
       "min      1.000000e+00\n",
       "25%      1.000000e+00\n",
       "50%      1.000000e+00\n",
       "75%      1.000000e+00\n",
       "max      2.000000e+02\n",
       "Name: pageviews, dtype: float64"
      ]
     },
     "execution_count": 30,
     "metadata": {},
     "output_type": "execute_result"
    }
   ],
   "source": [
    "df_pageviews['pageviews'].describe()"
   ]
  },
  {
   "cell_type": "code",
   "execution_count": null,
   "id": "47fc555d",
   "metadata": {},
   "outputs": [],
   "source": []
  }
 ],
 "metadata": {
  "kernelspec": {
   "display_name": ".venv",
   "language": "python",
   "name": "python3"
  },
  "language_info": {
   "codemirror_mode": {
    "name": "ipython",
    "version": 3
   },
   "file_extension": ".py",
   "mimetype": "text/x-python",
   "name": "python",
   "nbconvert_exporter": "python",
   "pygments_lexer": "ipython3",
   "version": "3.13.2"
  }
 },
 "nbformat": 4,
 "nbformat_minor": 5
}
