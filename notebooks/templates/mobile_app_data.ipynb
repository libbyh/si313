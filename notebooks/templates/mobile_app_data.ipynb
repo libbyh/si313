{
 "cells": [
  {
   "cell_type": "markdown",
   "id": "b6b24e7a",
   "metadata": {},
   "source": [
    "# Template for Activity #1\n",
    "\n",
    "Here's the [assignment on Canvas](https://umich.instructure.com/courses/793758/assignments/2823892).\n",
    "\n",
    "Here's the [data file](https://umich.instructure.com/courses/793758/files/folder/Assignments/Activity%201?preview=41830672) that you'll need."
   ]
  },
  {
   "cell_type": "markdown",
   "id": "e4a2ba41",
   "metadata": {},
   "source": [
    "# Answers to the questions under “Planning Tasks and Questions” \n"
   ]
  },
  {
   "cell_type": "markdown",
   "id": "af25c310",
   "metadata": {},
   "source": [
    "# Script that does the tasks under “Programming Tasks”\n"
   ]
  },
  {
   "cell_type": "markdown",
   "id": "3c672d12",
   "metadata": {
    "vscode": {
     "languageId": "plaintext"
    }
   },
   "source": [
    "# 2 plots\n"
   ]
  },
  {
   "cell_type": "markdown",
   "id": "f2b08aa7",
   "metadata": {
    "vscode": {
     "languageId": "plaintext"
    }
   },
   "source": [
    "# Results of my descriptive analysis\n"
   ]
  },
  {
   "cell_type": "markdown",
   "id": "efbbb17c",
   "metadata": {},
   "source": [
    "# My interpretation of the plots and descriptive analysis"
   ]
  }
 ],
 "metadata": {
  "language_info": {
   "name": "python"
  }
 },
 "nbformat": 4,
 "nbformat_minor": 5
}
