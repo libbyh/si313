{
 "cells": [
  {
   "cell_type": "markdown",
   "id": "b6b24e7a",
   "metadata": {},
   "source": [
    "# Activity #1: Stats and Programming Review\n",
    "\n",
    "Here's the [assignment on Canvas](https://umich.instructure.com/courses/793758/assignments/2823892).\n",
    "\n",
    "Here's the [data file](https://umich.instructure.com/courses/793758/files/folder/Assignments/Activity%201?preview=41830672) that you'll need."
   ]
  },
  {
   "cell_type": "markdown",
   "id": "e4a2ba41",
   "metadata": {},
   "source": [
    "# Answers to the questions under “Planning Tasks and Questions” \n"
   ]
  },
  {
   "cell_type": "markdown",
   "id": "33d65c22",
   "metadata": {},
   "source": [
    "# Code that does the \"Programming Tasks\"\n",
    "\n",
    "First, import the modules we'll need for doing the tasks."
   ]
  },
  {
   "cell_type": "code",
   "execution_count": 26,
   "id": "ddc54873",
   "metadata": {},
   "outputs": [],
   "source": [
    "import pandas as pd\n",
    "import numpy as np\n",
    "import matplotlib.pyplot as plt\n",
    "import seaborn as sns\n",
    "import scipy.stats as stats\n",
    "\n"
   ]
  },
  {
   "cell_type": "code",
   "execution_count": 11,
   "id": "ff5d955a",
   "metadata": {},
   "outputs": [
    {
     "data": {
      "text/plain": [
       "'/Users/libbyh/VSCode/si313'"
      ]
     },
     "execution_count": 11,
     "metadata": {},
     "output_type": "execute_result"
    }
   ],
   "source": [
    "import os\n",
    "os.chdir(  '/Users/libbyh/VSCode/si313') # replace with your path\n",
    "os.getcwd() # confirm your path is set correctly"
   ]
  },
  {
   "cell_type": "markdown",
   "id": "8bcbf173",
   "metadata": {},
   "source": [
    "## Task 1: Load In: Save mobile_app_dataset.csv to the same folder as your notebook and load it into a data frame."
   ]
  },
  {
   "cell_type": "code",
   "execution_count": 12,
   "id": "c2baa2d5",
   "metadata": {},
   "outputs": [],
   "source": [
    "df = pd.read_csv('data/mobile_app_dataset.csv')"
   ]
  },
  {
   "cell_type": "code",
   "execution_count": 13,
   "id": "bf2e71f8",
   "metadata": {},
   "outputs": [
    {
     "data": {
      "text/html": [
       "<div>\n",
       "<style scoped>\n",
       "    .dataframe tbody tr th:only-of-type {\n",
       "        vertical-align: middle;\n",
       "    }\n",
       "\n",
       "    .dataframe tbody tr th {\n",
       "        vertical-align: top;\n",
       "    }\n",
       "\n",
       "    .dataframe thead th {\n",
       "        text-align: right;\n",
       "    }\n",
       "</style>\n",
       "<table border=\"1\" class=\"dataframe\">\n",
       "  <thead>\n",
       "    <tr style=\"text-align: right;\">\n",
       "      <th></th>\n",
       "      <th>user_id</th>\n",
       "      <th>feature_1</th>\n",
       "      <th>feature_2</th>\n",
       "      <th>feature_3</th>\n",
       "      <th>feature_4</th>\n",
       "      <th>feature_5</th>\n",
       "      <th>feature_6</th>\n",
       "      <th>feature_7</th>\n",
       "      <th>feature_8</th>\n",
       "      <th>feature_9</th>\n",
       "      <th>...</th>\n",
       "      <th>feature_13</th>\n",
       "      <th>feature_14</th>\n",
       "      <th>feature_15</th>\n",
       "      <th>feature_16</th>\n",
       "      <th>feature_17</th>\n",
       "      <th>feature_18</th>\n",
       "      <th>sessions</th>\n",
       "      <th>total_time_min</th>\n",
       "      <th>user_group</th>\n",
       "      <th>satisfaction_rating</th>\n",
       "    </tr>\n",
       "  </thead>\n",
       "  <tbody>\n",
       "    <tr>\n",
       "      <th>0</th>\n",
       "      <td>user_00001</td>\n",
       "      <td>0</td>\n",
       "      <td>1</td>\n",
       "      <td>0</td>\n",
       "      <td>0</td>\n",
       "      <td>1</td>\n",
       "      <td>1</td>\n",
       "      <td>0</td>\n",
       "      <td>0</td>\n",
       "      <td>1</td>\n",
       "      <td>...</td>\n",
       "      <td>0</td>\n",
       "      <td>0</td>\n",
       "      <td>1</td>\n",
       "      <td>0</td>\n",
       "      <td>1</td>\n",
       "      <td>0</td>\n",
       "      <td>16</td>\n",
       "      <td>59.51</td>\n",
       "      <td>casual</td>\n",
       "      <td>NaN</td>\n",
       "    </tr>\n",
       "    <tr>\n",
       "      <th>1</th>\n",
       "      <td>user_00002</td>\n",
       "      <td>1</td>\n",
       "      <td>1</td>\n",
       "      <td>1</td>\n",
       "      <td>1</td>\n",
       "      <td>1</td>\n",
       "      <td>1</td>\n",
       "      <td>1</td>\n",
       "      <td>0</td>\n",
       "      <td>0</td>\n",
       "      <td>...</td>\n",
       "      <td>0</td>\n",
       "      <td>1</td>\n",
       "      <td>0</td>\n",
       "      <td>0</td>\n",
       "      <td>0</td>\n",
       "      <td>0</td>\n",
       "      <td>5</td>\n",
       "      <td>214.75</td>\n",
       "      <td>professional</td>\n",
       "      <td>NaN</td>\n",
       "    </tr>\n",
       "    <tr>\n",
       "      <th>2</th>\n",
       "      <td>user_00003</td>\n",
       "      <td>0</td>\n",
       "      <td>1</td>\n",
       "      <td>1</td>\n",
       "      <td>1</td>\n",
       "      <td>1</td>\n",
       "      <td>0</td>\n",
       "      <td>1</td>\n",
       "      <td>1</td>\n",
       "      <td>1</td>\n",
       "      <td>...</td>\n",
       "      <td>1</td>\n",
       "      <td>0</td>\n",
       "      <td>1</td>\n",
       "      <td>0</td>\n",
       "      <td>0</td>\n",
       "      <td>1</td>\n",
       "      <td>1</td>\n",
       "      <td>129.02</td>\n",
       "      <td>casual</td>\n",
       "      <td>NaN</td>\n",
       "    </tr>\n",
       "    <tr>\n",
       "      <th>3</th>\n",
       "      <td>user_00004</td>\n",
       "      <td>0</td>\n",
       "      <td>0</td>\n",
       "      <td>1</td>\n",
       "      <td>1</td>\n",
       "      <td>0</td>\n",
       "      <td>1</td>\n",
       "      <td>1</td>\n",
       "      <td>1</td>\n",
       "      <td>1</td>\n",
       "      <td>...</td>\n",
       "      <td>1</td>\n",
       "      <td>1</td>\n",
       "      <td>1</td>\n",
       "      <td>0</td>\n",
       "      <td>1</td>\n",
       "      <td>1</td>\n",
       "      <td>19</td>\n",
       "      <td>264.96</td>\n",
       "      <td>casual</td>\n",
       "      <td>NaN</td>\n",
       "    </tr>\n",
       "    <tr>\n",
       "      <th>4</th>\n",
       "      <td>user_00005</td>\n",
       "      <td>0</td>\n",
       "      <td>0</td>\n",
       "      <td>1</td>\n",
       "      <td>1</td>\n",
       "      <td>0</td>\n",
       "      <td>0</td>\n",
       "      <td>1</td>\n",
       "      <td>0</td>\n",
       "      <td>0</td>\n",
       "      <td>...</td>\n",
       "      <td>0</td>\n",
       "      <td>0</td>\n",
       "      <td>0</td>\n",
       "      <td>1</td>\n",
       "      <td>1</td>\n",
       "      <td>0</td>\n",
       "      <td>15</td>\n",
       "      <td>42.99</td>\n",
       "      <td>professional</td>\n",
       "      <td>NaN</td>\n",
       "    </tr>\n",
       "  </tbody>\n",
       "</table>\n",
       "<p>5 rows × 23 columns</p>\n",
       "</div>"
      ],
      "text/plain": [
       "      user_id  feature_1  feature_2  feature_3  feature_4  feature_5  \\\n",
       "0  user_00001          0          1          0          0          1   \n",
       "1  user_00002          1          1          1          1          1   \n",
       "2  user_00003          0          1          1          1          1   \n",
       "3  user_00004          0          0          1          1          0   \n",
       "4  user_00005          0          0          1          1          0   \n",
       "\n",
       "   feature_6  feature_7  feature_8  feature_9  ...  feature_13  feature_14  \\\n",
       "0          1          0          0          1  ...           0           0   \n",
       "1          1          1          0          0  ...           0           1   \n",
       "2          0          1          1          1  ...           1           0   \n",
       "3          1          1          1          1  ...           1           1   \n",
       "4          0          1          0          0  ...           0           0   \n",
       "\n",
       "   feature_15  feature_16  feature_17  feature_18  sessions  total_time_min  \\\n",
       "0           1           0           1           0        16           59.51   \n",
       "1           0           0           0           0         5          214.75   \n",
       "2           1           0           0           1         1          129.02   \n",
       "3           1           0           1           1        19          264.96   \n",
       "4           0           1           1           0        15           42.99   \n",
       "\n",
       "     user_group  satisfaction_rating  \n",
       "0        casual                  NaN  \n",
       "1  professional                  NaN  \n",
       "2        casual                  NaN  \n",
       "3        casual                  NaN  \n",
       "4  professional                  NaN  \n",
       "\n",
       "[5 rows x 23 columns]"
      ]
     },
     "execution_count": 13,
     "metadata": {},
     "output_type": "execute_result"
    }
   ],
   "source": [
    "df.head()"
   ]
  },
  {
   "cell_type": "markdown",
   "id": "9b4dc2da",
   "metadata": {},
   "source": [
    "## Data Preparation: Create a new data frame that only includes the 2,000 users who have a satisfaction_rating. All users with a NaN value in this column should be filtered out."
   ]
  },
  {
   "cell_type": "code",
   "execution_count": 14,
   "id": "a7b8454e",
   "metadata": {},
   "outputs": [
    {
     "name": "stdout",
     "output_type": "stream",
     "text": [
      "satisfaction_rating\n",
      "NaN    48000\n",
      "4.0      427\n",
      "1.0      419\n",
      "5.0      402\n",
      "3.0      395\n",
      "2.0      357\n",
      "Name: count, dtype: int64\n"
     ]
    }
   ],
   "source": [
    "frequencies = df['satisfaction_rating'].value_counts(dropna=False)\n",
    "print(frequencies)"
   ]
  },
  {
   "cell_type": "code",
   "execution_count": 15,
   "id": "75ccefc6",
   "metadata": {},
   "outputs": [
    {
     "name": "stdout",
     "output_type": "stream",
     "text": [
      "2000\n"
     ]
    }
   ],
   "source": [
    "df.dropna(subset=['satisfaction_rating'], inplace=True)\n",
    "print(len(df))  # Should print 2000"
   ]
  },
  {
   "cell_type": "markdown",
   "id": "fcfd112b",
   "metadata": {},
   "source": [
    "## Feature Engineering: For each user in your new DataFrame, create a new column called feature_usage_score. This score should be the sum of the 18 binary feature columns (from feature_1 to feature_18)."
   ]
  },
  {
   "cell_type": "code",
   "execution_count": 16,
   "id": "1eb245fa",
   "metadata": {},
   "outputs": [],
   "source": [
    "cols_to_add = [col for col in df.columns if\n",
    "                           col.startswith('feature_')]\n",
    "# print(cols_to_add)\n",
    "df['feature_usage_score'] = df[cols_to_add].sum(axis=1)"
   ]
  },
  {
   "cell_type": "markdown",
   "id": "af5b3c8e",
   "metadata": {},
   "source": [
    "## Data visualization: Generate two plots: one of this new variable, and one box plot of feature_usage_score for each satisfaction_rating level.\n",
    "\n",
    "### Plot `feature_usage_score`"
   ]
  },
  {
   "cell_type": "code",
   "execution_count": 19,
   "id": "a4311761",
   "metadata": {},
   "outputs": [
    {
     "data": {
      "image/png": "[encoded data removed]",
      "text/plain": [
       "<Figure size 640x480 with 1 Axes>"
      ]
     },
     "metadata": {},
     "output_type": "display_data"
    }
   ],
   "source": [
    "# Create histogram\n",
    "plt.hist(df['feature_usage_score'], bins=5, color='blue', edgecolor='black')\n",
    "\n",
    "# Add labels and title\n",
    "plt.xlabel('Feature Usage Score')\n",
    "plt.ylabel('Frequency')\n",
    "plt.title('Histogram of Feature Usage Score Frequencies')\n",
    "\n",
    "# Show the plot\n",
    "plt.show()"
   ]
  },
  {
   "cell_type": "markdown",
   "id": "475c43ec",
   "metadata": {},
   "source": [
    "### Plot `feature_usage_score` by `satisfaction_rating`"
   ]
  },
  {
   "cell_type": "code",
   "execution_count": 22,
   "id": "9e2a493b",
   "metadata": {},
   "outputs": [
    {
     "data": {
      "image/png": "[encoded data removed]",
      "text/plain": [
       "<Figure size 800x600 with 1 Axes>"
      ]
     },
     "metadata": {},
     "output_type": "display_data"
    }
   ],
   "source": [
    "# Create the box plot\n",
    "plt.figure(figsize=(8, 6))\n",
    "sns.boxplot(x='satisfaction_rating', y='feature_usage_score', data=df)\n",
    "\n",
    "# Add labels and title\n",
    "plt.title('Box Plot of Feature Usage Score by Satisfaction Rating', fontsize=14)\n",
    "plt.xlabel('Satisfaction Rating', fontsize=12)\n",
    "plt.ylabel('Feature Usage Score', fontsize=12)\n",
    "\n",
    "# Show the plot\n",
    "plt.show()"
   ]
  },
  {
   "cell_type": "markdown",
   "id": "f2b08aa7",
   "metadata": {
    "vscode": {
     "languageId": "plaintext"
    }
   },
   "source": [
    "# Descriptive Analysis: Using the new feature_usage_score column, calculate and display the following:\n"
   ]
  },
  {
   "cell_type": "markdown",
   "id": "6f29974d",
   "metadata": {},
   "source": [
    "## The average feature_usage_score for each of the five satisfaction_rating levels (1-5)."
   ]
  },
  {
   "cell_type": "code",
   "execution_count": 30,
   "id": "4dceac0c",
   "metadata": {},
   "outputs": [
    {
     "name": "stdout",
     "output_type": "stream",
     "text": [
      "satisfaction_rating\n",
      "1.0    8.961814\n",
      "2.0    8.977591\n",
      "3.0    9.032911\n",
      "4.0    8.922717\n",
      "5.0    9.059701\n",
      "Name: feature_usage_score, dtype: float64\n"
     ]
    }
   ],
   "source": [
    "# Group by 'satisfaction_rating' and calculate the average 'feature_usage_score'\n",
    "average_scores = df.groupby('satisfaction_rating')['feature_usage_score'].mean()\n",
    "\n",
    "# Display the result\n",
    "print(average_scores)"
   ]
  },
  {
   "cell_type": "markdown",
   "id": "a723e57e",
   "metadata": {},
   "source": [
    "## The average feature_usage_score for each of the three user_group categories (casual, professional, and disinterested)."
   ]
  },
  {
   "cell_type": "code",
   "execution_count": 31,
   "id": "baef41ce",
   "metadata": {},
   "outputs": [
    {
     "name": "stdout",
     "output_type": "stream",
     "text": [
      "user_group\n",
      "casual           8.975050\n",
      "disinterested    8.955000\n",
      "professional     9.038462\n",
      "Name: feature_usage_score, dtype: float64\n"
     ]
    }
   ],
   "source": [
    "# Group by 'user_group' and calculate the average 'feature_usage_score'\n",
    "average_scores = df.groupby('user_group')['feature_usage_score'].mean()\n",
    "\n",
    "# Display the result\n",
    "print(average_scores)"
   ]
  },
  {
   "cell_type": "markdown",
   "id": "efbbb17c",
   "metadata": {},
   "source": [
    "# My interpretation of the plots and descriptive analysis\n",
    "\n",
    "The `feature_usage_score` is basically normally distributed around 9 which means that on average, users used 9 features during the observation period. The plots of `feature_usage_score` by `satisfaction_rating` show that this pattern holds across all levels of satisfaction. Really satisfied users didn't use any more or fewer features than dissatisfied users. The same is true about casual, disinterested, and professional users. They all used about the same number of features. I guess I could run inferential tests or linear models to see if those small differences are statistically significant, but, even if they are, they are likely not meaningful for our app because they won't differ by even 1 feature."
   ]
  }
 ],
 "metadata": {
  "kernelspec": {
   "display_name": ".venv",
   "language": "python",
   "name": "python3"
  },
  "language_info": {
   "codemirror_mode": {
    "name": "ipython",
    "version": 3
   },
   "file_extension": ".py",
   "mimetype": "text/x-python",
   "name": "python",
   "nbconvert_exporter": "python",
   "pygments_lexer": "ipython3",
   "version": "3.13.5"
  }
 },
 "nbformat": 4,
 "nbformat_minor": 5
}
