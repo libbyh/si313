{
 "cells": [
  {
   "cell_type": "code",
   "id": "initial_id",
   "metadata": {
    "collapsed": true,
    "ExecuteTime": {
     "end_time": "2025-09-03T14:13:45.614811Z",
     "start_time": "2025-09-03T14:13:45.613188Z"
    }
   },
   "source": [
    "from scipy import stats\n",
    "import pandas as pd\n",
    "import seaborn as sns\n",
    "import matplotlib.pyplot as plt"
   ],
   "outputs": [],
   "execution_count": 1
  },
  {
   "metadata": {},
   "cell_type": "markdown",
   "source": [
    "# Load the data\n",
    "\n",
    "We're using the updated dataset we created in the [descriptive stats notebook](descriptive_stats.ipynb)."
   ],
   "id": "77fd1a7050841846"
  },
  {
   "metadata": {
    "ExecuteTime": {
     "end_time": "2025-09-03T14:13:45.625637Z",
     "start_time": "2025-09-03T14:13:45.618558Z"
    }
   },
   "cell_type": "code",
   "source": "df = pd.read_csv('../../data/fortnite_players_stats_updated.csv')",
   "id": "e07ea3a412fee849",
   "outputs": [],
   "execution_count": 2
  },
  {
   "metadata": {},
   "cell_type": "markdown",
   "source": [
    "# Visualize the data\n",
    "\n",
    "First look at the data."
   ],
   "id": "de3978ea1fb9ab1c"
  },
  {
   "metadata": {
    "ExecuteTime": {
     "end_time": "2025-09-03T14:14:04.693719Z",
     "start_time": "2025-09-03T14:14:04.600966Z"
    }
   },
   "cell_type": "code",
   "source": [
    "# Create the bar plot to visualize the mean difference\n",
    "custom_order = ['Solo', 'Duos', 'Trios', 'Squads']\n",
    "\n",
    "sns.set_theme(style=\"whitegrid\")\n",
    "plt.figure(figsize=(8, 6))\n",
    "barplot = sns.barplot(\n",
    "    x='most_played_mode',\n",
    "    y='Solo kd',\n",
    "    data=df,\n",
    "    hue='most_played_mode',\n",
    "    order=custom_order\n",
    ")\n",
    "\n",
    "# Add titles and labels for clarity\n",
    "plt.title('Mean Solo K/D per group', fontsize=16, fontweight='bold')\n",
    "plt.xlabel('Most Played Mode', fontsize=12)\n",
    "plt.ylabel('Mean Solo K/D', fontsize=12)\n",
    "\n",
    "# Add the mean value on top of each bar\n",
    "for p in barplot.patches:\n",
    "    barplot.annotate(\n",
    "        format(p.get_height(), '.2f'),\n",
    "        (p.get_x() + p.get_width() / 2., p.get_height()),\n",
    "        ha = 'center',\n",
    "        va = 'center',\n",
    "        xytext = (0, 9),\n",
    "        textcoords = 'offset points'\n",
    "    )\n",
    "\n",
    "# Display the plot\n",
    "plt.tight_layout()\n",
    "plt.show()"
   ],
   "id": "9642f6fc19f57048",
   "outputs": [
    {
     "data": {
      "text/plain": [
       "<Figure size 800x600 with 1 Axes>"
      ],
      "image/png": "[encoded data removed]"
     },
     "metadata": {},
     "output_type": "display_data"
    }
   ],
   "execution_count": 8
  },
  {
   "metadata": {},
   "cell_type": "markdown",
   "source": [
    "# Compare the means of two groups\n",
    "\n",
    "Let's see if people who usually play in groups differ in their solo performance. We'll answer this question:\n",
    "> Is there a statistically significant difference in `Solo K/D` between players who primarily play Squads and players who primarily play Solo?"
   ],
   "id": "2704aaae083fa46c"
  },
  {
   "metadata": {
    "ExecuteTime": {
     "end_time": "2025-09-03T14:14:06.016675Z",
     "start_time": "2025-09-03T14:14:06.012606Z"
    }
   },
   "cell_type": "code",
   "source": [
    "# 1. Separate the 'kills' data into two series, one for each team\n",
    "team_solo_kd = df[df['most_played_mode'] == 'Solo']['Solo kd']\n",
    "team_squads_kd = df[df['most_played_mode'] == 'Squads']['Solo kd']"
   ],
   "id": "d8f0c662cb48d893",
   "outputs": [],
   "execution_count": 9
  },
  {
   "metadata": {
    "ExecuteTime": {
     "end_time": "2025-09-03T14:14:06.527681Z",
     "start_time": "2025-09-03T14:14:06.523938Z"
    }
   },
   "cell_type": "code",
   "source": [
    "# 2. Perform an independent samples t-test\n",
    "# The ttest_ind function compares the means of two independent groups\n",
    "# The 'equal_var=False' argument performs Welch's t-test, which is generally\n",
    "# a safer choice when group variances might be different.\n",
    "t_statistic, p_value = stats.ttest_ind(team_solo_kd, team_squads_kd, equal_var=False)\n"
   ],
   "id": "37d44fe3b1040674",
   "outputs": [],
   "execution_count": 10
  },
  {
   "metadata": {
    "ExecuteTime": {
     "end_time": "2025-09-03T14:14:06.937131Z",
     "start_time": "2025-09-03T14:14:06.934211Z"
    }
   },
   "cell_type": "code",
   "source": [
    "# 3. Print the results\n",
    "print(\"Solo Players' mean k/d:\", team_solo_kd.mean())\n",
    "print(\"Squads Players' mean k/d:\", team_squads_kd.mean())\n",
    "print(\"-\" * 30)\n",
    "print(\"T-Statistic:\", t_statistic)\n",
    "print(\"P-Value:\", p_value)"
   ],
   "id": "de6b6099cf656f26",
   "outputs": [
    {
     "name": "stdout",
     "output_type": "stream",
     "text": [
      "Solo Players' mean k/d: 2.0330859375\n",
      "Squads Players' mean k/d: 1.9776333333333331\n",
      "------------------------------\n",
      "T-Statistic: 0.6409453297133237\n",
      "P-Value: 0.5217735923559662\n"
     ]
    }
   ],
   "execution_count": 11
  },
  {
   "metadata": {
    "ExecuteTime": {
     "end_time": "2025-09-03T14:14:07.376437Z",
     "start_time": "2025-09-03T14:14:07.374060Z"
    }
   },
   "cell_type": "code",
   "source": [
    "# 4. Interpret the p-value to draw a conclusion\n",
    "# The p-value tells us the probability of observing a difference this large\n",
    "# by random chance. We typically use a significance level of 0.05.\n",
    "print(\"\\nConclusion:\")\n",
    "if p_value < 0.05:\n",
    "    print(\"The difference in mean k/d between the two groups is statistically significant.\")\n",
    "else:\n",
    "    print(\"There is no statistically significant difference in mean k/d between the two groups.\")"
   ],
   "id": "9d8e035b6664a299",
   "outputs": [
    {
     "name": "stdout",
     "output_type": "stream",
     "text": [
      "\n",
      "Conclusion:\n",
      "There is no statistically significant difference in mean k/d between the two groups.\n"
     ]
    }
   ],
   "execution_count": 12
  }
 ],
 "metadata": {
  "kernelspec": {
   "display_name": "Python 3",
   "language": "python",
   "name": "python3"
  },
  "language_info": {
   "codemirror_mode": {
    "name": "ipython",
    "version": 2
   },
   "file_extension": ".py",
   "mimetype": "text/x-python",
   "name": "python",
   "nbconvert_exporter": "python",
   "pygments_lexer": "ipython2",
   "version": "2.7.6"
  }
 },
 "nbformat": 4,
 "nbformat_minor": 5
}
