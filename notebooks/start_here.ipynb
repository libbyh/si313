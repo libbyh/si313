{
 "cells": [
  {
   "cell_type": "markdown",
   "id": "4cf45990",
   "metadata": {},
   "source": [
    "# Start Here\n",
    "\n",
    "Before you get started, make sure your paths are set correctly. The rest of the notebooks assume that you have set your working directory to the main folder of the GitHub repo. You can see my path below."
   ]
  },
  {
   "cell_type": "code",
   "execution_count": null,
   "id": "5ba3047a",
   "metadata": {},
   "outputs": [
    {
     "data": {
      "text/plain": [
       "'/Users/libbyh/VSCode/si313'"
      ]
     },
     "execution_count": 1,
     "metadata": {},
     "output_type": "execute_result"
    }
   ],
   "source": [
    "import os\n",
    "os.chdir(  '/Users/libbyh/VSCode/si313') # replace with your path\n",
    "os.getcwd() # confirm your path is set correctly"
   ]
  },
  {
   "cell_type": "markdown",
   "id": "29519919",
   "metadata": {},
   "source": [
    "Then check that it worked by looking for a file that should be present. If you see \"The file 'data/fortnite_players_stats.csv' exists.\" below, you're good to go."
   ]
  },
  {
   "cell_type": "code",
   "execution_count": 3,
   "id": "1a6f8b98",
   "metadata": {},
   "outputs": [
    {
     "name": "stdout",
     "output_type": "stream",
     "text": [
      "The file 'data/fortnite_players_stats.csv' exists.\n"
     ]
    }
   ],
   "source": [
    "file_path = 'data/fortnite_players_stats.csv'\n",
    "\n",
    "if os.path.exists(file_path):\n",
    "    print(f\"The file '{file_path}' exists.\")\n",
    "else:\n",
    "    print(f\"The file '{file_path}' does not exist.\")"
   ]
  }
 ],
 "metadata": {
  "kernelspec": {
   "display_name": ".venv",
   "language": "python",
   "name": "python3"
  },
  "language_info": {
   "codemirror_mode": {
    "name": "ipython",
    "version": 3
   },
   "file_extension": ".py",
   "mimetype": "text/x-python",
   "name": "python",
   "nbconvert_exporter": "python",
   "pygments_lexer": "ipython3",
   "version": "3.13.5"
  }
 },
 "nbformat": 4,
 "nbformat_minor": 5
}
