{
 "cells": [
  {
   "cell_type": "code",
   "id": "initial_id",
   "metadata": {
    "collapsed": true,
    "ExecuteTime": {
     "end_time": "2025-08-30T17:06:08.904253Z",
     "start_time": "2025-08-30T17:06:02.799163Z"
    }
   },
   "source": [
    "import pandas as pd\n",
    "import numpy as np\n",
    "import plotly.graph_objects as go\n",
    "import plotly.express as px"
   ],
   "outputs": [],
   "execution_count": 1
  },
  {
   "metadata": {},
   "cell_type": "markdown",
   "source": "# Breakfast Buffet Example\n",
   "id": "67e8f94a45480026"
  },
  {
   "metadata": {
    "ExecuteTime": {
     "end_time": "2025-08-30T17:06:08.913425Z",
     "start_time": "2025-08-30T17:06:08.909056Z"
    }
   },
   "cell_type": "code",
   "source": [
    "# Set seed for reproducibility\n",
    "np.random.seed(10010)\n",
    "\n",
    "foods = [\"Pastry\", \"Granola\", \"Yogurt\", \"Potatoes\", \"Eggs\"]\n",
    "N_obs = 5000\n",
    "probabilities = [0.1, 0.4, 0.4, 0.1] # make 2-3 items more common than the extremes\n",
    "num_events = np.random.choice([1, 2, 3, 4], N_obs, p=probabilities)\n",
    "print(pd.Series(num_events).value_counts().sort_index())\n"
   ],
   "id": "ffb9b8478856b348",
   "outputs": [
    {
     "name": "stdout",
     "output_type": "stream",
     "text": [
      "1     498\n",
      "2    1973\n",
      "3    1983\n",
      "4     546\n",
      "Name: count, dtype: int64\n"
     ]
    }
   ],
   "execution_count": 2
  },
  {
   "metadata": {
    "ExecuteTime": {
     "end_time": "2025-08-30T17:06:08.971939Z",
     "start_time": "2025-08-30T17:06:08.969779Z"
    }
   },
   "cell_type": "code",
   "source": [
    "def one_event(length, data, sep='-'):\n",
    "    prob = np.array([5, 4, 3, 2, 1]) / 15\n",
    "    event = np.random.choice(data, length, p=prob, replace=True)\n",
    "    return sep.join(event)\n",
    "\n",
    "# Test the function\n",
    "print(one_event(3, foods))\n",
    "print(one_event(6, foods))\n"
   ],
   "id": "6d223e0394ae40a5",
   "outputs": [
    {
     "name": "stdout",
     "output_type": "stream",
     "text": [
      "Granola-Granola-Granola\n",
      "Potatoes-Potatoes-Pastry-Granola-Potatoes-Pastry\n"
     ]
    }
   ],
   "execution_count": 3
  },
  {
   "metadata": {
    "ExecuteTime": {
     "end_time": "2025-08-30T17:06:09.050990Z",
     "start_time": "2025-08-30T17:06:08.978950Z"
    }
   },
   "cell_type": "code",
   "source": [
    "# Generate all event sequences\n",
    "events = [one_event(length, foods) for length in num_events]\n",
    "events_series = pd.Series(events)\n",
    "\n",
    "# Calculate frequencies\n",
    "events_freq = events_series.value_counts().reset_index()\n",
    "events_freq.columns = ['path', 'count']\n",
    "\n",
    "# Define the color palette and a dictionary to map food items to colors\n",
    "breakfast_palette = ['#E41A1C', '#377EB8', '#4DAF4A', '#984EA3', '#FF7F00']\n",
    "color_map = {food: color for food, color in zip(foods, breakfast_palette)}\n"
   ],
   "id": "589db677e5627385",
   "outputs": [],
   "execution_count": 4
  },
  {
   "metadata": {
    "ExecuteTime": {
     "end_time": "2025-08-30T17:06:09.068545Z",
     "start_time": "2025-08-30T17:06:09.057068Z"
    }
   },
   "cell_type": "code",
   "source": [
    "def build_buffet_sunburst_data(df):\n",
    "    node_data = []\n",
    "    added_nodes = set()\n",
    "\n",
    "    for _, row in df.iterrows():\n",
    "        path = row['path']\n",
    "        value = row['count']\n",
    "\n",
    "        nodes = path.split('-')\n",
    "\n",
    "        for i in range(1, len(nodes) + 1):\n",
    "            current_path = '-'.join(nodes[:i])\n",
    "            parent_path = '-'.join(nodes[:i-1]) if i > 1 else ''\n",
    "\n",
    "            if current_path not in added_nodes:\n",
    "                # Add the color to the node data\n",
    "                label = nodes[i-1]\n",
    "                color = color_map.get(label, '#CCCCCC') # Default to grey if not in map\n",
    "                node_data.append({\n",
    "                    'id': current_path,\n",
    "                    'parent': parent_path,\n",
    "                    'label': label,\n",
    "                    'value': 0, # Initialize intermediate node values to zero\n",
    "                    'color': color\n",
    "                })\n",
    "                added_nodes.add(current_path)\n",
    "\n",
    "            if i == len(nodes):\n",
    "                for node in node_data:\n",
    "                    if node['id'] == current_path:\n",
    "                        node['value'] = value\n",
    "                        break\n",
    "\n",
    "    return pd.DataFrame(node_data)\n",
    "\n",
    "sunburst_df = build_buffet_sunburst_data(events_freq)"
   ],
   "id": "bbc12fc1c9696a11",
   "outputs": [],
   "execution_count": 5
  },
  {
   "metadata": {
    "ExecuteTime": {
     "end_time": "2025-08-30T17:06:09.653205Z",
     "start_time": "2025-08-30T17:06:09.077652Z"
    }
   },
   "cell_type": "code",
   "source": [
    "# Create the sunburst figure\n",
    "fig = go.Figure(go.Sunburst(\n",
    "    ids=sunburst_df['id'],\n",
    "    labels=sunburst_df['label'],\n",
    "    parents=sunburst_df['parent'],\n",
    "    values=sunburst_df['value'],\n",
    "    marker_colors=sunburst_df['color'], # Use the new color column\n",
    "    insidetextorientation='radial',\n",
    "    domain={'x': [0, 1], 'y': [0, 1]}\n",
    "))\n",
    "\n",
    "fig.update_layout(\n",
    "    title_text='Sunburst Chart of Example Food Sequences',\n",
    "    uniformtext=dict(minsize=12, mode='hide')\n",
    ")\n",
    "\n",
    "fig.show()"
   ],
   "id": "1014a1cd19497602",
   "outputs": [
    {
     "data": {
      "application/vnd.plotly.v1+json": {
       "data": [
        {
         "domain": {
          "x": [
           0,
           1
          ],
          "y": [
           0,
           1
          ]
         },
         "ids": [
          "Pastry",
          "Pastry-Pastry",
          "Granola",
          "Granola-Pastry",
          "Pastry-Granola",
          "Granola-Granola",
          "Yogurt",
          "Yogurt-Pastry",
          "Pastry-Yogurt",
          "Yogurt-Granola",
          "Granola-Yogurt",
          "Potatoes",
          "Potatoes-Pastry",
          "Pastry-Potatoes",
          "Yogurt-Yogurt",
          "Pastry-Pastry-Pastry",
          "Pastry-Granola-Pastry",
          "Potatoes-Granola",
          "Potatoes-Yogurt",
          "Pastry-Pastry-Granola",
          "Granola-Pastry-Pastry",
          "Granola-Potatoes",
          "Eggs",
          "Eggs-Pastry",
          "Yogurt-Potatoes",
          "Pastry-Eggs",
          "Granola-Pastry-Granola",
          "Pastry-Granola-Granola",
          "Granola-Granola-Granola",
          "Pastry-Yogurt-Pastry",
          "Yogurt-Pastry-Pastry",
          "Yogurt-Granola-Pastry",
          "Granola-Granola-Pastry",
          "Pastry-Pastry-Potatoes",
          "Pastry-Yogurt-Yogurt",
          "Eggs-Granola",
          "Yogurt-Pastry-Granola",
          "Pastry-Yogurt-Granola",
          "Eggs-Yogurt",
          "Yogurt-Pastry-Yogurt",
          "Granola-Yogurt-Pastry",
          "Potatoes-Pastry-Pastry",
          "Yogurt-Granola-Granola",
          "Granola-Pastry-Yogurt",
          "Pastry-Granola-Potatoes",
          "Pastry-Pastry-Yogurt",
          "Potatoes-Potatoes",
          "Granola-Eggs",
          "Potatoes-Pastry-Granola",
          "Pastry-Granola-Yogurt",
          "Yogurt-Eggs",
          "Yogurt-Yogurt-Pastry",
          "Granola-Yogurt-Granola",
          "Pastry-Potatoes-Granola",
          "Yogurt-Granola-Yogurt",
          "Yogurt-Potatoes-Pastry",
          "Granola-Granola-Potatoes",
          "Granola-Pastry-Potatoes",
          "Granola-Granola-Yogurt",
          "Eggs-Pastry-Pastry",
          "Yogurt-Potatoes-Yogurt",
          "Potatoes-Granola-Pastry",
          "Granola-Yogurt-Yogurt",
          "Pastry-Potatoes-Pastry",
          "Yogurt-Potatoes-Granola",
          "Granola-Potatoes-Yogurt",
          "Potatoes-Granola-Granola",
          "Yogurt-Pastry-Potatoes",
          "Granola-Potatoes-Granola",
          "Eggs-Potatoes",
          "Granola-Potatoes-Pastry",
          "Potatoes-Potatoes-Pastry",
          "Granola-Granola-Eggs",
          "Pastry-Yogurt-Potatoes",
          "Pastry-Pastry-Eggs",
          "Potatoes-Pastry-Yogurt",
          "Granola-Yogurt-Potatoes",
          "Pastry-Potatoes-Yogurt",
          "Potatoes-Eggs",
          "Granola-Eggs-Pastry",
          "Yogurt-Granola-Potatoes",
          "Potatoes-Pastry-Potatoes",
          "Potatoes-Potatoes-Yogurt",
          "Potatoes-Yogurt-Pastry",
          "Yogurt-Yogurt-Granola",
          "Pastry-Eggs-Pastry",
          "Potatoes-Granola-Yogurt",
          "Potatoes-Yogurt-Granola",
          "Potatoes-Granola-Potatoes",
          "Pastry-Potatoes-Potatoes",
          "Eggs-Potatoes-Granola",
          "Yogurt-Yogurt-Yogurt",
          "Yogurt-Eggs-Pastry",
          "Pastry-Eggs-Granola",
          "Eggs-Granola-Granola",
          "Granola-Granola-Pastry-Granola",
          "Yogurt-Pastry-Eggs",
          "Granola-Eggs-Yogurt",
          "Pastry-Granola-Eggs",
          "Eggs-Yogurt-Granola",
          "Yogurt-Eggs-Yogurt",
          "Granola-Potatoes-Potatoes",
          "Pastry-Yogurt-Eggs",
          "Potatoes-Yogurt-Eggs",
          "Granola-Pastry-Eggs",
          "Eggs-Pastry-Yogurt",
          "Eggs-Granola-Pastry",
          "Yogurt-Potatoes-Potatoes",
          "Potatoes-Eggs-Pastry",
          "Potatoes-Potatoes-Granola",
          "Yogurt-Yogurt-Potatoes",
          "Granola-Eggs-Eggs",
          "Yogurt-Granola-Eggs",
          "Eggs-Pastry-Granola",
          "Pastry-Pastry-Pastry-Yogurt",
          "Eggs-Yogurt-Pastry",
          "Yogurt-Granola-Pastry-Pastry",
          "Pastry-Granola-Pastry-Granola",
          "Pastry-Pastry-Yogurt-Pastry",
          "Granola-Potatoes-Eggs",
          "Eggs-Potatoes-Pastry",
          "Pastry-Eggs-Yogurt",
          "Potatoes-Yogurt-Yogurt",
          "Pastry-Yogurt-Granola-Pastry",
          "Granola-Yogurt-Eggs",
          "Yogurt-Eggs-Granola",
          "Pastry-Pastry-Granola-Pastry",
          "Granola-Eggs-Granola",
          "Yogurt-Pastry-Pastry-Pastry",
          "Granola-Yogurt-Pastry-Yogurt",
          "Yogurt-Pastry-Yogurt-Pastry",
          "Pastry-Pastry-Yogurt-Yogurt",
          "Eggs-Pastry-Potatoes",
          "Yogurt-Potatoes-Pastry-Yogurt",
          "Eggs-Potatoes-Yogurt",
          "Eggs-Granola-Yogurt",
          "Pastry-Pastry-Pastry-Pastry",
          "Pastry-Granola-Granola-Granola",
          "Eggs-Granola-Potatoes",
          "Potatoes-Potatoes-Eggs",
          "Potatoes-Yogurt-Potatoes",
          "Pastry-Eggs-Potatoes",
          "Granola-Pastry-Pastry-Granola",
          "Yogurt-Potatoes-Eggs",
          "Eggs-Pastry-Eggs",
          "Potatoes-Pastry-Yogurt-Granola",
          "Pastry-Granola-Yogurt-Pastry",
          "Pastry-Granola-Granola-Pastry",
          "Granola-Pastry-Granola-Pastry",
          "Yogurt-Pastry-Granola-Granola",
          "Pastry-Pastry-Potatoes-Granola",
          "Yogurt-Yogurt-Pastry-Pastry",
          "Eggs-Yogurt-Yogurt",
          "Pastry-Yogurt-Granola-Yogurt",
          "Yogurt-Granola-Yogurt-Pastry",
          "Pastry-Eggs-Eggs",
          "Potatoes-Eggs-Granola",
          "Pastry-Yogurt-Pastry-Potatoes",
          "Potatoes-Granola-Yogurt-Pastry",
          "Pastry-Granola-Pastry-Pastry",
          "Potatoes-Granola-Eggs",
          "Yogurt-Pastry-Granola-Pastry",
          "Eggs-Eggs",
          "Pastry-Potatoes-Pastry-Pastry",
          "Granola-Yogurt-Pastry-Pastry",
          "Pastry-Pastry-Granola-Granola",
          "Potatoes-Pastry-Eggs",
          "Granola-Granola-Pastry-Pastry",
          "Yogurt-Eggs-Potatoes",
          "Yogurt-Granola-Granola-Potatoes",
          "Pastry-Pastry-Yogurt-Granola",
          "Potatoes-Yogurt-Pastry-Granola",
          "Potatoes-Granola-Pastry-Potatoes",
          "Pastry-Granola-Pastry-Yogurt",
          "Pastry-Potatoes-Eggs",
          "Yogurt-Pastry-Pastry-Potatoes",
          "Granola-Yogurt-Eggs-Pastry",
          "Potatoes-Pastry-Pastry-Granola",
          "Yogurt-Granola-Yogurt-Granola",
          "Granola-Yogurt-Yogurt-Yogurt",
          "Yogurt-Granola-Granola-Yogurt",
          "Pastry-Eggs-Pastry-Granola",
          "Pastry-Potatoes-Pastry-Yogurt",
          "Granola-Pastry-Yogurt-Potatoes",
          "Granola-Potatoes-Pastry-Granola",
          "Yogurt-Eggs-Eggs",
          "Yogurt-Yogurt-Potatoes-Pastry",
          "Pastry-Yogurt-Granola-Granola",
          "Potatoes-Pastry-Pastry-Pastry",
          "Potatoes-Granola-Granola-Granola",
          "Yogurt-Granola-Granola-Pastry",
          "Granola-Pastry-Yogurt-Pastry",
          "Potatoes-Eggs-Yogurt",
          "Granola-Granola-Yogurt-Pastry",
          "Potatoes-Yogurt-Granola-Pastry",
          "Granola-Granola-Pastry-Potatoes",
          "Pastry-Yogurt-Potatoes-Pastry",
          "Granola-Eggs-Potatoes",
          "Pastry-Yogurt-Granola-Potatoes",
          "Granola-Potatoes-Pastry-Yogurt",
          "Pastry-Potatoes-Pastry-Granola",
          "Pastry-Granola-Yogurt-Yogurt",
          "Pastry-Eggs-Yogurt-Granola",
          "Yogurt-Pastry-Potatoes-Granola",
          "Potatoes-Eggs-Potatoes",
          "Potatoes-Yogurt-Pastry-Potatoes",
          "Pastry-Granola-Potatoes-Pastry",
          "Pastry-Pastry-Granola-Eggs",
          "Pastry-Yogurt-Pastry-Granola",
          "Yogurt-Pastry-Pastry-Eggs",
          "Yogurt-Pastry-Yogurt-Granola",
          "Pastry-Granola-Eggs-Potatoes",
          "Granola-Potatoes-Pastry-Potatoes",
          "Pastry-Potatoes-Yogurt-Yogurt",
          "Pastry-Granola-Potatoes-Yogurt",
          "Eggs-Granola-Yogurt-Granola",
          "Granola-Potatoes-Potatoes-Yogurt",
          "Pastry-Yogurt-Eggs-Yogurt",
          "Yogurt-Yogurt-Pastry-Yogurt",
          "Eggs-Pastry-Pastry-Pastry",
          "Yogurt-Potatoes-Potatoes-Pastry",
          "Granola-Potatoes-Pastry-Pastry",
          "Granola-Potatoes-Granola-Pastry",
          "Eggs-Potatoes-Potatoes",
          "Yogurt-Eggs-Potatoes-Granola",
          "Granola-Granola-Granola-Granola",
          "Granola-Pastry-Yogurt-Granola",
          "Granola-Pastry-Pastry-Potatoes",
          "Yogurt-Yogurt-Eggs",
          "Yogurt-Yogurt-Potatoes-Potatoes",
          "Yogurt-Potatoes-Pastry-Pastry",
          "Potatoes-Granola-Pastry-Granola",
          "Yogurt-Potatoes-Pastry-Potatoes",
          "Pastry-Yogurt-Pastry-Pastry",
          "Yogurt-Pastry-Yogurt-Potatoes",
          "Pastry-Potatoes-Granola-Yogurt",
          "Pastry-Yogurt-Potatoes-Yogurt",
          "Pastry-Granola-Potatoes-Potatoes",
          "Potatoes-Pastry-Potatoes-Pastry",
          "Granola-Yogurt-Granola-Granola",
          "Eggs-Pastry-Granola-Granola",
          "Eggs-Yogurt-Potatoes",
          "Granola-Pastry-Granola-Granola",
          "Granola-Yogurt-Potatoes-Granola",
          "Potatoes-Eggs-Eggs",
          "Granola-Pastry-Potatoes-Yogurt",
          "Pastry-Eggs-Granola-Granola",
          "Pastry-Potatoes-Yogurt-Pastry",
          "Pastry-Yogurt-Yogurt-Pastry",
          "Potatoes-Granola-Yogurt-Yogurt",
          "Potatoes-Yogurt-Potatoes-Granola",
          "Yogurt-Granola-Pastry-Yogurt",
          "Granola-Potatoes-Potatoes-Pastry",
          "Eggs-Pastry-Granola-Yogurt",
          "Granola-Pastry-Granola-Eggs",
          "Eggs-Granola-Pastry-Pastry",
          "Pastry-Yogurt-Yogurt-Eggs",
          "Granola-Yogurt-Granola-Pastry",
          "Granola-Yogurt-Yogurt-Pastry",
          "Pastry-Granola-Granola-Yogurt",
          "Granola-Yogurt-Pastry-Granola",
          "Granola-Pastry-Yogurt-Yogurt",
          "Granola-Granola-Pastry-Yogurt",
          "Potatoes-Potatoes-Potatoes",
          "Pastry-Pastry-Pastry-Potatoes",
          "Potatoes-Yogurt-Granola-Granola",
          "Pastry-Pastry-Pastry-Granola",
          "Granola-Eggs-Pastry-Eggs",
          "Potatoes-Potatoes-Granola-Potatoes",
          "Potatoes-Granola-Yogurt-Granola",
          "Granola-Pastry-Eggs-Pastry",
          "Potatoes-Granola-Pastry-Pastry",
          "Pastry-Pastry-Potatoes-Yogurt",
          "Potatoes-Eggs-Yogurt-Potatoes",
          "Granola-Potatoes-Eggs-Eggs",
          "Potatoes-Granola-Granola-Potatoes",
          "Yogurt-Pastry-Granola-Yogurt",
          "Potatoes-Pastry-Eggs-Pastry",
          "Granola-Pastry-Eggs-Granola",
          "Eggs-Yogurt-Potatoes-Potatoes",
          "Pastry-Yogurt-Eggs-Granola",
          "Yogurt-Yogurt-Yogurt-Granola",
          "Granola-Granola-Granola-Yogurt",
          "Pastry-Granola-Yogurt-Eggs",
          "Eggs-Granola-Potatoes-Eggs",
          "Pastry-Potatoes-Yogurt-Granola",
          "Potatoes-Pastry-Eggs-Granola",
          "Yogurt-Granola-Pastry-Granola",
          "Granola-Pastry-Eggs-Potatoes",
          "Potatoes-Granola-Granola-Pastry",
          "Potatoes-Granola-Granola-Yogurt",
          "Granola-Pastry-Pastry-Eggs",
          "Granola-Pastry-Pastry-Yogurt",
          "Eggs-Eggs-Granola",
          "Eggs-Pastry-Eggs-Granola",
          "Granola-Eggs-Eggs-Potatoes",
          "Potatoes-Potatoes-Yogurt-Pastry",
          "Eggs-Granola-Granola-Pastry",
          "Pastry-Eggs-Potatoes-Pastry",
          "Eggs-Potatoes-Eggs",
          "Eggs-Potatoes-Eggs-Potatoes",
          "Granola-Yogurt-Eggs-Eggs",
          "Pastry-Yogurt-Pastry-Eggs",
          "Yogurt-Yogurt-Potatoes-Granola",
          "Pastry-Yogurt-Eggs-Pastry",
          "Yogurt-Potatoes-Yogurt-Granola",
          "Yogurt-Potatoes-Granola-Pastry",
          "Yogurt-Eggs-Eggs-Yogurt",
          "Eggs-Potatoes-Pastry-Pastry",
          "Yogurt-Yogurt-Yogurt-Potatoes",
          "Eggs-Potatoes-Yogurt-Pastry",
          "Yogurt-Eggs-Yogurt-Yogurt",
          "Eggs-Pastry-Eggs-Pastry",
          "Potatoes-Yogurt-Granola-Potatoes",
          "Eggs-Granola-Eggs",
          "Eggs-Granola-Eggs-Potatoes",
          "Granola-Granola-Eggs-Potatoes",
          "Yogurt-Potatoes-Yogurt-Eggs",
          "Yogurt-Yogurt-Pastry-Potatoes",
          "Granola-Granola-Granola-Pastry",
          "Yogurt-Eggs-Yogurt-Pastry",
          "Potatoes-Pastry-Yogurt-Yogurt",
          "Pastry-Granola-Yogurt-Granola",
          "Yogurt-Granola-Pastry-Eggs",
          "Pastry-Potatoes-Eggs-Eggs",
          "Granola-Pastry-Potatoes-Potatoes",
          "Granola-Yogurt-Granola-Potatoes",
          "Eggs-Granola-Pastry-Yogurt",
          "Granola-Eggs-Pastry-Pastry",
          "Granola-Eggs-Yogurt-Eggs",
          "Pastry-Pastry-Eggs-Yogurt",
          "Granola-Yogurt-Yogurt-Granola",
          "Eggs-Pastry-Yogurt-Pastry",
          "Potatoes-Pastry-Granola-Granola",
          "Yogurt-Granola-Potatoes-Yogurt",
          "Potatoes-Yogurt-Eggs-Pastry",
          "Yogurt-Yogurt-Eggs-Pastry",
          "Pastry-Potatoes-Potatoes-Granola",
          "Pastry-Eggs-Yogurt-Potatoes",
          "Yogurt-Granola-Pastry-Potatoes",
          "Granola-Granola-Potatoes-Granola",
          "Pastry-Potatoes-Eggs-Potatoes",
          "Yogurt-Granola-Eggs-Pastry",
          "Eggs-Pastry-Pastry-Eggs",
          "Pastry-Yogurt-Eggs-Potatoes",
          "Eggs-Pastry-Pastry-Yogurt",
          "Pastry-Pastry-Yogurt-Potatoes",
          "Eggs-Eggs-Pastry",
          "Eggs-Eggs-Pastry-Yogurt",
          "Eggs-Yogurt-Pastry-Pastry",
          "Potatoes-Pastry-Yogurt-Pastry",
          "Granola-Granola-Potatoes-Pastry",
          "Potatoes-Pastry-Pastry-Potatoes",
          "Pastry-Yogurt-Pastry-Yogurt",
          "Yogurt-Yogurt-Pastry-Eggs",
          "Yogurt-Yogurt-Pastry-Granola",
          "Granola-Pastry-Potatoes-Granola",
          "Potatoes-Yogurt-Pastry-Pastry",
          "Granola-Potatoes-Granola-Granola",
          "Granola-Granola-Granola-Potatoes",
          "Pastry-Pastry-Yogurt-Eggs",
          "Pastry-Pastry-Eggs-Pastry",
          "Pastry-Potatoes-Pastry-Eggs",
          "Pastry-Granola-Yogurt-Potatoes",
          "Yogurt-Granola-Yogurt-Potatoes",
          "Yogurt-Eggs-Pastry-Eggs",
          "Potatoes-Yogurt-Yogurt-Granola",
          "Pastry-Granola-Eggs-Pastry",
          "Yogurt-Yogurt-Granola-Eggs",
          "Granola-Granola-Pastry-Eggs",
          "Potatoes-Pastry-Pastry-Yogurt",
          "Potatoes-Potatoes-Yogurt-Granola",
          "Pastry-Yogurt-Potatoes-Granola",
          "Potatoes-Pastry-Eggs-Yogurt",
          "Pastry-Granola-Granola-Potatoes",
          "Granola-Granola-Yogurt-Potatoes",
          "Yogurt-Pastry-Granola-Eggs",
          "Granola-Potatoes-Yogurt-Yogurt",
          "Pastry-Eggs-Yogurt-Pastry",
          "Yogurt-Granola-Yogurt-Eggs",
          "Pastry-Pastry-Potatoes-Eggs",
          "Granola-Granola-Yogurt-Eggs",
          "Yogurt-Potatoes-Granola-Eggs",
          "Eggs-Granola-Potatoes-Pastry",
          "Potatoes-Yogurt-Yogurt-Pastry",
          "Granola-Pastry-Granola-Potatoes",
          "Pastry-Granola-Pastry-Eggs",
          "Granola-Pastry-Pastry-Pastry",
          "Pastry-Eggs-Eggs-Potatoes",
          "Granola-Pastry-Granola-Yogurt",
          "Potatoes-Potatoes-Eggs-Granola",
          "Potatoes-Yogurt-Pastry-Eggs",
          "Pastry-Potatoes-Granola-Potatoes",
          "Potatoes-Granola-Eggs-Granola",
          "Pastry-Yogurt-Potatoes-Eggs",
          "Yogurt-Granola-Potatoes-Granola",
          "Yogurt-Yogurt-Granola-Pastry",
          "Pastry-Eggs-Granola-Pastry",
          "Eggs-Yogurt-Granola-Granola",
          "Granola-Yogurt-Potatoes-Pastry",
          "Potatoes-Potatoes-Pastry-Potatoes",
          "Granola-Potatoes-Granola-Eggs",
          "Potatoes-Eggs-Eggs-Eggs",
          "Eggs-Yogurt-Pastry-Yogurt",
          "Pastry-Pastry-Pastry-Eggs",
          "Potatoes-Pastry-Potatoes-Granola",
          "Granola-Eggs-Pastry-Potatoes",
          "Yogurt-Potatoes-Granola-Potatoes",
          "Eggs-Yogurt-Granola-Potatoes",
          "Yogurt-Pastry-Potatoes-Yogurt",
          "Potatoes-Pastry-Potatoes-Eggs",
          "Eggs-Granola-Pastry-Granola",
          "Yogurt-Eggs-Pastry-Yogurt",
          "Eggs-Potatoes-Pastry-Granola",
          "Yogurt-Pastry-Pastry-Granola",
          "Pastry-Granola-Granola-Eggs",
          "Pastry-Potatoes-Granola-Granola",
          "Granola-Potatoes-Granola-Yogurt",
          "Granola-Potatoes-Yogurt-Granola",
          "Yogurt-Potatoes-Granola-Yogurt",
          "Yogurt-Pastry-Eggs-Yogurt",
          "Eggs-Yogurt-Eggs",
          "Pastry-Pastry-Potatoes-Pastry",
          "Yogurt-Yogurt-Granola-Potatoes",
          "Yogurt-Pastry-Yogurt-Yogurt",
          "Eggs-Eggs-Yogurt",
          "Yogurt-Potatoes-Potatoes-Granola",
          "Yogurt-Yogurt-Granola-Granola",
          "Pastry-Potatoes-Granola-Pastry",
          "Yogurt-Eggs-Yogurt-Granola",
          "Yogurt-Pastry-Potatoes-Potatoes",
          "Pastry-Yogurt-Granola-Eggs",
          "Potatoes-Pastry-Potatoes-Potatoes",
          "Pastry-Pastry-Granola-Potatoes",
          "Eggs-Granola-Eggs-Pastry",
          "Potatoes-Pastry-Granola-Pastry",
          "Yogurt-Pastry-Potatoes-Pastry",
          "Potatoes-Potatoes-Potatoes-Granola",
          "Yogurt-Yogurt-Yogurt-Yogurt",
          "Eggs-Pastry-Pastry-Granola",
          "Potatoes-Potatoes-Granola-Yogurt",
          "Pastry-Potatoes-Yogurt-Potatoes",
          "Pastry-Eggs-Yogurt-Yogurt"
         ],
         "insidetextorientation": "radial",
         "labels": [
          "Pastry",
          "Pastry",
          "Granola",
          "Pastry",
          "Granola",
          "Granola",
          "Yogurt",
          "Pastry",
          "Yogurt",
          "Granola",
          "Yogurt",
          "Potatoes",
          "Pastry",
          "Potatoes",
          "Yogurt",
          "Pastry",
          "Pastry",
          "Granola",
          "Yogurt",
          "Granola",
          "Pastry",
          "Potatoes",
          "Eggs",
          "Pastry",
          "Potatoes",
          "Eggs",
          "Granola",
          "Granola",
          "Granola",
          "Pastry",
          "Pastry",
          "Pastry",
          "Pastry",
          "Potatoes",
          "Yogurt",
          "Granola",
          "Granola",
          "Granola",
          "Yogurt",
          "Yogurt",
          "Pastry",
          "Pastry",
          "Granola",
          "Yogurt",
          "Potatoes",
          "Yogurt",
          "Potatoes",
          "Eggs",
          "Granola",
          "Yogurt",
          "Eggs",
          "Pastry",
          "Granola",
          "Granola",
          "Yogurt",
          "Pastry",
          "Potatoes",
          "Potatoes",
          "Yogurt",
          "Pastry",
          "Yogurt",
          "Pastry",
          "Yogurt",
          "Pastry",
          "Granola",
          "Yogurt",
          "Granola",
          "Potatoes",
          "Granola",
          "Potatoes",
          "Pastry",
          "Pastry",
          "Eggs",
          "Potatoes",
          "Eggs",
          "Yogurt",
          "Potatoes",
          "Yogurt",
          "Eggs",
          "Pastry",
          "Potatoes",
          "Potatoes",
          "Yogurt",
          "Pastry",
          "Granola",
          "Pastry",
          "Yogurt",
          "Granola",
          "Potatoes",
          "Potatoes",
          "Granola",
          "Yogurt",
          "Pastry",
          "Granola",
          "Granola",
          "Granola",
          "Eggs",
          "Yogurt",
          "Eggs",
          "Granola",
          "Yogurt",
          "Potatoes",
          "Eggs",
          "Eggs",
          "Eggs",
          "Yogurt",
          "Pastry",
          "Potatoes",
          "Pastry",
          "Granola",
          "Potatoes",
          "Eggs",
          "Eggs",
          "Granola",
          "Yogurt",
          "Pastry",
          "Pastry",
          "Granola",
          "Pastry",
          "Eggs",
          "Pastry",
          "Yogurt",
          "Yogurt",
          "Pastry",
          "Eggs",
          "Granola",
          "Pastry",
          "Granola",
          "Pastry",
          "Yogurt",
          "Pastry",
          "Yogurt",
          "Potatoes",
          "Yogurt",
          "Yogurt",
          "Yogurt",
          "Pastry",
          "Granola",
          "Potatoes",
          "Eggs",
          "Potatoes",
          "Potatoes",
          "Granola",
          "Eggs",
          "Eggs",
          "Granola",
          "Pastry",
          "Pastry",
          "Pastry",
          "Granola",
          "Granola",
          "Pastry",
          "Yogurt",
          "Yogurt",
          "Pastry",
          "Eggs",
          "Granola",
          "Potatoes",
          "Pastry",
          "Pastry",
          "Eggs",
          "Pastry",
          "Eggs",
          "Pastry",
          "Pastry",
          "Granola",
          "Eggs",
          "Pastry",
          "Potatoes",
          "Potatoes",
          "Granola",
          "Granola",
          "Potatoes",
          "Yogurt",
          "Eggs",
          "Potatoes",
          "Pastry",
          "Granola",
          "Granola",
          "Yogurt",
          "Yogurt",
          "Granola",
          "Yogurt",
          "Potatoes",
          "Granola",
          "Eggs",
          "Pastry",
          "Granola",
          "Pastry",
          "Granola",
          "Pastry",
          "Pastry",
          "Yogurt",
          "Pastry",
          "Pastry",
          "Potatoes",
          "Pastry",
          "Potatoes",
          "Potatoes",
          "Yogurt",
          "Granola",
          "Yogurt",
          "Granola",
          "Granola",
          "Potatoes",
          "Potatoes",
          "Pastry",
          "Eggs",
          "Granola",
          "Eggs",
          "Granola",
          "Potatoes",
          "Potatoes",
          "Yogurt",
          "Yogurt",
          "Granola",
          "Yogurt",
          "Yogurt",
          "Yogurt",
          "Pastry",
          "Pastry",
          "Pastry",
          "Pastry",
          "Potatoes",
          "Granola",
          "Granola",
          "Granola",
          "Potatoes",
          "Eggs",
          "Potatoes",
          "Pastry",
          "Granola",
          "Potatoes",
          "Pastry",
          "Potatoes",
          "Yogurt",
          "Yogurt",
          "Potatoes",
          "Pastry",
          "Granola",
          "Granola",
          "Potatoes",
          "Granola",
          "Granola",
          "Eggs",
          "Yogurt",
          "Granola",
          "Pastry",
          "Pastry",
          "Yogurt",
          "Granola",
          "Yogurt",
          "Pastry",
          "Yogurt",
          "Eggs",
          "Pastry",
          "Eggs",
          "Pastry",
          "Pastry",
          "Yogurt",
          "Granola",
          "Yogurt",
          "Yogurt",
          "Potatoes",
          "Potatoes",
          "Granola",
          "Granola",
          "Eggs",
          "Potatoes",
          "Granola",
          "Pastry",
          "Pastry",
          "Yogurt",
          "Potatoes",
          "Eggs",
          "Potatoes",
          "Yogurt",
          "Pastry",
          "Granola",
          "Potatoes",
          "Granola",
          "Granola",
          "Yogurt",
          "Eggs",
          "Eggs",
          "Granola",
          "Granola",
          "Granola",
          "Potatoes",
          "Pastry",
          "Yogurt",
          "Eggs",
          "Yogurt",
          "Granola",
          "Granola",
          "Potatoes",
          "Pastry",
          "Pastry",
          "Pastry",
          "Eggs",
          "Potatoes",
          "Eggs",
          "Eggs",
          "Granola",
          "Pastry",
          "Granola",
          "Pastry",
          "Yogurt",
          "Pastry",
          "Potatoes",
          "Pastry",
          "Yogurt",
          "Pastry",
          "Potatoes",
          "Eggs",
          "Potatoes",
          "Potatoes",
          "Eggs",
          "Potatoes",
          "Pastry",
          "Pastry",
          "Yogurt",
          "Granola",
          "Eggs",
          "Eggs",
          "Potatoes",
          "Potatoes",
          "Yogurt",
          "Pastry",
          "Eggs",
          "Yogurt",
          "Granola",
          "Pastry",
          "Granola",
          "Yogurt",
          "Pastry",
          "Pastry",
          "Granola",
          "Potatoes",
          "Potatoes",
          "Granola",
          "Potatoes",
          "Pastry",
          "Eggs",
          "Potatoes",
          "Yogurt",
          "Potatoes",
          "Pastry",
          "Yogurt",
          "Pastry",
          "Pastry",
          "Pastry",
          "Potatoes",
          "Yogurt",
          "Eggs",
          "Granola",
          "Granola",
          "Pastry",
          "Granola",
          "Potatoes",
          "Eggs",
          "Pastry",
          "Eggs",
          "Potatoes",
          "Potatoes",
          "Eggs",
          "Granola",
          "Pastry",
          "Eggs",
          "Eggs",
          "Yogurt",
          "Granola",
          "Granola",
          "Yogurt",
          "Potatoes",
          "Potatoes",
          "Eggs",
          "Yogurt",
          "Pastry",
          "Eggs",
          "Eggs",
          "Eggs",
          "Eggs",
          "Pastry",
          "Pastry",
          "Potatoes",
          "Eggs",
          "Pastry",
          "Potatoes",
          "Yogurt",
          "Granola",
          "Eggs",
          "Potatoes",
          "Granola",
          "Eggs",
          "Granola",
          "Pastry",
          "Pastry",
          "Granola",
          "Pastry",
          "Potatoes",
          "Eggs",
          "Eggs",
          "Yogurt",
          "Eggs",
          "Granola",
          "Potatoes",
          "Potatoes",
          "Potatoes",
          "Yogurt",
          "Eggs",
          "Granola",
          "Yogurt",
          "Granola",
          "Granola",
          "Eggs",
          "Granola",
          "Yogurt",
          "Granola",
          "Yogurt",
          "Yogurt",
          "Eggs",
          "Pastry",
          "Potatoes",
          "Yogurt",
          "Yogurt",
          "Granola",
          "Granola",
          "Pastry",
          "Granola",
          "Potatoes",
          "Eggs",
          "Potatoes",
          "Potatoes",
          "Pastry",
          "Pastry",
          "Pastry",
          "Granola",
          "Yogurt",
          "Granola",
          "Yogurt",
          "Potatoes",
          "Yogurt"
         ],
         "marker": {
          "colors": [
           "#E41A1C",
           "#E41A1C",
           "#377EB8",
           "#E41A1C",
           "#377EB8",
           "#377EB8",
           "#4DAF4A",
           "#E41A1C",
           "#4DAF4A",
           "#377EB8",
           "#4DAF4A",
           "#984EA3",
           "#E41A1C",
           "#984EA3",
           "#4DAF4A",
           "#E41A1C",
           "#E41A1C",
           "#377EB8",
           "#4DAF4A",
           "#377EB8",
           "#E41A1C",
           "#984EA3",
           "#FF7F00",
           "#E41A1C",
           "#984EA3",
           "#FF7F00",
           "#377EB8",
           "#377EB8",
           "#377EB8",
           "#E41A1C",
           "#E41A1C",
           "#E41A1C",
           "#E41A1C",
           "#984EA3",
           "#4DAF4A",
           "#377EB8",
           "#377EB8",
           "#377EB8",
           "#4DAF4A",
           "#4DAF4A",
           "#E41A1C",
           "#E41A1C",
           "#377EB8",
           "#4DAF4A",
           "#984EA3",
           "#4DAF4A",
           "#984EA3",
           "#FF7F00",
           "#377EB8",
           "#4DAF4A",
           "#FF7F00",
           "#E41A1C",
           "#377EB8",
           "#377EB8",
           "#4DAF4A",
           "#E41A1C",
           "#984EA3",
           "#984EA3",
           "#4DAF4A",
           "#E41A1C",
           "#4DAF4A",
           "#E41A1C",
           "#4DAF4A",
           "#E41A1C",
           "#377EB8",
           "#4DAF4A",
           "#377EB8",
           "#984EA3",
           "#377EB8",
           "#984EA3",
           "#E41A1C",
           "#E41A1C",
           "#FF7F00",
           "#984EA3",
           "#FF7F00",
           "#4DAF4A",
           "#984EA3",
           "#4DAF4A",
           "#FF7F00",
           "#E41A1C",
           "#984EA3",
           "#984EA3",
           "#4DAF4A",
           "#E41A1C",
           "#377EB8",
           "#E41A1C",
           "#4DAF4A",
           "#377EB8",
           "#984EA3",
           "#984EA3",
           "#377EB8",
           "#4DAF4A",
           "#E41A1C",
           "#377EB8",
           "#377EB8",
           "#377EB8",
           "#FF7F00",
           "#4DAF4A",
           "#FF7F00",
           "#377EB8",
           "#4DAF4A",
           "#984EA3",
           "#FF7F00",
           "#FF7F00",
           "#FF7F00",
           "#4DAF4A",
           "#E41A1C",
           "#984EA3",
           "#E41A1C",
           "#377EB8",
           "#984EA3",
           "#FF7F00",
           "#FF7F00",
           "#377EB8",
           "#4DAF4A",
           "#E41A1C",
           "#E41A1C",
           "#377EB8",
           "#E41A1C",
           "#FF7F00",
           "#E41A1C",
           "#4DAF4A",
           "#4DAF4A",
           "#E41A1C",
           "#FF7F00",
           "#377EB8",
           "#E41A1C",
           "#377EB8",
           "#E41A1C",
           "#4DAF4A",
           "#E41A1C",
           "#4DAF4A",
           "#984EA3",
           "#4DAF4A",
           "#4DAF4A",
           "#4DAF4A",
           "#E41A1C",
           "#377EB8",
           "#984EA3",
           "#FF7F00",
           "#984EA3",
           "#984EA3",
           "#377EB8",
           "#FF7F00",
           "#FF7F00",
           "#377EB8",
           "#E41A1C",
           "#E41A1C",
           "#E41A1C",
           "#377EB8",
           "#377EB8",
           "#E41A1C",
           "#4DAF4A",
           "#4DAF4A",
           "#E41A1C",
           "#FF7F00",
           "#377EB8",
           "#984EA3",
           "#E41A1C",
           "#E41A1C",
           "#FF7F00",
           "#E41A1C",
           "#FF7F00",
           "#E41A1C",
           "#E41A1C",
           "#377EB8",
           "#FF7F00",
           "#E41A1C",
           "#984EA3",
           "#984EA3",
           "#377EB8",
           "#377EB8",
           "#984EA3",
           "#4DAF4A",
           "#FF7F00",
           "#984EA3",
           "#E41A1C",
           "#377EB8",
           "#377EB8",
           "#4DAF4A",
           "#4DAF4A",
           "#377EB8",
           "#4DAF4A",
           "#984EA3",
           "#377EB8",
           "#FF7F00",
           "#E41A1C",
           "#377EB8",
           "#E41A1C",
           "#377EB8",
           "#E41A1C",
           "#E41A1C",
           "#4DAF4A",
           "#E41A1C",
           "#E41A1C",
           "#984EA3",
           "#E41A1C",
           "#984EA3",
           "#984EA3",
           "#4DAF4A",
           "#377EB8",
           "#4DAF4A",
           "#377EB8",
           "#377EB8",
           "#984EA3",
           "#984EA3",
           "#E41A1C",
           "#FF7F00",
           "#377EB8",
           "#FF7F00",
           "#377EB8",
           "#984EA3",
           "#984EA3",
           "#4DAF4A",
           "#4DAF4A",
           "#377EB8",
           "#4DAF4A",
           "#4DAF4A",
           "#4DAF4A",
           "#E41A1C",
           "#E41A1C",
           "#E41A1C",
           "#E41A1C",
           "#984EA3",
           "#377EB8",
           "#377EB8",
           "#377EB8",
           "#984EA3",
           "#FF7F00",
           "#984EA3",
           "#E41A1C",
           "#377EB8",
           "#984EA3",
           "#E41A1C",
           "#984EA3",
           "#4DAF4A",
           "#4DAF4A",
           "#984EA3",
           "#E41A1C",
           "#377EB8",
           "#377EB8",
           "#984EA3",
           "#377EB8",
           "#377EB8",
           "#FF7F00",
           "#4DAF4A",
           "#377EB8",
           "#E41A1C",
           "#E41A1C",
           "#4DAF4A",
           "#377EB8",
           "#4DAF4A",
           "#E41A1C",
           "#4DAF4A",
           "#FF7F00",
           "#E41A1C",
           "#FF7F00",
           "#E41A1C",
           "#E41A1C",
           "#4DAF4A",
           "#377EB8",
           "#4DAF4A",
           "#4DAF4A",
           "#984EA3",
           "#984EA3",
           "#377EB8",
           "#377EB8",
           "#FF7F00",
           "#984EA3",
           "#377EB8",
           "#E41A1C",
           "#E41A1C",
           "#4DAF4A",
           "#984EA3",
           "#FF7F00",
           "#984EA3",
           "#4DAF4A",
           "#E41A1C",
           "#377EB8",
           "#984EA3",
           "#377EB8",
           "#377EB8",
           "#4DAF4A",
           "#FF7F00",
           "#FF7F00",
           "#377EB8",
           "#377EB8",
           "#377EB8",
           "#984EA3",
           "#E41A1C",
           "#4DAF4A",
           "#FF7F00",
           "#4DAF4A",
           "#377EB8",
           "#377EB8",
           "#984EA3",
           "#E41A1C",
           "#E41A1C",
           "#E41A1C",
           "#FF7F00",
           "#984EA3",
           "#FF7F00",
           "#FF7F00",
           "#377EB8",
           "#E41A1C",
           "#377EB8",
           "#E41A1C",
           "#4DAF4A",
           "#E41A1C",
           "#984EA3",
           "#E41A1C",
           "#4DAF4A",
           "#E41A1C",
           "#984EA3",
           "#FF7F00",
           "#984EA3",
           "#984EA3",
           "#FF7F00",
           "#984EA3",
           "#E41A1C",
           "#E41A1C",
           "#4DAF4A",
           "#377EB8",
           "#FF7F00",
           "#FF7F00",
           "#984EA3",
           "#984EA3",
           "#4DAF4A",
           "#E41A1C",
           "#FF7F00",
           "#4DAF4A",
           "#377EB8",
           "#E41A1C",
           "#377EB8",
           "#4DAF4A",
           "#E41A1C",
           "#E41A1C",
           "#377EB8",
           "#984EA3",
           "#984EA3",
           "#377EB8",
           "#984EA3",
           "#E41A1C",
           "#FF7F00",
           "#984EA3",
           "#4DAF4A",
           "#984EA3",
           "#E41A1C",
           "#4DAF4A",
           "#E41A1C",
           "#E41A1C",
           "#E41A1C",
           "#984EA3",
           "#4DAF4A",
           "#FF7F00",
           "#377EB8",
           "#377EB8",
           "#E41A1C",
           "#377EB8",
           "#984EA3",
           "#FF7F00",
           "#E41A1C",
           "#FF7F00",
           "#984EA3",
           "#984EA3",
           "#FF7F00",
           "#377EB8",
           "#E41A1C",
           "#FF7F00",
           "#FF7F00",
           "#4DAF4A",
           "#377EB8",
           "#377EB8",
           "#4DAF4A",
           "#984EA3",
           "#984EA3",
           "#FF7F00",
           "#4DAF4A",
           "#E41A1C",
           "#FF7F00",
           "#FF7F00",
           "#FF7F00",
           "#FF7F00",
           "#E41A1C",
           "#E41A1C",
           "#984EA3",
           "#FF7F00",
           "#E41A1C",
           "#984EA3",
           "#4DAF4A",
           "#377EB8",
           "#FF7F00",
           "#984EA3",
           "#377EB8",
           "#FF7F00",
           "#377EB8",
           "#E41A1C",
           "#E41A1C",
           "#377EB8",
           "#E41A1C",
           "#984EA3",
           "#FF7F00",
           "#FF7F00",
           "#4DAF4A",
           "#FF7F00",
           "#377EB8",
           "#984EA3",
           "#984EA3",
           "#984EA3",
           "#4DAF4A",
           "#FF7F00",
           "#377EB8",
           "#4DAF4A",
           "#377EB8",
           "#377EB8",
           "#FF7F00",
           "#377EB8",
           "#4DAF4A",
           "#377EB8",
           "#4DAF4A",
           "#4DAF4A",
           "#FF7F00",
           "#E41A1C",
           "#984EA3",
           "#4DAF4A",
           "#4DAF4A",
           "#377EB8",
           "#377EB8",
           "#E41A1C",
           "#377EB8",
           "#984EA3",
           "#FF7F00",
           "#984EA3",
           "#984EA3",
           "#E41A1C",
           "#E41A1C",
           "#E41A1C",
           "#377EB8",
           "#4DAF4A",
           "#377EB8",
           "#4DAF4A",
           "#984EA3",
           "#4DAF4A"
          ]
         },
         "parents": [
          "",
          "Pastry",
          "",
          "Granola",
          "Pastry",
          "Granola",
          "",
          "Yogurt",
          "Pastry",
          "Yogurt",
          "Granola",
          "",
          "Potatoes",
          "Pastry",
          "Yogurt",
          "Pastry-Pastry",
          "Pastry-Granola",
          "Potatoes",
          "Potatoes",
          "Pastry-Pastry",
          "Granola-Pastry",
          "Granola",
          "",
          "Eggs",
          "Yogurt",
          "Pastry",
          "Granola-Pastry",
          "Pastry-Granola",
          "Granola-Granola",
          "Pastry-Yogurt",
          "Yogurt-Pastry",
          "Yogurt-Granola",
          "Granola-Granola",
          "Pastry-Pastry",
          "Pastry-Yogurt",
          "Eggs",
          "Yogurt-Pastry",
          "Pastry-Yogurt",
          "Eggs",
          "Yogurt-Pastry",
          "Granola-Yogurt",
          "Potatoes-Pastry",
          "Yogurt-Granola",
          "Granola-Pastry",
          "Pastry-Granola",
          "Pastry-Pastry",
          "Potatoes",
          "Granola",
          "Potatoes-Pastry",
          "Pastry-Granola",
          "Yogurt",
          "Yogurt-Yogurt",
          "Granola-Yogurt",
          "Pastry-Potatoes",
          "Yogurt-Granola",
          "Yogurt-Potatoes",
          "Granola-Granola",
          "Granola-Pastry",
          "Granola-Granola",
          "Eggs-Pastry",
          "Yogurt-Potatoes",
          "Potatoes-Granola",
          "Granola-Yogurt",
          "Pastry-Potatoes",
          "Yogurt-Potatoes",
          "Granola-Potatoes",
          "Potatoes-Granola",
          "Yogurt-Pastry",
          "Granola-Potatoes",
          "Eggs",
          "Granola-Potatoes",
          "Potatoes-Potatoes",
          "Granola-Granola",
          "Pastry-Yogurt",
          "Pastry-Pastry",
          "Potatoes-Pastry",
          "Granola-Yogurt",
          "Pastry-Potatoes",
          "Potatoes",
          "Granola-Eggs",
          "Yogurt-Granola",
          "Potatoes-Pastry",
          "Potatoes-Potatoes",
          "Potatoes-Yogurt",
          "Yogurt-Yogurt",
          "Pastry-Eggs",
          "Potatoes-Granola",
          "Potatoes-Yogurt",
          "Potatoes-Granola",
          "Pastry-Potatoes",
          "Eggs-Potatoes",
          "Yogurt-Yogurt",
          "Yogurt-Eggs",
          "Pastry-Eggs",
          "Eggs-Granola",
          "Granola-Granola-Pastry",
          "Yogurt-Pastry",
          "Granola-Eggs",
          "Pastry-Granola",
          "Eggs-Yogurt",
          "Yogurt-Eggs",
          "Granola-Potatoes",
          "Pastry-Yogurt",
          "Potatoes-Yogurt",
          "Granola-Pastry",
          "Eggs-Pastry",
          "Eggs-Granola",
          "Yogurt-Potatoes",
          "Potatoes-Eggs",
          "Potatoes-Potatoes",
          "Yogurt-Yogurt",
          "Granola-Eggs",
          "Yogurt-Granola",
          "Eggs-Pastry",
          "Pastry-Pastry-Pastry",
          "Eggs-Yogurt",
          "Yogurt-Granola-Pastry",
          "Pastry-Granola-Pastry",
          "Pastry-Pastry-Yogurt",
          "Granola-Potatoes",
          "Eggs-Potatoes",
          "Pastry-Eggs",
          "Potatoes-Yogurt",
          "Pastry-Yogurt-Granola",
          "Granola-Yogurt",
          "Yogurt-Eggs",
          "Pastry-Pastry-Granola",
          "Granola-Eggs",
          "Yogurt-Pastry-Pastry",
          "Granola-Yogurt-Pastry",
          "Yogurt-Pastry-Yogurt",
          "Pastry-Pastry-Yogurt",
          "Eggs-Pastry",
          "Yogurt-Potatoes-Pastry",
          "Eggs-Potatoes",
          "Eggs-Granola",
          "Pastry-Pastry-Pastry",
          "Pastry-Granola-Granola",
          "Eggs-Granola",
          "Potatoes-Potatoes",
          "Potatoes-Yogurt",
          "Pastry-Eggs",
          "Granola-Pastry-Pastry",
          "Yogurt-Potatoes",
          "Eggs-Pastry",
          "Potatoes-Pastry-Yogurt",
          "Pastry-Granola-Yogurt",
          "Pastry-Granola-Granola",
          "Granola-Pastry-Granola",
          "Yogurt-Pastry-Granola",
          "Pastry-Pastry-Potatoes",
          "Yogurt-Yogurt-Pastry",
          "Eggs-Yogurt",
          "Pastry-Yogurt-Granola",
          "Yogurt-Granola-Yogurt",
          "Pastry-Eggs",
          "Potatoes-Eggs",
          "Pastry-Yogurt-Pastry",
          "Potatoes-Granola-Yogurt",
          "Pastry-Granola-Pastry",
          "Potatoes-Granola",
          "Yogurt-Pastry-Granola",
          "Eggs",
          "Pastry-Potatoes-Pastry",
          "Granola-Yogurt-Pastry",
          "Pastry-Pastry-Granola",
          "Potatoes-Pastry",
          "Granola-Granola-Pastry",
          "Yogurt-Eggs",
          "Yogurt-Granola-Granola",
          "Pastry-Pastry-Yogurt",
          "Potatoes-Yogurt-Pastry",
          "Potatoes-Granola-Pastry",
          "Pastry-Granola-Pastry",
          "Pastry-Potatoes",
          "Yogurt-Pastry-Pastry",
          "Granola-Yogurt-Eggs",
          "Potatoes-Pastry-Pastry",
          "Yogurt-Granola-Yogurt",
          "Granola-Yogurt-Yogurt",
          "Yogurt-Granola-Granola",
          "Pastry-Eggs-Pastry",
          "Pastry-Potatoes-Pastry",
          "Granola-Pastry-Yogurt",
          "Granola-Potatoes-Pastry",
          "Yogurt-Eggs",
          "Yogurt-Yogurt-Potatoes",
          "Pastry-Yogurt-Granola",
          "Potatoes-Pastry-Pastry",
          "Potatoes-Granola-Granola",
          "Yogurt-Granola-Granola",
          "Granola-Pastry-Yogurt",
          "Potatoes-Eggs",
          "Granola-Granola-Yogurt",
          "Potatoes-Yogurt-Granola",
          "Granola-Granola-Pastry",
          "Pastry-Yogurt-Potatoes",
          "Granola-Eggs",
          "Pastry-Yogurt-Granola",
          "Granola-Potatoes-Pastry",
          "Pastry-Potatoes-Pastry",
          "Pastry-Granola-Yogurt",
          "Pastry-Eggs-Yogurt",
          "Yogurt-Pastry-Potatoes",
          "Potatoes-Eggs",
          "Potatoes-Yogurt-Pastry",
          "Pastry-Granola-Potatoes",
          "Pastry-Pastry-Granola",
          "Pastry-Yogurt-Pastry",
          "Yogurt-Pastry-Pastry",
          "Yogurt-Pastry-Yogurt",
          "Pastry-Granola-Eggs",
          "Granola-Potatoes-Pastry",
          "Pastry-Potatoes-Yogurt",
          "Pastry-Granola-Potatoes",
          "Eggs-Granola-Yogurt",
          "Granola-Potatoes-Potatoes",
          "Pastry-Yogurt-Eggs",
          "Yogurt-Yogurt-Pastry",
          "Eggs-Pastry-Pastry",
          "Yogurt-Potatoes-Potatoes",
          "Granola-Potatoes-Pastry",
          "Granola-Potatoes-Granola",
          "Eggs-Potatoes",
          "Yogurt-Eggs-Potatoes",
          "Granola-Granola-Granola",
          "Granola-Pastry-Yogurt",
          "Granola-Pastry-Pastry",
          "Yogurt-Yogurt",
          "Yogurt-Yogurt-Potatoes",
          "Yogurt-Potatoes-Pastry",
          "Potatoes-Granola-Pastry",
          "Yogurt-Potatoes-Pastry",
          "Pastry-Yogurt-Pastry",
          "Yogurt-Pastry-Yogurt",
          "Pastry-Potatoes-Granola",
          "Pastry-Yogurt-Potatoes",
          "Pastry-Granola-Potatoes",
          "Potatoes-Pastry-Potatoes",
          "Granola-Yogurt-Granola",
          "Eggs-Pastry-Granola",
          "Eggs-Yogurt",
          "Granola-Pastry-Granola",
          "Granola-Yogurt-Potatoes",
          "Potatoes-Eggs",
          "Granola-Pastry-Potatoes",
          "Pastry-Eggs-Granola",
          "Pastry-Potatoes-Yogurt",
          "Pastry-Yogurt-Yogurt",
          "Potatoes-Granola-Yogurt",
          "Potatoes-Yogurt-Potatoes",
          "Yogurt-Granola-Pastry",
          "Granola-Potatoes-Potatoes",
          "Eggs-Pastry-Granola",
          "Granola-Pastry-Granola",
          "Eggs-Granola-Pastry",
          "Pastry-Yogurt-Yogurt",
          "Granola-Yogurt-Granola",
          "Granola-Yogurt-Yogurt",
          "Pastry-Granola-Granola",
          "Granola-Yogurt-Pastry",
          "Granola-Pastry-Yogurt",
          "Granola-Granola-Pastry",
          "Potatoes-Potatoes",
          "Pastry-Pastry-Pastry",
          "Potatoes-Yogurt-Granola",
          "Pastry-Pastry-Pastry",
          "Granola-Eggs-Pastry",
          "Potatoes-Potatoes-Granola",
          "Potatoes-Granola-Yogurt",
          "Granola-Pastry-Eggs",
          "Potatoes-Granola-Pastry",
          "Pastry-Pastry-Potatoes",
          "Potatoes-Eggs-Yogurt",
          "Granola-Potatoes-Eggs",
          "Potatoes-Granola-Granola",
          "Yogurt-Pastry-Granola",
          "Potatoes-Pastry-Eggs",
          "Granola-Pastry-Eggs",
          "Eggs-Yogurt-Potatoes",
          "Pastry-Yogurt-Eggs",
          "Yogurt-Yogurt-Yogurt",
          "Granola-Granola-Granola",
          "Pastry-Granola-Yogurt",
          "Eggs-Granola-Potatoes",
          "Pastry-Potatoes-Yogurt",
          "Potatoes-Pastry-Eggs",
          "Yogurt-Granola-Pastry",
          "Granola-Pastry-Eggs",
          "Potatoes-Granola-Granola",
          "Potatoes-Granola-Granola",
          "Granola-Pastry-Pastry",
          "Granola-Pastry-Pastry",
          "Eggs-Eggs",
          "Eggs-Pastry-Eggs",
          "Granola-Eggs-Eggs",
          "Potatoes-Potatoes-Yogurt",
          "Eggs-Granola-Granola",
          "Pastry-Eggs-Potatoes",
          "Eggs-Potatoes",
          "Eggs-Potatoes-Eggs",
          "Granola-Yogurt-Eggs",
          "Pastry-Yogurt-Pastry",
          "Yogurt-Yogurt-Potatoes",
          "Pastry-Yogurt-Eggs",
          "Yogurt-Potatoes-Yogurt",
          "Yogurt-Potatoes-Granola",
          "Yogurt-Eggs-Eggs",
          "Eggs-Potatoes-Pastry",
          "Yogurt-Yogurt-Yogurt",
          "Eggs-Potatoes-Yogurt",
          "Yogurt-Eggs-Yogurt",
          "Eggs-Pastry-Eggs",
          "Potatoes-Yogurt-Granola",
          "Eggs-Granola",
          "Eggs-Granola-Eggs",
          "Granola-Granola-Eggs",
          "Yogurt-Potatoes-Yogurt",
          "Yogurt-Yogurt-Pastry",
          "Granola-Granola-Granola",
          "Yogurt-Eggs-Yogurt",
          "Potatoes-Pastry-Yogurt",
          "Pastry-Granola-Yogurt",
          "Yogurt-Granola-Pastry",
          "Pastry-Potatoes-Eggs",
          "Granola-Pastry-Potatoes",
          "Granola-Yogurt-Granola",
          "Eggs-Granola-Pastry",
          "Granola-Eggs-Pastry",
          "Granola-Eggs-Yogurt",
          "Pastry-Pastry-Eggs",
          "Granola-Yogurt-Yogurt",
          "Eggs-Pastry-Yogurt",
          "Potatoes-Pastry-Granola",
          "Yogurt-Granola-Potatoes",
          "Potatoes-Yogurt-Eggs",
          "Yogurt-Yogurt-Eggs",
          "Pastry-Potatoes-Potatoes",
          "Pastry-Eggs-Yogurt",
          "Yogurt-Granola-Pastry",
          "Granola-Granola-Potatoes",
          "Pastry-Potatoes-Eggs",
          "Yogurt-Granola-Eggs",
          "Eggs-Pastry-Pastry",
          "Pastry-Yogurt-Eggs",
          "Eggs-Pastry-Pastry",
          "Pastry-Pastry-Yogurt",
          "Eggs-Eggs",
          "Eggs-Eggs-Pastry",
          "Eggs-Yogurt-Pastry",
          "Potatoes-Pastry-Yogurt",
          "Granola-Granola-Potatoes",
          "Potatoes-Pastry-Pastry",
          "Pastry-Yogurt-Pastry",
          "Yogurt-Yogurt-Pastry",
          "Yogurt-Yogurt-Pastry",
          "Granola-Pastry-Potatoes",
          "Potatoes-Yogurt-Pastry",
          "Granola-Potatoes-Granola",
          "Granola-Granola-Granola",
          "Pastry-Pastry-Yogurt",
          "Pastry-Pastry-Eggs",
          "Pastry-Potatoes-Pastry",
          "Pastry-Granola-Yogurt",
          "Yogurt-Granola-Yogurt",
          "Yogurt-Eggs-Pastry",
          "Potatoes-Yogurt-Yogurt",
          "Pastry-Granola-Eggs",
          "Yogurt-Yogurt-Granola",
          "Granola-Granola-Pastry",
          "Potatoes-Pastry-Pastry",
          "Potatoes-Potatoes-Yogurt",
          "Pastry-Yogurt-Potatoes",
          "Potatoes-Pastry-Eggs",
          "Pastry-Granola-Granola",
          "Granola-Granola-Yogurt",
          "Yogurt-Pastry-Granola",
          "Granola-Potatoes-Yogurt",
          "Pastry-Eggs-Yogurt",
          "Yogurt-Granola-Yogurt",
          "Pastry-Pastry-Potatoes",
          "Granola-Granola-Yogurt",
          "Yogurt-Potatoes-Granola",
          "Eggs-Granola-Potatoes",
          "Potatoes-Yogurt-Yogurt",
          "Granola-Pastry-Granola",
          "Pastry-Granola-Pastry",
          "Granola-Pastry-Pastry",
          "Pastry-Eggs-Eggs",
          "Granola-Pastry-Granola",
          "Potatoes-Potatoes-Eggs",
          "Potatoes-Yogurt-Pastry",
          "Pastry-Potatoes-Granola",
          "Potatoes-Granola-Eggs",
          "Pastry-Yogurt-Potatoes",
          "Yogurt-Granola-Potatoes",
          "Yogurt-Yogurt-Granola",
          "Pastry-Eggs-Granola",
          "Eggs-Yogurt-Granola",
          "Granola-Yogurt-Potatoes",
          "Potatoes-Potatoes-Pastry",
          "Granola-Potatoes-Granola",
          "Potatoes-Eggs-Eggs",
          "Eggs-Yogurt-Pastry",
          "Pastry-Pastry-Pastry",
          "Potatoes-Pastry-Potatoes",
          "Granola-Eggs-Pastry",
          "Yogurt-Potatoes-Granola",
          "Eggs-Yogurt-Granola",
          "Yogurt-Pastry-Potatoes",
          "Potatoes-Pastry-Potatoes",
          "Eggs-Granola-Pastry",
          "Yogurt-Eggs-Pastry",
          "Eggs-Potatoes-Pastry",
          "Yogurt-Pastry-Pastry",
          "Pastry-Granola-Granola",
          "Pastry-Potatoes-Granola",
          "Granola-Potatoes-Granola",
          "Granola-Potatoes-Yogurt",
          "Yogurt-Potatoes-Granola",
          "Yogurt-Pastry-Eggs",
          "Eggs-Yogurt",
          "Pastry-Pastry-Potatoes",
          "Yogurt-Yogurt-Granola",
          "Yogurt-Pastry-Yogurt",
          "Eggs-Eggs",
          "Yogurt-Potatoes-Potatoes",
          "Yogurt-Yogurt-Granola",
          "Pastry-Potatoes-Granola",
          "Yogurt-Eggs-Yogurt",
          "Yogurt-Pastry-Potatoes",
          "Pastry-Yogurt-Granola",
          "Potatoes-Pastry-Potatoes",
          "Pastry-Pastry-Granola",
          "Eggs-Granola-Eggs",
          "Potatoes-Pastry-Granola",
          "Yogurt-Pastry-Potatoes",
          "Potatoes-Potatoes-Potatoes",
          "Yogurt-Yogurt-Yogurt",
          "Eggs-Pastry-Pastry",
          "Potatoes-Potatoes-Granola",
          "Pastry-Potatoes-Yogurt",
          "Pastry-Eggs-Yogurt"
         ],
         "values": {
          "dtype": "i2",
          "bdata": "pQDIAH8AwAC2AJsAbwCJAHgAcwBnAEUAXwBQAEwATABFAD8APgA6ADUANQAaADQAMQAwAC8ALgAsACkAKQAoACgAJgAlACQAIwAiACIAIgAiACEAIAAgACAAHgAeABwAHAAcABsAGgAaABkAGAAXABcAFwAWABUAFAAUABMAEwASABIAEgASABEAEQARABAAEAAQABAADwAPAA8ADwAOAA4ADgAMAAwADAAMAAwADAALAAsACwALAAsACwALAAoACgAKAAoACgAJAAkACQAJAAkACQAIAAgACAAIAAgACAAIAAgACAAHAAcABgAGAAYABgAGAAYABgAGAAYABgAGAAYABQAFAAUABQAFAAUABQAFAAUABQAFAAUABQAFAAQABAAEAAQABAAEAAQABAAEAAQABAAEAAQABAAEAAQABAAEAAQABAAEAAQABAAEAAQABAADAAMAAwADAAMAAwADAAMAAwADAAMAAwADAAMAAwADAAMAAwADAAMAAwADAAMAAwADAAMAAwADAAMAAwADAAMAAwADAAMAAwADAAMAAwADAAMAAgACAAIAAgACAAIAAgACAAIAAgACAAIAAgACAAIAAgACAAIAAgACAAIAAgACAAIAAgACAAIAAgACAAIAAgACAAIAAgACAAIAAgACAAIAAgACAAIAAgACAAIAAgACAAIAAgACAAIAAgACAAIAAgACAAIAAgACAAIAAgACAAIAAQABAAEAAQABAAEAAQABAAEAAQABAAEAAQABAAEAAQABAAEAAQABAAEAAQABAAEAAQABAAEAAQABAAEAAQABAAEAAQABAAEAAQABAAEAAQABAAAAAQABAAEAAQABAAEAAQABAAEAAQABAAEAAQABAAEAAQABAAEAAQABAAEAAQABAAEAAQABAAEAAQABAAEAAQABAAEAAQABAAEAAQABAAEAAQABAAEAAQABAAEAAQABAAEAAQABAAEAAQABAAEAAQABAAEAAQABAAEAAQABAAEAAQABAAEAAQABAAEAAQABAAEAAQABAAEAAQABAAEAAQABAAEAAQABAAEAAQABAAEAAQABAAEAAQABAAEAAQABAAEAAQABAAEAAQABAAEAAQABAAEAAQABAAEAAQABAAEAAQABAAEAAQABAAEAAQABAAEAAQABAAEAAQABAAEAAQABAA=="
         },
         "type": "sunburst"
        }
       ],
       "layout": {
        "template": {
         "data": {
          "histogram2dcontour": [
           {
            "type": "histogram2dcontour",
            "colorbar": {
             "outlinewidth": 0,
             "ticks": ""
            },
            "colorscale": [
             [
              0.0,
              "#0d0887"
             ],
             [
              0.1111111111111111,
              "#46039f"
             ],
             [
              0.2222222222222222,
              "#7201a8"
             ],
             [
              0.3333333333333333,
              "#9c179e"
             ],
             [
              0.4444444444444444,
              "#bd3786"
             ],
             [
              0.5555555555555556,
              "#d8576b"
             ],
             [
              0.6666666666666666,
              "#ed7953"
             ],
             [
              0.7777777777777778,
              "#fb9f3a"
             ],
             [
              0.8888888888888888,
              "#fdca26"
             ],
             [
              1.0,
              "#f0f921"
             ]
            ]
           }
          ],
          "choropleth": [
           {
            "type": "choropleth",
            "colorbar": {
             "outlinewidth": 0,
             "ticks": ""
            }
           }
          ],
          "histogram2d": [
           {
            "type": "histogram2d",
            "colorbar": {
             "outlinewidth": 0,
             "ticks": ""
            },
            "colorscale": [
             [
              0.0,
              "#0d0887"
             ],
             [
              0.1111111111111111,
              "#46039f"
             ],
             [
              0.2222222222222222,
              "#7201a8"
             ],
             [
              0.3333333333333333,
              "#9c179e"
             ],
             [
              0.4444444444444444,
              "#bd3786"
             ],
             [
              0.5555555555555556,
              "#d8576b"
             ],
             [
              0.6666666666666666,
              "#ed7953"
             ],
             [
              0.7777777777777778,
              "#fb9f3a"
             ],
             [
              0.8888888888888888,
              "#fdca26"
             ],
             [
              1.0,
              "#f0f921"
             ]
            ]
           }
          ],
          "heatmap": [
           {
            "type": "heatmap",
            "colorbar": {
             "outlinewidth": 0,
             "ticks": ""
            },
            "colorscale": [
             [
              0.0,
              "#0d0887"
             ],
             [
              0.1111111111111111,
              "#46039f"
             ],
             [
              0.2222222222222222,
              "#7201a8"
             ],
             [
              0.3333333333333333,
              "#9c179e"
             ],
             [
              0.4444444444444444,
              "#bd3786"
             ],
             [
              0.5555555555555556,
              "#d8576b"
             ],
             [
              0.6666666666666666,
              "#ed7953"
             ],
             [
              0.7777777777777778,
              "#fb9f3a"
             ],
             [
              0.8888888888888888,
              "#fdca26"
             ],
             [
              1.0,
              "#f0f921"
             ]
            ]
           }
          ],
          "contourcarpet": [
           {
            "type": "contourcarpet",
            "colorbar": {
             "outlinewidth": 0,
             "ticks": ""
            }
           }
          ],
          "contour": [
           {
            "type": "contour",
            "colorbar": {
             "outlinewidth": 0,
             "ticks": ""
            },
            "colorscale": [
             [
              0.0,
              "#0d0887"
             ],
             [
              0.1111111111111111,
              "#46039f"
             ],
             [
              0.2222222222222222,
              "#7201a8"
             ],
             [
              0.3333333333333333,
              "#9c179e"
             ],
             [
              0.4444444444444444,
              "#bd3786"
             ],
             [
              0.5555555555555556,
              "#d8576b"
             ],
             [
              0.6666666666666666,
              "#ed7953"
             ],
             [
              0.7777777777777778,
              "#fb9f3a"
             ],
             [
              0.8888888888888888,
              "#fdca26"
             ],
             [
              1.0,
              "#f0f921"
             ]
            ]
           }
          ],
          "surface": [
           {
            "type": "surface",
            "colorbar": {
             "outlinewidth": 0,
             "ticks": ""
            },
            "colorscale": [
             [
              0.0,
              "#0d0887"
             ],
             [
              0.1111111111111111,
              "#46039f"
             ],
             [
              0.2222222222222222,
              "#7201a8"
             ],
             [
              0.3333333333333333,
              "#9c179e"
             ],
             [
              0.4444444444444444,
              "#bd3786"
             ],
             [
              0.5555555555555556,
              "#d8576b"
             ],
             [
              0.6666666666666666,
              "#ed7953"
             ],
             [
              0.7777777777777778,
              "#fb9f3a"
             ],
             [
              0.8888888888888888,
              "#fdca26"
             ],
             [
              1.0,
              "#f0f921"
             ]
            ]
           }
          ],
          "mesh3d": [
           {
            "type": "mesh3d",
            "colorbar": {
             "outlinewidth": 0,
             "ticks": ""
            }
           }
          ],
          "scatter": [
           {
            "marker": {
             "line": {
              "color": "#283442"
             }
            },
            "type": "scatter"
           }
          ],
          "parcoords": [
           {
            "type": "parcoords",
            "line": {
             "colorbar": {
              "outlinewidth": 0,
              "ticks": ""
             }
            }
           }
          ],
          "scatterpolargl": [
           {
            "type": "scatterpolargl",
            "marker": {
             "colorbar": {
              "outlinewidth": 0,
              "ticks": ""
             }
            }
           }
          ],
          "bar": [
           {
            "error_x": {
             "color": "#f2f5fa"
            },
            "error_y": {
             "color": "#f2f5fa"
            },
            "marker": {
             "line": {
              "color": "rgb(17,17,17)",
              "width": 0.5
             },
             "pattern": {
              "fillmode": "overlay",
              "size": 10,
              "solidity": 0.2
             }
            },
            "type": "bar"
           }
          ],
          "scattergeo": [
           {
            "type": "scattergeo",
            "marker": {
             "colorbar": {
              "outlinewidth": 0,
              "ticks": ""
             }
            }
           }
          ],
          "scatterpolar": [
           {
            "type": "scatterpolar",
            "marker": {
             "colorbar": {
              "outlinewidth": 0,
              "ticks": ""
             }
            }
           }
          ],
          "histogram": [
           {
            "marker": {
             "pattern": {
              "fillmode": "overlay",
              "size": 10,
              "solidity": 0.2
             }
            },
            "type": "histogram"
           }
          ],
          "scattergl": [
           {
            "marker": {
             "line": {
              "color": "#283442"
             }
            },
            "type": "scattergl"
           }
          ],
          "scatter3d": [
           {
            "type": "scatter3d",
            "line": {
             "colorbar": {
              "outlinewidth": 0,
              "ticks": ""
             }
            },
            "marker": {
             "colorbar": {
              "outlinewidth": 0,
              "ticks": ""
             }
            }
           }
          ],
          "scattermap": [
           {
            "type": "scattermap",
            "marker": {
             "colorbar": {
              "outlinewidth": 0,
              "ticks": ""
             }
            }
           }
          ],
          "scattermapbox": [
           {
            "type": "scattermapbox",
            "marker": {
             "colorbar": {
              "outlinewidth": 0,
              "ticks": ""
             }
            }
           }
          ],
          "scatterternary": [
           {
            "type": "scatterternary",
            "marker": {
             "colorbar": {
              "outlinewidth": 0,
              "ticks": ""
             }
            }
           }
          ],
          "scattercarpet": [
           {
            "type": "scattercarpet",
            "marker": {
             "colorbar": {
              "outlinewidth": 0,
              "ticks": ""
             }
            }
           }
          ],
          "carpet": [
           {
            "aaxis": {
             "endlinecolor": "#A2B1C6",
             "gridcolor": "#506784",
             "linecolor": "#506784",
             "minorgridcolor": "#506784",
             "startlinecolor": "#A2B1C6"
            },
            "baxis": {
             "endlinecolor": "#A2B1C6",
             "gridcolor": "#506784",
             "linecolor": "#506784",
             "minorgridcolor": "#506784",
             "startlinecolor": "#A2B1C6"
            },
            "type": "carpet"
           }
          ],
          "table": [
           {
            "cells": {
             "fill": {
              "color": "#506784"
             },
             "line": {
              "color": "rgb(17,17,17)"
             }
            },
            "header": {
             "fill": {
              "color": "#2a3f5f"
             },
             "line": {
              "color": "rgb(17,17,17)"
             }
            },
            "type": "table"
           }
          ],
          "barpolar": [
           {
            "marker": {
             "line": {
              "color": "rgb(17,17,17)",
              "width": 0.5
             },
             "pattern": {
              "fillmode": "overlay",
              "size": 10,
              "solidity": 0.2
             }
            },
            "type": "barpolar"
           }
          ],
          "pie": [
           {
            "automargin": true,
            "type": "pie"
           }
          ]
         },
         "layout": {
          "autotypenumbers": "strict",
          "colorway": [
           "#636efa",
           "#EF553B",
           "#00cc96",
           "#ab63fa",
           "#FFA15A",
           "#19d3f3",
           "#FF6692",
           "#B6E880",
           "#FF97FF",
           "#FECB52"
          ],
          "font": {
           "color": "#f2f5fa"
          },
          "hovermode": "closest",
          "hoverlabel": {
           "align": "left"
          },
          "paper_bgcolor": "rgb(17,17,17)",
          "plot_bgcolor": "rgb(17,17,17)",
          "polar": {
           "bgcolor": "rgb(17,17,17)",
           "angularaxis": {
            "gridcolor": "#506784",
            "linecolor": "#506784",
            "ticks": ""
           },
           "radialaxis": {
            "gridcolor": "#506784",
            "linecolor": "#506784",
            "ticks": ""
           }
          },
          "ternary": {
           "bgcolor": "rgb(17,17,17)",
           "aaxis": {
            "gridcolor": "#506784",
            "linecolor": "#506784",
            "ticks": ""
           },
           "baxis": {
            "gridcolor": "#506784",
            "linecolor": "#506784",
            "ticks": ""
           },
           "caxis": {
            "gridcolor": "#506784",
            "linecolor": "#506784",
            "ticks": ""
           }
          },
          "coloraxis": {
           "colorbar": {
            "outlinewidth": 0,
            "ticks": ""
           }
          },
          "colorscale": {
           "sequential": [
            [
             0.0,
             "#0d0887"
            ],
            [
             0.1111111111111111,
             "#46039f"
            ],
            [
             0.2222222222222222,
             "#7201a8"
            ],
            [
             0.3333333333333333,
             "#9c179e"
            ],
            [
             0.4444444444444444,
             "#bd3786"
            ],
            [
             0.5555555555555556,
             "#d8576b"
            ],
            [
             0.6666666666666666,
             "#ed7953"
            ],
            [
             0.7777777777777778,
             "#fb9f3a"
            ],
            [
             0.8888888888888888,
             "#fdca26"
            ],
            [
             1.0,
             "#f0f921"
            ]
           ],
           "sequentialminus": [
            [
             0.0,
             "#0d0887"
            ],
            [
             0.1111111111111111,
             "#46039f"
            ],
            [
             0.2222222222222222,
             "#7201a8"
            ],
            [
             0.3333333333333333,
             "#9c179e"
            ],
            [
             0.4444444444444444,
             "#bd3786"
            ],
            [
             0.5555555555555556,
             "#d8576b"
            ],
            [
             0.6666666666666666,
             "#ed7953"
            ],
            [
             0.7777777777777778,
             "#fb9f3a"
            ],
            [
             0.8888888888888888,
             "#fdca26"
            ],
            [
             1.0,
             "#f0f921"
            ]
           ],
           "diverging": [
            [
             0,
             "#8e0152"
            ],
            [
             0.1,
             "#c51b7d"
            ],
            [
             0.2,
             "#de77ae"
            ],
            [
             0.3,
             "#f1b6da"
            ],
            [
             0.4,
             "#fde0ef"
            ],
            [
             0.5,
             "#f7f7f7"
            ],
            [
             0.6,
             "#e6f5d0"
            ],
            [
             0.7,
             "#b8e186"
            ],
            [
             0.8,
             "#7fbc41"
            ],
            [
             0.9,
             "#4d9221"
            ],
            [
             1,
             "#276419"
            ]
           ]
          },
          "xaxis": {
           "gridcolor": "#283442",
           "linecolor": "#506784",
           "ticks": "",
           "title": {
            "standoff": 15
           },
           "zerolinecolor": "#283442",
           "automargin": true,
           "zerolinewidth": 2
          },
          "yaxis": {
           "gridcolor": "#283442",
           "linecolor": "#506784",
           "ticks": "",
           "title": {
            "standoff": 15
           },
           "zerolinecolor": "#283442",
           "automargin": true,
           "zerolinewidth": 2
          },
          "scene": {
           "xaxis": {
            "backgroundcolor": "rgb(17,17,17)",
            "gridcolor": "#506784",
            "linecolor": "#506784",
            "showbackground": true,
            "ticks": "",
            "zerolinecolor": "#C8D4E3",
            "gridwidth": 2
           },
           "yaxis": {
            "backgroundcolor": "rgb(17,17,17)",
            "gridcolor": "#506784",
            "linecolor": "#506784",
            "showbackground": true,
            "ticks": "",
            "zerolinecolor": "#C8D4E3",
            "gridwidth": 2
           },
           "zaxis": {
            "backgroundcolor": "rgb(17,17,17)",
            "gridcolor": "#506784",
            "linecolor": "#506784",
            "showbackground": true,
            "ticks": "",
            "zerolinecolor": "#C8D4E3",
            "gridwidth": 2
           }
          },
          "shapedefaults": {
           "line": {
            "color": "#f2f5fa"
           }
          },
          "annotationdefaults": {
           "arrowcolor": "#f2f5fa",
           "arrowhead": 0,
           "arrowwidth": 1
          },
          "geo": {
           "bgcolor": "rgb(17,17,17)",
           "landcolor": "rgb(17,17,17)",
           "subunitcolor": "#506784",
           "showland": true,
           "showlakes": true,
           "lakecolor": "rgb(17,17,17)"
          },
          "title": {
           "x": 0.05
          },
          "updatemenudefaults": {
           "bgcolor": "#506784",
           "borderwidth": 0
          },
          "sliderdefaults": {
           "bgcolor": "#C8D4E3",
           "borderwidth": 1,
           "bordercolor": "rgb(17,17,17)",
           "tickwidth": 0
          },
          "mapbox": {
           "style": "dark"
          }
         }
        },
        "title": {
         "text": "Sunburst Chart of Example Food Sequences"
        },
        "uniformtext": {
         "minsize": 12,
         "mode": "hide"
        }
       },
       "config": {
        "plotlyServerURL": "https://plot.ly"
       }
      }
     },
     "metadata": {},
     "output_type": "display_data"
    }
   ],
   "execution_count": 6
  },
  {
   "metadata": {},
   "cell_type": "markdown",
   "source": [
    "# EPA Example\n",
    "The example assumes that you ran `jupyter notebook` from the `notebooks` directory of the repository. If you ran it from another folder, fix the paths so that Jupyter can locate the data file."
   ],
   "id": "8489a69c0092ca12"
  },
  {
   "metadata": {
    "ExecuteTime": {
     "end_time": "2025-08-30T17:06:36.255866Z",
     "start_time": "2025-08-30T17:06:36.183855Z"
    }
   },
   "cell_type": "code",
   "source": [
    "# Load the web log data from the CSV file\n",
    "epa_df = pd.read_csv('../data/epa_log.csv')\n"
   ],
   "id": "35d7958ede12856c",
   "outputs": [],
   "execution_count": 8
  },
  {
   "metadata": {
    "ExecuteTime": {
     "end_time": "2025-08-30T17:06:37.968568Z",
     "start_time": "2025-08-30T17:06:37.931062Z"
    }
   },
   "cell_type": "code",
   "source": [
    "epa_df['datetime'] = pd.to_datetime(epa_df['datetime'], format='mixed', errors='coerce')\n",
    "# Order the data by host and datetime\n",
    "epa_ordered = epa_df.sort_values(by=['host', 'datetime']).copy()\n",
    "\n",
    "# Get time differences between rows in minutes\n",
    "epa_ordered['time_diff'] = epa_ordered.groupby('host')['datetime'].diff().dt.total_seconds() / 60\n",
    "\n",
    "# Determine new sessions based on host change or time cutoff\n",
    "session_time_cutoff = 15\n",
    "epa_ordered['new_session'] = (epa_ordered['host'] != epa_ordered['host'].shift(1)) | \\\n",
    "                             (epa_ordered['time_diff'] >= session_time_cutoff)\n",
    "epa_ordered.loc[0, 'new_session'] = True\n",
    "epa_ordered['session'] = epa_ordered['new_session'].cumsum()\n",
    "\n",
    "# Filter for HTML pages and prepare for sunburst processing\n",
    "epa_html = epa_ordered[epa_ordered['pagetype'] == 'html'].copy()\n",
    "epa_html['page'] = epa_html['page'].str.replace('-', '_')\n",
    "\n",
    "def create_sequence(pages):\n",
    "    return '-'.join(pages.head(5))"
   ],
   "id": "faf52f41fbd1992c",
   "outputs": [],
   "execution_count": 9
  },
  {
   "metadata": {
    "ExecuteTime": {
     "end_time": "2025-08-30T17:06:40.189116Z",
     "start_time": "2025-08-30T17:06:40.153415Z"
    }
   },
   "cell_type": "code",
   "source": [
    "# Group by session and create sequences\n",
    "epa_sequences = epa_html.groupby('session')['page'].apply(create_sequence).reset_index()\n",
    "epa_sequences.columns = ['session', 'sequence']\n",
    "\n",
    "# Get frequency of each sequence\n",
    "epa_sequences_freq = epa_sequences['sequence'].value_counts().reset_index()\n",
    "epa_sequences_freq.columns = ['path', 'count']\n",
    "\n",
    "# Filter for sequences with more than one occurrence\n",
    "epa_sequences_freq_filtered = epa_sequences_freq[epa_sequences_freq['count'] > 1].copy()\n",
    "\n",
    "# Build Sunburst Hierarchy and Colors\n",
    "# Create a color map for the unique pages\n",
    "unique_pages = pd.Series(epa_sequences_freq_filtered['path'].str.split('-')).explode().unique()\n",
    "colors = px.colors.qualitative.Plotly\n",
    "color_map = {page: colors[i % len(colors)] for i, page in enumerate(unique_pages)}"
   ],
   "id": "e014b414635c49de",
   "outputs": [],
   "execution_count": 10
  },
  {
   "metadata": {
    "ExecuteTime": {
     "end_time": "2025-08-30T17:06:41.945633Z",
     "start_time": "2025-08-30T17:06:41.938468Z"
    }
   },
   "cell_type": "code",
   "source": [
    "def build_epa_sunburst_data(df):\n",
    "    node_data = []\n",
    "    added_nodes = set()\n",
    "\n",
    "    for _, row in df.iterrows():\n",
    "        path = row['path']\n",
    "        value = row['count']\n",
    "        nodes = path.split('-')\n",
    "\n",
    "        for i in range(1, len(nodes) + 1):\n",
    "            current_path = '-'.join(nodes[:i])\n",
    "            parent_path = '-'.join(nodes[:i-1]) if i > 1 else ''\n",
    "\n",
    "            if current_path not in added_nodes:\n",
    "                label = nodes[i-1]\n",
    "                color = color_map.get(label, '#CCCCCC')\n",
    "                node_data.append({\n",
    "                    'id': current_path,\n",
    "                    'parent': parent_path,\n",
    "                    'label': label,\n",
    "                    'value': 0,\n",
    "                    'color': color\n",
    "                })\n",
    "                added_nodes.add(current_path)\n",
    "\n",
    "            if i == len(nodes):\n",
    "                for node in node_data:\n",
    "                    if node['id'] == current_path:\n",
    "                        node['value'] = value\n",
    "                        break\n",
    "\n",
    "    return pd.DataFrame(node_data)\n",
    "\n",
    "sunburst_df_epa = build_epa_sunburst_data(epa_sequences_freq_filtered)"
   ],
   "id": "b13db34dfe968484",
   "outputs": [],
   "execution_count": 11
  },
  {
   "metadata": {
    "ExecuteTime": {
     "end_time": "2025-08-30T17:06:44.548923Z",
     "start_time": "2025-08-30T17:06:44.537419Z"
    }
   },
   "cell_type": "code",
   "source": [
    "# Create the Sunburst Plot\n",
    "fig_final = go.Figure(go.Sunburst(\n",
    "    ids=sunburst_df_epa['id'],\n",
    "    labels=sunburst_df_epa['label'],\n",
    "    parents=sunburst_df_epa['parent'],\n",
    "    values=sunburst_df_epa['value'],\n",
    "    marker_colors=sunburst_df_epa['color'],\n",
    "    insidetextorientation='radial',\n",
    "    domain={'x': [0, 1], 'y': [0, 1]}\n",
    "))\n",
    "\n",
    "fig_final.update_layout(\n",
    "    title_text='Web Log Sunburst Chart',\n",
    "    uniformtext=dict(minsize=12, mode='hide')\n",
    ")\n",
    "\n",
    "fig_final.show()"
   ],
   "id": "6f8f05f7dcbf4641",
   "outputs": [
    {
     "data": {
      "application/vnd.plotly.v1+json": {
       "data": [
        {
         "domain": {
          "x": [
           0,
           1
          ],
          "y": [
           0,
           1
          ]
         },
         "ids": [
          "/Rules.html",
          "/docs/CSO.html",
          "/docs/Internet.html",
          "/docs/Government.html",
          "/Info.html",
          "/docs/Environment.html",
          "/information.html",
          "/docs/oppe/spatial.html",
          "/Software.html",
          "/docs/WhatsNew.html",
          "/nep/nep.html",
          "/docs/WhatsHot.html",
          "/News.html",
          "/docs/browner/adminbio.html",
          "/enviro/html/ef_home.html",
          "/Research.html",
          "/docs/feedback.html",
          "/docs/major.html",
          "/Press.html",
          "/docs/Welcome/EPA.html",
          "/docs/ozone/index.html",
          "/docs/pubwais.html",
          "/Initiatives.html",
          "/docs/ozone/othlinks.html",
          "/305b/sum1.html",
          "/docs/GCDOAR/landfill.html",
          "/PIC.html",
          "/PIC.html-/docs/titlesearch.html",
          "/docs/Internet.html-/docs/Internet.html",
          "/Consumer.html",
          "/Offices.html",
          "/docs/GCDOAR/OAR_APPD.html",
          "/docs/GCDOAR/EnergyStar.html",
          "/docs/Access/chapter6/chapter6.html",
          "/docs/ngispr/natgispr.html",
          "/docs/GPO.html",
          "/gumpo/gulf_index.html",
          "/Standards.html",
          "/OWOW/Budget.html",
          "/docs/HowToWais.html",
          "/Info.html-/docs/Procurement.html",
          "/docs/Water.html",
          "/Rules.html-/Rules.html",
          "/Software.html-/docs/AIRSExec/overview.html",
          "/docs/WhatsNew.html-/docs/WhatsHot.html",
          "/Research.html-/docs/Idaho.html",
          "/Press.html-/OWOW/Budget.html",
          "/docs/EPAFR_CONTENTS/1995/August/Day_29/pr_231.html",
          "/Region5/home.html",
          "/docs/Welcome/EPA.html-/information.html",
          "/nep/nep.html-/nep/neplist.html",
          "/Software.html-/enviro/html/ef_home.html",
          "/Info.html-/docs/hrmd/vacancy/5_al1.txt.html",
          "/docs/GCDOAR/gcd_pubs.html",
          "/docs/major.html-/docs/ngispr/natgispr.html",
          "/docs/Contacts/bbs/ttnbbs.html",
          "/nep/nepbroc.html",
          "/docs/chemfact/chemlist.txt.html",
          "/docs/GCDOAR/ruminant.html",
          "/region10/www/r10.html",
          "/docs/ORD/indexN.html",
          "/docs/EPA_PEST/1995/August/Day_25/pr_385.html",
          "/docs/OER/RFA/finalrfa.txt.html/",
          "/docs/ORD/Briefs.html",
          "/docs/ORD/smallcom.html",
          "/docs/GCDOAR/gas_home.html",
          "/docs/GCDOAR/gas_home.html-/docs/GCDOAR/ngas_gri.html",
          "/OWOW/sec7/index.html",
          "/docs/ozone/spdgraph.html",
          "/docs/Searchable.html",
          "/docs/ozone/mbr/mbrqa.html",
          "/docs/oejpubs/iwgfacts.txt.html",
          "/docs/oejpubs/iwgfacts.txt.html-/docs/oejpubs/execordr.txt.html",
          "/docs/GCDOAR/esb_home.html",
          "/Offices.html-/docs/PestToxics.html",
          "/docs/gumpo/gulf_index.html",
          "/docs/Region6/r06.html",
          "/docs/ozone/index.html-/docs/ozone/uvindex/uvover.html",
          "/docs/lead_pm/lead.txt.html",
          "/Software.html-/docs/FreeSfw/description.html",
          "/Initiatives.html-/docs/AdminSpeeches/actagen.txt.html",
          "/Internet.html",
          "/Research.html-/docs/campus/campus.html",
          "/docs/Internet.html-/docs/Internet.html-/docs/Internet.html",
          "/Software.html-/docs/SWMM_WINDOWS/readme.1st.html",
          "/Software.html-/docs/SWMM_WINDOWS/readme.1st.html-/docs/SWMM_WINDOWS/swmm.met.html",
          "/docs/ozone/index2.html",
          "/docs/ozone/index2.html-/docs/ozone/index2.html",
          "/docs/GCDOAR/OAR_APPD.html-/docs/GCDOAR/download.html",
          "/docs/GCDOAR/glbsuppt.html",
          "/docs/GCDOAR/StarBytes.html",
          "/docs/GCDOAR/GreenLights.html",
          "/docs/GCDOAR/coalhome.html",
          "/docs/OSWRCRA/hazwaste/ldr/metamemo.txt.html",
          "/docs/OSWRCRA/hazwaste/ldr/metamemo.txt.html-/docs/OSWRCRA/hazwaste/ldr/index.html",
          "/docs/OSWRCRA/hazwaste/ldr/metamemo.txt.html-/docs/OSWRCRA/hazwaste/ldr/index.html-/docs/OSWRCRA/hazwaste/ldr/memorcra.txt.html",
          "/Initiatives.html-/Rules.html",
          "/Rules.html-/Rules.html-/Rules.html",
          "/docs/EPA_PEST/1995/August/Day_25/pr_385.html-/docs/EPA_PEST/1995/August/Day_25/pr_385.html",
          "/region10/www/softlib.html",
          "/docs/PressReleases/1995/August/Day_28/pr_431.html",
          "/docs/Government.html-/docs/Government.html",
          "/docs/Government.html-/docs/Government.html-/docs/Internet.html",
          "/ProjectXL/xl_proj.html",
          "/docs/Welcome/EPA.html-/docs/Welcome/EPA.html",
          "/docs/ngispr/natgispr.html-/docs/ngispr/metalulc.html",
          "/docs/GCDOAR/esc_home.html",
          "/docs/GCDOAR/esc_home.html-/docs/GCDOAR/esc_home.html",
          "/Rules.html-/docs/HowToWais.html",
          "/docs/EPA_AIR/1995/August/Day_29/pr_959.html",
          "/docs/CSO.html-/docs/WhatsHot.html",
          "/docs/ozone/index.html-/docs/ozone/science/science.html",
          "/docs/ozone/index.html-/docs/ozone/science/science.html-/docs/ozone/science/q_a.html",
          "/docs/ozone/index.html-/docs/ozone/science/science.html-/docs/ozone/science/q_a.html-/docs/ozone/science/process.html",
          "/Region5/home.html-/Region5/home.html",
          "/Offices.html-/docs/Solids.html",
          "/docs/ISI/Public_Information_Systems.html",
          "/docs/GCDOAR/gazprom.html",
          "/docs/WhatsHot.html-/docs/FreeSfw/description.html",
          "/docs/exposure/exposure.wp.html",
          "/Rules.html-/information.html",
          "/docs/CSO.html-/docs/Internet.html",
          "/docs/pubwais.html-/docs/HowToWais.html",
          "/Info.html-/docs/Procurement.html-/docs/conlist/conlist.html",
          "/gumpo/emap_dat.html",
          "/PIC.html-/docs/WhatsNew.html",
          "/PIC.html-/docs/WhatsNew.html-/docs/WhatsHot.html",
          "/region10/www/siteinfo.html",
          "/docs/GCDOAR/OAR_APPD.html-/docs/GCDOAR/gcd_pubs.html",
          "/Standards.html-/docs/Environment.html",
          "/docs/Winter95/09.txt.html",
          "/docs/ORD/Accomp.html",
          "/Press.html-/Rules.html",
          "/docs/major.html-/enviro/html/ef_home.html",
          "/docs/major.html-/enviro/html/ef_home.html-/enviro/html/tris/tris_overview.html",
          "/docs/major.html-/enviro/html/ef_home.html-/enviro/html/tris/tris_overview.html-/enviro/html/tris/tris_query.html",
          "/cgi_bin/metalulc.html",
          "/Standards.html-/PIC.html",
          "/Standards.html-/PIC.html-/docs/titlesearch.html",
          "/Info.html-/docs/OER/RFA/etirfa.txt.html",
          "/docs/GCDOAR/glb_home.html",
          "/Rules.html-/docs/Misc/CFRDisclaimer.html",
          "/docs/GCDOAR/agstar.html",
          "/OWOW/text.html",
          "/OWOW/text.html-/OWOW/sec15/index.html",
          "/docs/GCDOAR/gcd_pubs.html-/docs/GCDOAR/OAR_APPD.html",
          "/docs/GCDOAR/EnergyStar.html-/docs/GCDOAR/homes.html",
          "/docs/Water.html-/docs/SWMM_WINDOWS/readme.1st.html",
          "/Software.html-/docs/FreeSfw/Acrobat.txt.html",
          "/docs/ozone/index.html-/docs/ozone/othlinks.html",
          "/information.html-/docs/feedback.html",
          "/News.html-/Research.html",
          "/docs/titlesearch.html",
          "/Consumer.html-/docs/lead_pm/lead.txt.html",
          "/information.html-/docs/Welcome/Servers.html",
          "/docs/gumpo/gulf_index.html-/gumpo/partnership.html",
          "/OWOW/index.html",
          "/docs/ERNS/docs/erns_dic.txt.html",
          "/docs/eparegions/region1.html",
          "/docs/eparegions/region1.html-/docs/eparegions/region1.html",
          "/Offices.html-/docs/region10/www/r10.html",
          "/PIC.html-/docs/titlesearch.html-/docs/Searchable.html",
          "/Rules.html-/docs/EPAFR_CONTENTS/1995/August/Day_29/pr_231.html",
          "/Research.html-/docs/campus/campus.html-/docs/Idaho.html"
         ],
         "insidetextorientation": "radial",
         "labels": [
          "/Rules.html",
          "/docs/CSO.html",
          "/docs/Internet.html",
          "/docs/Government.html",
          "/Info.html",
          "/docs/Environment.html",
          "/information.html",
          "/docs/oppe/spatial.html",
          "/Software.html",
          "/docs/WhatsNew.html",
          "/nep/nep.html",
          "/docs/WhatsHot.html",
          "/News.html",
          "/docs/browner/adminbio.html",
          "/enviro/html/ef_home.html",
          "/Research.html",
          "/docs/feedback.html",
          "/docs/major.html",
          "/Press.html",
          "/docs/Welcome/EPA.html",
          "/docs/ozone/index.html",
          "/docs/pubwais.html",
          "/Initiatives.html",
          "/docs/ozone/othlinks.html",
          "/305b/sum1.html",
          "/docs/GCDOAR/landfill.html",
          "/PIC.html",
          "/docs/titlesearch.html",
          "/docs/Internet.html",
          "/Consumer.html",
          "/Offices.html",
          "/docs/GCDOAR/OAR_APPD.html",
          "/docs/GCDOAR/EnergyStar.html",
          "/docs/Access/chapter6/chapter6.html",
          "/docs/ngispr/natgispr.html",
          "/docs/GPO.html",
          "/gumpo/gulf_index.html",
          "/Standards.html",
          "/OWOW/Budget.html",
          "/docs/HowToWais.html",
          "/docs/Procurement.html",
          "/docs/Water.html",
          "/Rules.html",
          "/docs/AIRSExec/overview.html",
          "/docs/WhatsHot.html",
          "/docs/Idaho.html",
          "/OWOW/Budget.html",
          "/docs/EPAFR_CONTENTS/1995/August/Day_29/pr_231.html",
          "/Region5/home.html",
          "/information.html",
          "/nep/neplist.html",
          "/enviro/html/ef_home.html",
          "/docs/hrmd/vacancy/5_al1.txt.html",
          "/docs/GCDOAR/gcd_pubs.html",
          "/docs/ngispr/natgispr.html",
          "/docs/Contacts/bbs/ttnbbs.html",
          "/nep/nepbroc.html",
          "/docs/chemfact/chemlist.txt.html",
          "/docs/GCDOAR/ruminant.html",
          "/region10/www/r10.html",
          "/docs/ORD/indexN.html",
          "/docs/EPA_PEST/1995/August/Day_25/pr_385.html",
          "/docs/OER/RFA/finalrfa.txt.html/",
          "/docs/ORD/Briefs.html",
          "/docs/ORD/smallcom.html",
          "/docs/GCDOAR/gas_home.html",
          "/docs/GCDOAR/ngas_gri.html",
          "/OWOW/sec7/index.html",
          "/docs/ozone/spdgraph.html",
          "/docs/Searchable.html",
          "/docs/ozone/mbr/mbrqa.html",
          "/docs/oejpubs/iwgfacts.txt.html",
          "/docs/oejpubs/execordr.txt.html",
          "/docs/GCDOAR/esb_home.html",
          "/docs/PestToxics.html",
          "/docs/gumpo/gulf_index.html",
          "/docs/Region6/r06.html",
          "/docs/ozone/uvindex/uvover.html",
          "/docs/lead_pm/lead.txt.html",
          "/docs/FreeSfw/description.html",
          "/docs/AdminSpeeches/actagen.txt.html",
          "/Internet.html",
          "/docs/campus/campus.html",
          "/docs/Internet.html",
          "/docs/SWMM_WINDOWS/readme.1st.html",
          "/docs/SWMM_WINDOWS/swmm.met.html",
          "/docs/ozone/index2.html",
          "/docs/ozone/index2.html",
          "/docs/GCDOAR/download.html",
          "/docs/GCDOAR/glbsuppt.html",
          "/docs/GCDOAR/StarBytes.html",
          "/docs/GCDOAR/GreenLights.html",
          "/docs/GCDOAR/coalhome.html",
          "/docs/OSWRCRA/hazwaste/ldr/metamemo.txt.html",
          "/docs/OSWRCRA/hazwaste/ldr/index.html",
          "/docs/OSWRCRA/hazwaste/ldr/memorcra.txt.html",
          "/Rules.html",
          "/Rules.html",
          "/docs/EPA_PEST/1995/August/Day_25/pr_385.html",
          "/region10/www/softlib.html",
          "/docs/PressReleases/1995/August/Day_28/pr_431.html",
          "/docs/Government.html",
          "/docs/Internet.html",
          "/ProjectXL/xl_proj.html",
          "/docs/Welcome/EPA.html",
          "/docs/ngispr/metalulc.html",
          "/docs/GCDOAR/esc_home.html",
          "/docs/GCDOAR/esc_home.html",
          "/docs/HowToWais.html",
          "/docs/EPA_AIR/1995/August/Day_29/pr_959.html",
          "/docs/WhatsHot.html",
          "/docs/ozone/science/science.html",
          "/docs/ozone/science/q_a.html",
          "/docs/ozone/science/process.html",
          "/Region5/home.html",
          "/docs/Solids.html",
          "/docs/ISI/Public_Information_Systems.html",
          "/docs/GCDOAR/gazprom.html",
          "/docs/FreeSfw/description.html",
          "/docs/exposure/exposure.wp.html",
          "/information.html",
          "/docs/Internet.html",
          "/docs/HowToWais.html",
          "/docs/conlist/conlist.html",
          "/gumpo/emap_dat.html",
          "/docs/WhatsNew.html",
          "/docs/WhatsHot.html",
          "/region10/www/siteinfo.html",
          "/docs/GCDOAR/gcd_pubs.html",
          "/docs/Environment.html",
          "/docs/Winter95/09.txt.html",
          "/docs/ORD/Accomp.html",
          "/Rules.html",
          "/enviro/html/ef_home.html",
          "/enviro/html/tris/tris_overview.html",
          "/enviro/html/tris/tris_query.html",
          "/cgi_bin/metalulc.html",
          "/PIC.html",
          "/docs/titlesearch.html",
          "/docs/OER/RFA/etirfa.txt.html",
          "/docs/GCDOAR/glb_home.html",
          "/docs/Misc/CFRDisclaimer.html",
          "/docs/GCDOAR/agstar.html",
          "/OWOW/text.html",
          "/OWOW/sec15/index.html",
          "/docs/GCDOAR/OAR_APPD.html",
          "/docs/GCDOAR/homes.html",
          "/docs/SWMM_WINDOWS/readme.1st.html",
          "/docs/FreeSfw/Acrobat.txt.html",
          "/docs/ozone/othlinks.html",
          "/docs/feedback.html",
          "/Research.html",
          "/docs/titlesearch.html",
          "/docs/lead_pm/lead.txt.html",
          "/docs/Welcome/Servers.html",
          "/gumpo/partnership.html",
          "/OWOW/index.html",
          "/docs/ERNS/docs/erns_dic.txt.html",
          "/docs/eparegions/region1.html",
          "/docs/eparegions/region1.html",
          "/docs/region10/www/r10.html",
          "/docs/Searchable.html",
          "/docs/EPAFR_CONTENTS/1995/August/Day_29/pr_231.html",
          "/docs/Idaho.html"
         ],
         "marker": {
          "colors": [
           "#636EFA",
           "#EF553B",
           "#00CC96",
           "#AB63FA",
           "#FFA15A",
           "#19D3F3",
           "#FF6692",
           "#B6E880",
           "#FF97FF",
           "#FECB52",
           "#636EFA",
           "#EF553B",
           "#00CC96",
           "#AB63FA",
           "#FFA15A",
           "#19D3F3",
           "#FF6692",
           "#B6E880",
           "#FF97FF",
           "#FECB52",
           "#636EFA",
           "#EF553B",
           "#00CC96",
           "#AB63FA",
           "#FFA15A",
           "#19D3F3",
           "#FF6692",
           "#B6E880",
           "#00CC96",
           "#FF97FF",
           "#FECB52",
           "#636EFA",
           "#EF553B",
           "#00CC96",
           "#AB63FA",
           "#FFA15A",
           "#19D3F3",
           "#FF6692",
           "#B6E880",
           "#FF97FF",
           "#FECB52",
           "#636EFA",
           "#636EFA",
           "#EF553B",
           "#EF553B",
           "#00CC96",
           "#B6E880",
           "#AB63FA",
           "#FFA15A",
           "#FF6692",
           "#19D3F3",
           "#FFA15A",
           "#FF6692",
           "#B6E880",
           "#AB63FA",
           "#FF97FF",
           "#FECB52",
           "#636EFA",
           "#EF553B",
           "#00CC96",
           "#AB63FA",
           "#FFA15A",
           "#19D3F3",
           "#FF6692",
           "#B6E880",
           "#FF97FF",
           "#FECB52",
           "#636EFA",
           "#EF553B",
           "#00CC96",
           "#AB63FA",
           "#FFA15A",
           "#19D3F3",
           "#FF6692",
           "#B6E880",
           "#FF97FF",
           "#FECB52",
           "#636EFA",
           "#EF553B",
           "#00CC96",
           "#AB63FA",
           "#FFA15A",
           "#19D3F3",
           "#00CC96",
           "#FF6692",
           "#B6E880",
           "#FF97FF",
           "#FF97FF",
           "#FECB52",
           "#636EFA",
           "#EF553B",
           "#00CC96",
           "#AB63FA",
           "#FFA15A",
           "#19D3F3",
           "#FF6692",
           "#636EFA",
           "#636EFA",
           "#FFA15A",
           "#B6E880",
           "#FF97FF",
           "#AB63FA",
           "#00CC96",
           "#FECB52",
           "#FECB52",
           "#636EFA",
           "#EF553B",
           "#EF553B",
           "#FF97FF",
           "#00CC96",
           "#EF553B",
           "#AB63FA",
           "#FFA15A",
           "#19D3F3",
           "#FFA15A",
           "#FF6692",
           "#B6E880",
           "#FF97FF",
           "#00CC96",
           "#FECB52",
           "#FF6692",
           "#00CC96",
           "#FF97FF",
           "#636EFA",
           "#EF553B",
           "#FECB52",
           "#EF553B",
           "#00CC96",
           "#B6E880",
           "#19D3F3",
           "#AB63FA",
           "#FFA15A",
           "#636EFA",
           "#FFA15A",
           "#19D3F3",
           "#FF6692",
           "#B6E880",
           "#FF6692",
           "#B6E880",
           "#FF97FF",
           "#FECB52",
           "#636EFA",
           "#EF553B",
           "#00CC96",
           "#AB63FA",
           "#636EFA",
           "#FFA15A",
           "#FF6692",
           "#19D3F3",
           "#AB63FA",
           "#FF6692",
           "#19D3F3",
           "#B6E880",
           "#EF553B",
           "#FF6692",
           "#B6E880",
           "#FF97FF",
           "#FECB52",
           "#636EFA",
           "#636EFA",
           "#EF553B",
           "#00CC96",
           "#AB63FA",
           "#00CC96"
          ]
         },
         "parents": [
          "",
          "",
          "",
          "",
          "",
          "",
          "",
          "",
          "",
          "",
          "",
          "",
          "",
          "",
          "",
          "",
          "",
          "",
          "",
          "",
          "",
          "",
          "",
          "",
          "",
          "",
          "",
          "/PIC.html",
          "/docs/Internet.html",
          "",
          "",
          "",
          "",
          "",
          "",
          "",
          "",
          "",
          "",
          "",
          "/Info.html",
          "",
          "/Rules.html",
          "/Software.html",
          "/docs/WhatsNew.html",
          "/Research.html",
          "/Press.html",
          "",
          "",
          "/docs/Welcome/EPA.html",
          "/nep/nep.html",
          "/Software.html",
          "/Info.html",
          "",
          "/docs/major.html",
          "",
          "",
          "",
          "",
          "",
          "",
          "",
          "",
          "",
          "",
          "",
          "/docs/GCDOAR/gas_home.html",
          "",
          "",
          "",
          "",
          "",
          "/docs/oejpubs/iwgfacts.txt.html",
          "",
          "/Offices.html",
          "",
          "",
          "/docs/ozone/index.html",
          "",
          "/Software.html",
          "/Initiatives.html",
          "",
          "/Research.html",
          "/docs/Internet.html-/docs/Internet.html",
          "/Software.html",
          "/Software.html-/docs/SWMM_WINDOWS/readme.1st.html",
          "",
          "/docs/ozone/index2.html",
          "/docs/GCDOAR/OAR_APPD.html",
          "",
          "",
          "",
          "",
          "",
          "/docs/OSWRCRA/hazwaste/ldr/metamemo.txt.html",
          "/docs/OSWRCRA/hazwaste/ldr/metamemo.txt.html-/docs/OSWRCRA/hazwaste/ldr/index.html",
          "/Initiatives.html",
          "/Rules.html-/Rules.html",
          "/docs/EPA_PEST/1995/August/Day_25/pr_385.html",
          "",
          "",
          "/docs/Government.html",
          "/docs/Government.html-/docs/Government.html",
          "",
          "/docs/Welcome/EPA.html",
          "/docs/ngispr/natgispr.html",
          "",
          "/docs/GCDOAR/esc_home.html",
          "/Rules.html",
          "",
          "/docs/CSO.html",
          "/docs/ozone/index.html",
          "/docs/ozone/index.html-/docs/ozone/science/science.html",
          "/docs/ozone/index.html-/docs/ozone/science/science.html-/docs/ozone/science/q_a.html",
          "/Region5/home.html",
          "/Offices.html",
          "",
          "",
          "/docs/WhatsHot.html",
          "",
          "/Rules.html",
          "/docs/CSO.html",
          "/docs/pubwais.html",
          "/Info.html-/docs/Procurement.html",
          "",
          "/PIC.html",
          "/PIC.html-/docs/WhatsNew.html",
          "",
          "/docs/GCDOAR/OAR_APPD.html",
          "/Standards.html",
          "",
          "",
          "/Press.html",
          "/docs/major.html",
          "/docs/major.html-/enviro/html/ef_home.html",
          "/docs/major.html-/enviro/html/ef_home.html-/enviro/html/tris/tris_overview.html",
          "",
          "/Standards.html",
          "/Standards.html-/PIC.html",
          "/Info.html",
          "",
          "/Rules.html",
          "",
          "",
          "/OWOW/text.html",
          "/docs/GCDOAR/gcd_pubs.html",
          "/docs/GCDOAR/EnergyStar.html",
          "/docs/Water.html",
          "/Software.html",
          "/docs/ozone/index.html",
          "/information.html",
          "/News.html",
          "",
          "/Consumer.html",
          "/information.html",
          "/docs/gumpo/gulf_index.html",
          "",
          "",
          "",
          "/docs/eparegions/region1.html",
          "/Offices.html",
          "/PIC.html-/docs/titlesearch.html",
          "/Rules.html",
          "/Research.html-/docs/campus/campus.html"
         ],
         "values": {
          "dtype": "i1",
          "bdata": "NTItISEeFxUUFA8MDAwLCgoKCgoKCgkJCQkICAgHBwcHBgYGBgYFBQUEBAQEBAQEBAQEBAQEBAQEAwMDAwMDAwMDAwMDAwMAAwMDAwICAgICAgICAAIAAgICAgICAAACAgICAgIAAgICAgACAgICAAACAgICAgICAgICAgIAAgICAgICAgAAAgIAAgICAgIAAgICAgICAgICAgICAgIAAgICAgI="
         },
         "type": "sunburst"
        }
       ],
       "layout": {
        "template": {
         "data": {
          "histogram2dcontour": [
           {
            "type": "histogram2dcontour",
            "colorbar": {
             "outlinewidth": 0,
             "ticks": ""
            },
            "colorscale": [
             [
              0.0,
              "#0d0887"
             ],
             [
              0.1111111111111111,
              "#46039f"
             ],
             [
              0.2222222222222222,
              "#7201a8"
             ],
             [
              0.3333333333333333,
              "#9c179e"
             ],
             [
              0.4444444444444444,
              "#bd3786"
             ],
             [
              0.5555555555555556,
              "#d8576b"
             ],
             [
              0.6666666666666666,
              "#ed7953"
             ],
             [
              0.7777777777777778,
              "#fb9f3a"
             ],
             [
              0.8888888888888888,
              "#fdca26"
             ],
             [
              1.0,
              "#f0f921"
             ]
            ]
           }
          ],
          "choropleth": [
           {
            "type": "choropleth",
            "colorbar": {
             "outlinewidth": 0,
             "ticks": ""
            }
           }
          ],
          "histogram2d": [
           {
            "type": "histogram2d",
            "colorbar": {
             "outlinewidth": 0,
             "ticks": ""
            },
            "colorscale": [
             [
              0.0,
              "#0d0887"
             ],
             [
              0.1111111111111111,
              "#46039f"
             ],
             [
              0.2222222222222222,
              "#7201a8"
             ],
             [
              0.3333333333333333,
              "#9c179e"
             ],
             [
              0.4444444444444444,
              "#bd3786"
             ],
             [
              0.5555555555555556,
              "#d8576b"
             ],
             [
              0.6666666666666666,
              "#ed7953"
             ],
             [
              0.7777777777777778,
              "#fb9f3a"
             ],
             [
              0.8888888888888888,
              "#fdca26"
             ],
             [
              1.0,
              "#f0f921"
             ]
            ]
           }
          ],
          "heatmap": [
           {
            "type": "heatmap",
            "colorbar": {
             "outlinewidth": 0,
             "ticks": ""
            },
            "colorscale": [
             [
              0.0,
              "#0d0887"
             ],
             [
              0.1111111111111111,
              "#46039f"
             ],
             [
              0.2222222222222222,
              "#7201a8"
             ],
             [
              0.3333333333333333,
              "#9c179e"
             ],
             [
              0.4444444444444444,
              "#bd3786"
             ],
             [
              0.5555555555555556,
              "#d8576b"
             ],
             [
              0.6666666666666666,
              "#ed7953"
             ],
             [
              0.7777777777777778,
              "#fb9f3a"
             ],
             [
              0.8888888888888888,
              "#fdca26"
             ],
             [
              1.0,
              "#f0f921"
             ]
            ]
           }
          ],
          "contourcarpet": [
           {
            "type": "contourcarpet",
            "colorbar": {
             "outlinewidth": 0,
             "ticks": ""
            }
           }
          ],
          "contour": [
           {
            "type": "contour",
            "colorbar": {
             "outlinewidth": 0,
             "ticks": ""
            },
            "colorscale": [
             [
              0.0,
              "#0d0887"
             ],
             [
              0.1111111111111111,
              "#46039f"
             ],
             [
              0.2222222222222222,
              "#7201a8"
             ],
             [
              0.3333333333333333,
              "#9c179e"
             ],
             [
              0.4444444444444444,
              "#bd3786"
             ],
             [
              0.5555555555555556,
              "#d8576b"
             ],
             [
              0.6666666666666666,
              "#ed7953"
             ],
             [
              0.7777777777777778,
              "#fb9f3a"
             ],
             [
              0.8888888888888888,
              "#fdca26"
             ],
             [
              1.0,
              "#f0f921"
             ]
            ]
           }
          ],
          "surface": [
           {
            "type": "surface",
            "colorbar": {
             "outlinewidth": 0,
             "ticks": ""
            },
            "colorscale": [
             [
              0.0,
              "#0d0887"
             ],
             [
              0.1111111111111111,
              "#46039f"
             ],
             [
              0.2222222222222222,
              "#7201a8"
             ],
             [
              0.3333333333333333,
              "#9c179e"
             ],
             [
              0.4444444444444444,
              "#bd3786"
             ],
             [
              0.5555555555555556,
              "#d8576b"
             ],
             [
              0.6666666666666666,
              "#ed7953"
             ],
             [
              0.7777777777777778,
              "#fb9f3a"
             ],
             [
              0.8888888888888888,
              "#fdca26"
             ],
             [
              1.0,
              "#f0f921"
             ]
            ]
           }
          ],
          "mesh3d": [
           {
            "type": "mesh3d",
            "colorbar": {
             "outlinewidth": 0,
             "ticks": ""
            }
           }
          ],
          "scatter": [
           {
            "marker": {
             "line": {
              "color": "#283442"
             }
            },
            "type": "scatter"
           }
          ],
          "parcoords": [
           {
            "type": "parcoords",
            "line": {
             "colorbar": {
              "outlinewidth": 0,
              "ticks": ""
             }
            }
           }
          ],
          "scatterpolargl": [
           {
            "type": "scatterpolargl",
            "marker": {
             "colorbar": {
              "outlinewidth": 0,
              "ticks": ""
             }
            }
           }
          ],
          "bar": [
           {
            "error_x": {
             "color": "#f2f5fa"
            },
            "error_y": {
             "color": "#f2f5fa"
            },
            "marker": {
             "line": {
              "color": "rgb(17,17,17)",
              "width": 0.5
             },
             "pattern": {
              "fillmode": "overlay",
              "size": 10,
              "solidity": 0.2
             }
            },
            "type": "bar"
           }
          ],
          "scattergeo": [
           {
            "type": "scattergeo",
            "marker": {
             "colorbar": {
              "outlinewidth": 0,
              "ticks": ""
             }
            }
           }
          ],
          "scatterpolar": [
           {
            "type": "scatterpolar",
            "marker": {
             "colorbar": {
              "outlinewidth": 0,
              "ticks": ""
             }
            }
           }
          ],
          "histogram": [
           {
            "marker": {
             "pattern": {
              "fillmode": "overlay",
              "size": 10,
              "solidity": 0.2
             }
            },
            "type": "histogram"
           }
          ],
          "scattergl": [
           {
            "marker": {
             "line": {
              "color": "#283442"
             }
            },
            "type": "scattergl"
           }
          ],
          "scatter3d": [
           {
            "type": "scatter3d",
            "line": {
             "colorbar": {
              "outlinewidth": 0,
              "ticks": ""
             }
            },
            "marker": {
             "colorbar": {
              "outlinewidth": 0,
              "ticks": ""
             }
            }
           }
          ],
          "scattermap": [
           {
            "type": "scattermap",
            "marker": {
             "colorbar": {
              "outlinewidth": 0,
              "ticks": ""
             }
            }
           }
          ],
          "scattermapbox": [
           {
            "type": "scattermapbox",
            "marker": {
             "colorbar": {
              "outlinewidth": 0,
              "ticks": ""
             }
            }
           }
          ],
          "scatterternary": [
           {
            "type": "scatterternary",
            "marker": {
             "colorbar": {
              "outlinewidth": 0,
              "ticks": ""
             }
            }
           }
          ],
          "scattercarpet": [
           {
            "type": "scattercarpet",
            "marker": {
             "colorbar": {
              "outlinewidth": 0,
              "ticks": ""
             }
            }
           }
          ],
          "carpet": [
           {
            "aaxis": {
             "endlinecolor": "#A2B1C6",
             "gridcolor": "#506784",
             "linecolor": "#506784",
             "minorgridcolor": "#506784",
             "startlinecolor": "#A2B1C6"
            },
            "baxis": {
             "endlinecolor": "#A2B1C6",
             "gridcolor": "#506784",
             "linecolor": "#506784",
             "minorgridcolor": "#506784",
             "startlinecolor": "#A2B1C6"
            },
            "type": "carpet"
           }
          ],
          "table": [
           {
            "cells": {
             "fill": {
              "color": "#506784"
             },
             "line": {
              "color": "rgb(17,17,17)"
             }
            },
            "header": {
             "fill": {
              "color": "#2a3f5f"
             },
             "line": {
              "color": "rgb(17,17,17)"
             }
            },
            "type": "table"
           }
          ],
          "barpolar": [
           {
            "marker": {
             "line": {
              "color": "rgb(17,17,17)",
              "width": 0.5
             },
             "pattern": {
              "fillmode": "overlay",
              "size": 10,
              "solidity": 0.2
             }
            },
            "type": "barpolar"
           }
          ],
          "pie": [
           {
            "automargin": true,
            "type": "pie"
           }
          ]
         },
         "layout": {
          "autotypenumbers": "strict",
          "colorway": [
           "#636efa",
           "#EF553B",
           "#00cc96",
           "#ab63fa",
           "#FFA15A",
           "#19d3f3",
           "#FF6692",
           "#B6E880",
           "#FF97FF",
           "#FECB52"
          ],
          "font": {
           "color": "#f2f5fa"
          },
          "hovermode": "closest",
          "hoverlabel": {
           "align": "left"
          },
          "paper_bgcolor": "rgb(17,17,17)",
          "plot_bgcolor": "rgb(17,17,17)",
          "polar": {
           "bgcolor": "rgb(17,17,17)",
           "angularaxis": {
            "gridcolor": "#506784",
            "linecolor": "#506784",
            "ticks": ""
           },
           "radialaxis": {
            "gridcolor": "#506784",
            "linecolor": "#506784",
            "ticks": ""
           }
          },
          "ternary": {
           "bgcolor": "rgb(17,17,17)",
           "aaxis": {
            "gridcolor": "#506784",
            "linecolor": "#506784",
            "ticks": ""
           },
           "baxis": {
            "gridcolor": "#506784",
            "linecolor": "#506784",
            "ticks": ""
           },
           "caxis": {
            "gridcolor": "#506784",
            "linecolor": "#506784",
            "ticks": ""
           }
          },
          "coloraxis": {
           "colorbar": {
            "outlinewidth": 0,
            "ticks": ""
           }
          },
          "colorscale": {
           "sequential": [
            [
             0.0,
             "#0d0887"
            ],
            [
             0.1111111111111111,
             "#46039f"
            ],
            [
             0.2222222222222222,
             "#7201a8"
            ],
            [
             0.3333333333333333,
             "#9c179e"
            ],
            [
             0.4444444444444444,
             "#bd3786"
            ],
            [
             0.5555555555555556,
             "#d8576b"
            ],
            [
             0.6666666666666666,
             "#ed7953"
            ],
            [
             0.7777777777777778,
             "#fb9f3a"
            ],
            [
             0.8888888888888888,
             "#fdca26"
            ],
            [
             1.0,
             "#f0f921"
            ]
           ],
           "sequentialminus": [
            [
             0.0,
             "#0d0887"
            ],
            [
             0.1111111111111111,
             "#46039f"
            ],
            [
             0.2222222222222222,
             "#7201a8"
            ],
            [
             0.3333333333333333,
             "#9c179e"
            ],
            [
             0.4444444444444444,
             "#bd3786"
            ],
            [
             0.5555555555555556,
             "#d8576b"
            ],
            [
             0.6666666666666666,
             "#ed7953"
            ],
            [
             0.7777777777777778,
             "#fb9f3a"
            ],
            [
             0.8888888888888888,
             "#fdca26"
            ],
            [
             1.0,
             "#f0f921"
            ]
           ],
           "diverging": [
            [
             0,
             "#8e0152"
            ],
            [
             0.1,
             "#c51b7d"
            ],
            [
             0.2,
             "#de77ae"
            ],
            [
             0.3,
             "#f1b6da"
            ],
            [
             0.4,
             "#fde0ef"
            ],
            [
             0.5,
             "#f7f7f7"
            ],
            [
             0.6,
             "#e6f5d0"
            ],
            [
             0.7,
             "#b8e186"
            ],
            [
             0.8,
             "#7fbc41"
            ],
            [
             0.9,
             "#4d9221"
            ],
            [
             1,
             "#276419"
            ]
           ]
          },
          "xaxis": {
           "gridcolor": "#283442",
           "linecolor": "#506784",
           "ticks": "",
           "title": {
            "standoff": 15
           },
           "zerolinecolor": "#283442",
           "automargin": true,
           "zerolinewidth": 2
          },
          "yaxis": {
           "gridcolor": "#283442",
           "linecolor": "#506784",
           "ticks": "",
           "title": {
            "standoff": 15
           },
           "zerolinecolor": "#283442",
           "automargin": true,
           "zerolinewidth": 2
          },
          "scene": {
           "xaxis": {
            "backgroundcolor": "rgb(17,17,17)",
            "gridcolor": "#506784",
            "linecolor": "#506784",
            "showbackground": true,
            "ticks": "",
            "zerolinecolor": "#C8D4E3",
            "gridwidth": 2
           },
           "yaxis": {
            "backgroundcolor": "rgb(17,17,17)",
            "gridcolor": "#506784",
            "linecolor": "#506784",
            "showbackground": true,
            "ticks": "",
            "zerolinecolor": "#C8D4E3",
            "gridwidth": 2
           },
           "zaxis": {
            "backgroundcolor": "rgb(17,17,17)",
            "gridcolor": "#506784",
            "linecolor": "#506784",
            "showbackground": true,
            "ticks": "",
            "zerolinecolor": "#C8D4E3",
            "gridwidth": 2
           }
          },
          "shapedefaults": {
           "line": {
            "color": "#f2f5fa"
           }
          },
          "annotationdefaults": {
           "arrowcolor": "#f2f5fa",
           "arrowhead": 0,
           "arrowwidth": 1
          },
          "geo": {
           "bgcolor": "rgb(17,17,17)",
           "landcolor": "rgb(17,17,17)",
           "subunitcolor": "#506784",
           "showland": true,
           "showlakes": true,
           "lakecolor": "rgb(17,17,17)"
          },
          "title": {
           "x": 0.05
          },
          "updatemenudefaults": {
           "bgcolor": "#506784",
           "borderwidth": 0
          },
          "sliderdefaults": {
           "bgcolor": "#C8D4E3",
           "borderwidth": 1,
           "bordercolor": "rgb(17,17,17)",
           "tickwidth": 0
          },
          "mapbox": {
           "style": "dark"
          }
         }
        },
        "title": {
         "text": "Web Log Sunburst Chart"
        },
        "uniformtext": {
         "minsize": 12,
         "mode": "hide"
        }
       },
       "config": {
        "plotlyServerURL": "https://plot.ly"
       }
      }
     },
     "metadata": {},
     "output_type": "display_data"
    }
   ],
   "execution_count": 12
  }
 ],
 "metadata": {
  "kernelspec": {
   "display_name": "Python 3",
   "language": "python",
   "name": "python3"
  },
  "language_info": {
   "codemirror_mode": {
    "name": "ipython",
    "version": 2
   },
   "file_extension": ".py",
   "mimetype": "text/x-python",
   "name": "python",
   "nbconvert_exporter": "python",
   "pygments_lexer": "ipython2",
   "version": "2.7.6"
  }
 },
 "nbformat": 4,
 "nbformat_minor": 5
}
